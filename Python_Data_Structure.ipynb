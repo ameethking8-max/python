{
  "nbformat": 4,
  "nbformat_minor": 0,
  "metadata": {
    "colab": {
      "provenance": []
    },
    "kernelspec": {
      "name": "python3",
      "display_name": "Python 3"
    },
    "language_info": {
      "name": "python"
    }
  },
  "cells": [
    {
      "cell_type": "markdown",
      "source": [
        "# Python - Data Structure\n"
      ],
      "metadata": {
        "id": "htTHu3bTcjQM"
      }
    },
    {
      "cell_type": "markdown",
      "source": [
        "1. What are data structures, and why are they important?\n",
        "  - Data structures are specialized formats for organizing, processing, and storing data in a computer so that it can be used efficiently. Think of them as blueprints or frameworks that define how data is arranged and accessed.\n",
        "\n",
        "  - Some common data structures include:\n",
        "     * Arrays: A collection of items stored at contiguous memory locations.\n",
        "     * Linked Lists: A sequence of nodes, each containing data and a        reference to the next node.\n",
        "     * Stacks: A last-in, first-out (LIFO) structure.\n",
        "     * Queues: A first-in, first-out (FIFO) structure.\n",
        "     * Hash Tables: Store key-value pairs for fast data retrieval.\n",
        "     * Trees: Hierarchical structures with nodes and child nodes (e.g., binary trees).\n",
        "     * Graphs: Represent networks of nodes and connections (edges).\n",
        "\n",
        " Q. Why Are Data Structures Important?\n",
        "  - Efficient Data Access and Modification\n",
        "      * The right data structure allows for fast search, insertion, deletion, and modification of data.\n",
        "      * Example: Using a hash table allows near-instant lookup of values by key.\n",
        "\n",
        "  - Better Use of Resources\n",
        "      * Efficient data structures can significantly reduce memory usage and processing time.\n",
        "      * Example: A linked list can dynamically grow or shrink, using only the memory it needs.\n",
        "\n",
        "  - Helps in Problem Solving\n",
        "      * Algorithms often rely on the right data structure to be effective.\n",
        "      * Example: Dijkstra’s algorithm for shortest paths uses a priority queue.\n",
        "\n",
        "  - Organized and Readable Code\n",
        "     * Clean and structured code is easier to write, read, debug, and maintain when proper data structures are used.\n",
        "\n",
        "  - Real-World Application\n",
        "     * Essential in databases, operating systems, networking, artificial intelligence, and just about every software domain.   \n",
        "\n",
        "2. Explain the difference between mutable and immutable data types with examples?\n",
        "  - The key difference between mutable and immutable data types lies in whether or not they can be changed after they are created.\n",
        "\n",
        "     - Mutable Data Types   \n",
        "       * Definition: These can be changed or modified after they are created.\n",
        "       * You can: Add, remove, or change elements without creating a new object.\n",
        "\n",
        "     - Examples in Python:  \n",
        "       * list\n",
        "       * dict\n",
        "       * set\n",
        "       * bytearray\n",
        "\n",
        "     - Example of a Mutable Type – list:  "
      ],
      "metadata": {
        "id": "F_dx-y0Lc3Jo"
      }
    },
    {
      "cell_type": "code",
      "source": [
        "my_list = [10 , 20 ,30]\n",
        "print(id(my_list))\n",
        "my_list.append(50)\n",
        "print(my_list)\n",
        "print(id(my_list))\n"
      ],
      "metadata": {
        "colab": {
          "base_uri": "https://localhost:8080/"
        },
        "id": "UrBu9ox5scrt",
        "outputId": "e62e4ffc-014e-42e9-8481-f4f827ec6d61"
      },
      "execution_count": null,
      "outputs": [
        {
          "output_type": "stream",
          "name": "stdout",
          "text": [
            "138740986322944\n",
            "[10, 20, 30, 50]\n",
            "138740986322944\n"
          ]
        }
      ]
    },
    {
      "cell_type": "markdown",
      "source": [
        "   - Immutable Data Types:\n",
        "      * Definition: Immutable objects cannot be changed after creation. If you try to modify them, a new object is created instead.\n",
        "\n",
        "   - Examples:\n",
        "     * int\n",
        "     * float\n",
        "     * str\n",
        "     * tuple\n",
        "     * frozenset\n",
        "     * bytes   \n",
        "\n",
        "   - Example of an Immutable Type – str:  "
      ],
      "metadata": {
        "id": "kmk_M5vIstR3"
      }
    },
    {
      "cell_type": "code",
      "source": [
        "name = \"Ameet\"\n",
        "print(id(name))\n",
        "name += \" fathepure\"\n",
        "print(name)\n",
        "print(id(name))\n"
      ],
      "metadata": {
        "colab": {
          "base_uri": "https://localhost:8080/"
        },
        "id": "qe1G-mV_tatU",
        "outputId": "c3fab617-5dfe-468b-d1d4-f2c3cb9a393f"
      },
      "execution_count": null,
      "outputs": [
        {
          "output_type": "stream",
          "name": "stdout",
          "text": [
            "138740986253104\n",
            "Ameet fathepure\n",
            "138740986280816\n"
          ]
        }
      ]
    },
    {
      "cell_type": "markdown",
      "source": [
        "3. What are the main differences between lists and tuples in Python?\n",
        "    - Main Differences Between Lists and Tuples in Python\n",
        "\n",
        "       * Feature - Mutability , Syntax , Performance , Methods , Use Case , Memory Usage , Can be used as dictionary key?\n",
        "\n",
        "       * List - Mutable (can be changed) , Defined using [] , Slower (because it’s dynamic) , Has many built-in methods (append, remove, etc.) , When data may change (e.g., list of tasks) , Uses more memory , ❌ No (because mutable)\n",
        "\n",
        "       * Tuple - Immutable (cannot be changed) , Defined using () , Faster (due to immutability) , Fewer methods , When data should stay constant (e.g., coordinates) , More memory-efficient , ✅ Yes (if elements are immutable)\n",
        "\n",
        "   - Example of a List:    "
      ],
      "metadata": {
        "id": "2KmjgokBtuhp"
      }
    },
    {
      "cell_type": "code",
      "source": [
        "my_list = [10 , 20 , 30 , 40]\n",
        "my_list.append(50)\n",
        "print(my_list)\n"
      ],
      "metadata": {
        "colab": {
          "base_uri": "https://localhost:8080/"
        },
        "id": "lKf5TVimvnpV",
        "outputId": "23ac2e89-5e7f-453a-d549-f59601fd3351"
      },
      "execution_count": null,
      "outputs": [
        {
          "output_type": "stream",
          "name": "stdout",
          "text": [
            "[10, 20, 30, 40, 50]\n"
          ]
        }
      ]
    },
    {
      "cell_type": "markdown",
      "source": [
        " - Example of a Tuple:"
      ],
      "metadata": {
        "id": "UD-VPVqDv64O"
      }
    },
    {
      "cell_type": "code",
      "source": [
        "my_tuple = (40, 50, 60)\n",
        "print(my_tuple)\n"
      ],
      "metadata": {
        "colab": {
          "base_uri": "https://localhost:8080/"
        },
        "id": "3u7bcfpOwAym",
        "outputId": "a8ed3917-b94b-409c-e7b1-663618d03f05"
      },
      "execution_count": null,
      "outputs": [
        {
          "output_type": "stream",
          "name": "stdout",
          "text": [
            "(40, 50, 60)\n"
          ]
        }
      ]
    },
    {
      "cell_type": "markdown",
      "source": [
        "4. Describe how dictionaries store data?\n",
        "  - A dictionary in Python is an unordered (Python < 3.7) or insertion-ordered (Python 3.7+) collection of key-value pairs. It's also called an associative array or hash map in other languages.\n",
        "\n",
        "  - How it Works Internally (Simplified)\n",
        "    * Data Structure:\n",
        "      * Python dictionaries use a hash table under the hood.\n",
        "\n",
        "    * Keys Are Hashed:\n",
        "      * Each key is passed through a hash function, which turns the key into a fixed-size integer called a hash value.\n",
        "\n",
        "    * Hash Value → Index:\n",
        "      * That hash value is then mapped to an index in an internal array (the hash table).\n",
        "\n",
        "    * Store Key-Value Pair:\n",
        "      * At that index, the dictionary stores the key and its corresponding value.  \n",
        "        \n",
        "    * Fast Lookup:\n",
        "      * When you access a value by key, Python hashes the key again, finds the index, and quickly retrieves the value.\n",
        "\n",
        "  - Example:        "
      ],
      "metadata": {
        "id": "ecyiKymmwQVo"
      }
    },
    {
      "cell_type": "code",
      "source": [
        "my_dict = {\n",
        "    \"name\": \"Ameet\",\n",
        "    \"age\": 21,\n",
        "    \"city\": \"Bidar\"\n",
        "}\n",
        "print(my_dict[\"city\"])\n"
      ],
      "metadata": {
        "colab": {
          "base_uri": "https://localhost:8080/"
        },
        "id": "TlUfMu5rxUaw",
        "outputId": "e025b032-56c2-4904-9a73-e4754a8c8e7c"
      },
      "execution_count": null,
      "outputs": [
        {
          "output_type": "stream",
          "name": "stdout",
          "text": [
            "Bidar\n"
          ]
        }
      ]
    },
    {
      "cell_type": "markdown",
      "source": [
        "5. Why might you use a set instead of a list in Python?\n",
        " - A set is a built-in data type in Python used to store unordered, unique items. While lists allow duplicates and preserve order, sets are optimized for specific use cases.\n",
        "\n",
        "    * Reasons to Use a Set Instead of a List\n",
        "\n",
        "       * Use Case / Feature - Uniqueness of elements , Faster membership checking , Set operations (union, etc.) , Order matters?\n",
        "\n",
        "       * Set - Automatically removes duplicates , O(1) average time for in operation , Built-in support for set theory operations , No (unordered)\n",
        "\n",
        "       * List - Allows duplicates , Allows duplicates , Not supported natively , Yes (ordered since Python 3.7+)\n",
        "\n",
        "    - Example 1: Removing Duplicates   "
      ],
      "metadata": {
        "id": "-JwvbMilx0Vw"
      }
    },
    {
      "cell_type": "code",
      "source": [
        "items = [1, 1,  2, 2, 3, 3,  4, 4, 5 , 5]\n",
        "unique_items = set(items)\n",
        "print(unique_items)\n"
      ],
      "metadata": {
        "colab": {
          "base_uri": "https://localhost:8080/"
        },
        "id": "jt3jh_7uzGEA",
        "outputId": "1063882a-ee67-4113-dcd0-432c08a39ee7"
      },
      "execution_count": null,
      "outputs": [
        {
          "output_type": "stream",
          "name": "stdout",
          "text": [
            "{1, 2, 3, 4, 5}\n"
          ]
        }
      ]
    },
    {
      "cell_type": "markdown",
      "source": [
        " -  Example 2: Fast Membership Test"
      ],
      "metadata": {
        "id": "3Ef1JDoMzRR4"
      }
    },
    {
      "cell_type": "code",
      "source": [
        "my_list = list(range(100))\n",
        "my_set = set(my_list)\n",
        "print(99 in my_list)\n",
        "print(99 in my_set)\n"
      ],
      "metadata": {
        "colab": {
          "base_uri": "https://localhost:8080/"
        },
        "id": "nTGfkq71zGh1",
        "outputId": "d86c2fb4-5489-4d81-c218-d296d21a6aff"
      },
      "execution_count": null,
      "outputs": [
        {
          "output_type": "stream",
          "name": "stdout",
          "text": [
            "True\n",
            "True\n"
          ]
        }
      ]
    },
    {
      "cell_type": "markdown",
      "source": [
        "6. What is a string in Python, and how is it different from a list?\n",
        "   \n",
        "    - What is a String in Python?\n",
        "       * A string is a sequence of characters used to represent text.\n",
        "       * Strings are written inside single (') or double (\") quotes."
      ],
      "metadata": {
        "id": "hIYdwPvkCtqc"
      }
    },
    {
      "cell_type": "code",
      "source": [
        "greeting = \"Hello, world!\"\n",
        "print(greeting)"
      ],
      "metadata": {
        "colab": {
          "base_uri": "https://localhost:8080/"
        },
        "id": "YYWa9YGED3o9",
        "outputId": "f1c88d83-2a25-4c08-f0cb-bb2570f5b09e"
      },
      "execution_count": null,
      "outputs": [
        {
          "output_type": "stream",
          "name": "stdout",
          "text": [
            "Hello, world!\n"
          ]
        }
      ]
    },
    {
      "cell_type": "markdown",
      "source": [
        " - How is a String Different from a List?\n",
        "\n",
        "   * Feature - Type of Elements , Mutability , Syntax , Use Case , Methods\n",
        "\n",
        "   * String - Only characters , Immutable (cannot be changed) , \"hello\" or 'hello' , For working with text , Has text-specific methods (e.g., .lower(), .split())\n",
        "\n",
        "   * List - Can hold any type (numbers, strings, etc.) , Mutable (can be changed) , [1, 2, 3] or [\"a\", \"b\", \"c\"] , For storing multiple values of any type , Has methods like .append(), .remove()\n",
        "\n",
        "  - String Example:"
      ],
      "metadata": {
        "id": "7wcPSRuJENAt"
      }
    },
    {
      "cell_type": "code",
      "source": [
        "s = \"ameet\"\n",
        "print(s[1])\n"
      ],
      "metadata": {
        "colab": {
          "base_uri": "https://localhost:8080/"
        },
        "id": "XhL88OBpD6aW",
        "outputId": "5876cee3-8423-44d6-d1ba-648e8583abd1"
      },
      "execution_count": null,
      "outputs": [
        {
          "output_type": "stream",
          "name": "stdout",
          "text": [
            "m\n"
          ]
        }
      ]
    },
    {
      "cell_type": "markdown",
      "source": [
        "  - List Example:"
      ],
      "metadata": {
        "id": "vpdfq2_VGLhY"
      }
    },
    {
      "cell_type": "code",
      "source": [
        "lst = ['h', 'e', 'l', 'l', 'o']\n",
        "print(lst[1])\n",
        "lst[1] = 'a'\n",
        "print(lst)\n"
      ],
      "metadata": {
        "colab": {
          "base_uri": "https://localhost:8080/"
        },
        "id": "ly0Um-GEFrTS",
        "outputId": "f69faae6-4012-4c7d-e87b-18fa78001f49"
      },
      "execution_count": null,
      "outputs": [
        {
          "output_type": "stream",
          "name": "stdout",
          "text": [
            "e\n",
            "['h', 'a', 'l', 'l', 'o']\n"
          ]
        }
      ]
    },
    {
      "cell_type": "markdown",
      "source": [
        "7. How do tuples ensure data integrity in Python?\n",
        "  \n",
        "    - What is a Tuple in Python?\n",
        "       * A tuple is a collection of ordered, immutable elements.\n",
        "       * Defined using parentheses ():"
      ],
      "metadata": {
        "id": "sTbVEfulGfgR"
      }
    },
    {
      "cell_type": "code",
      "source": [
        "person = (\"Ameet\", 21, \"Data Analyst\")\n",
        "print(person)\n"
      ],
      "metadata": {
        "colab": {
          "base_uri": "https://localhost:8080/"
        },
        "id": "WjJ8B2hZGQDo",
        "outputId": "053a60a7-009c-45d6-da48-d6caf5f9ef18"
      },
      "execution_count": null,
      "outputs": [
        {
          "output_type": "stream",
          "name": "stdout",
          "text": [
            "('Ameet', 21, 'Data Analyst')\n"
          ]
        }
      ]
    },
    {
      "cell_type": "markdown",
      "source": [
        "  - How Tuples Ensure Data Integrity\n",
        "     * How Tuples Ensure Data Integrity\n",
        "\n",
        "  1. Immutability (Can't Be Changed)   \n",
        "      * Once a tuple is created, its contents cannot be modified.\n",
        "      * This prevents accidental changes to important data."
      ],
      "metadata": {
        "id": "nSxDWxGUHKkH"
      }
    },
    {
      "cell_type": "code",
      "source": [
        "data = (10, 20, 30)\n",
        "data[0] = 99\n",
        "# data[0] = 99\n",
        "# Error: 'tuple' object does not support item assignment\n",
        "\n",
        "# Why it matters: If you store data in a tuple, you can trust that it won’t change somewhere else in the code by mistake.\n"
      ],
      "metadata": {
        "id": "A6V54IdxHjoN"
      },
      "execution_count": null,
      "outputs": []
    },
    {
      "cell_type": "markdown",
      "source": [
        "  2. Safe for Use as Keys in Dictionaries\n",
        "     - Because tuples are immutable, they can be used as keys in dictionaries or elements in sets (unlike lists)."
      ],
      "metadata": {
        "id": "IH3Bzi4YIO96"
      }
    },
    {
      "cell_type": "code",
      "source": [
        "location = (40.7128, -74.0060)\n",
        "city_data = {location: \"New York\"}\n",
        "print(city_data)\n",
        "\n",
        "# Why it matters: You can use tuples to represent fixed data like coordinates, settings, or IDs, ensuring those values stay constant.\n"
      ],
      "metadata": {
        "colab": {
          "base_uri": "https://localhost:8080/"
        },
        "id": "qdbX2QCTIgQd",
        "outputId": "1b4e7d87-e547-4a1e-d634-0ce332aee1d0"
      },
      "execution_count": null,
      "outputs": [
        {
          "output_type": "stream",
          "name": "stdout",
          "text": [
            "{(40.7128, -74.006): 'New York'}\n"
          ]
        }
      ]
    },
    {
      "cell_type": "markdown",
      "source": [
        "   3. Better for Fixed, Structured Data\n",
        "      - Tuples are ideal when you want to represent structured, unchanging records — like rows from a database or config settings."
      ],
      "metadata": {
        "id": "3DBuDT0hIvqd"
      }
    },
    {
      "cell_type": "code",
      "source": [
        "user = (\"ameet_fathepure\", \"abhi\", True)\n",
        "print(user)\n",
        "\n",
        "# This structure guarantees the order and type of data remains consistent."
      ],
      "metadata": {
        "colab": {
          "base_uri": "https://localhost:8080/"
        },
        "id": "4F79yo3nIu-I",
        "outputId": "9f3a6596-0b8b-4322-c84e-b69ea9a2efce"
      },
      "execution_count": null,
      "outputs": [
        {
          "output_type": "stream",
          "name": "stdout",
          "text": [
            "('ameet_fathepure', 'abhi', True)\n"
          ]
        }
      ]
    },
    {
      "cell_type": "markdown",
      "source": [
        "8. What is a hash table, and how does it relate to dictionaries in Python?\n",
        "\n",
        " - What is a Hash Table?\n",
        "     * A hash table is a data structure that:\n",
        "       * Stores data in key-value pairs.\n",
        "       * Uses a hash function to compute an index (a hash) for each key.\n",
        "       * Stores the value at that index for fast access.\n",
        "\n",
        " - How It Works:   \n",
        "  * You provide a key (like \"name\").\n",
        "  * The hash function turns that key into a unique index.\n",
        "  * The value (like \"Alice\") is stored at that index.\n",
        "  * When you access the key later, the hash function quickly finds the value.\n",
        "   \n",
        " - How It Relates to Python Dictionaries  \n",
        "   * Python's dict (dictionary) is implemented using a hash table behind the scenes.\n",
        "\n",
        " - Example:  "
      ],
      "metadata": {
        "id": "4vnoATmCJMFc"
      }
    },
    {
      "cell_type": "code",
      "source": [
        "person = {\n",
        "    \"name\": \"Ameet\",\n",
        "    \"age\": 21\n",
        "}\n",
        "print(person)"
      ],
      "metadata": {
        "colab": {
          "base_uri": "https://localhost:8080/"
        },
        "id": "1AkWydgOMkHV",
        "outputId": "b97cb31f-29c3-41b4-f340-eee7097b39d4"
      },
      "execution_count": null,
      "outputs": [
        {
          "output_type": "stream",
          "name": "stdout",
          "text": [
            "{'name': 'Ameet', 'age': 21}\n"
          ]
        }
      ]
    },
    {
      "cell_type": "markdown",
      "source": [
        " - Why Hash Tables (and Dictionaries) Are Powerful:\n",
        "  \n",
        "   * Feature - Fast Lookup , Unique Keys , Efficient Insertion , Flexible Key Types\n",
        "\n",
        "   * Explanation - Accessing a value by key is O(1) (on average) , Each key in a dictionary is unique , Adding or updating key-value pairs is fast , Any hashable type can be a key (e.g., strings, numbers, tuples)\n",
        "\n",
        " - Example in Code:  "
      ],
      "metadata": {
        "id": "j6p1wMomNSGt"
      }
    },
    {
      "cell_type": "code",
      "source": [
        "inventory = {\n",
        "    \"apples\": 10,\n",
        "    \"bananas\": 5\n",
        "}\n",
        "print(inventory[\"apples\"])\n",
        "inventory[\"oranges\"] = 7\n"
      ],
      "metadata": {
        "colab": {
          "base_uri": "https://localhost:8080/"
        },
        "id": "SbX09XX6MksX",
        "outputId": "09311ca5-9886-4bf2-ab18-5b263d55b946"
      },
      "execution_count": null,
      "outputs": [
        {
          "output_type": "stream",
          "name": "stdout",
          "text": [
            "10\n"
          ]
        }
      ]
    },
    {
      "cell_type": "markdown",
      "source": [
        "9. Can lists contain different data types in Python?\n",
        "   \n",
        "  - Yes, lists can contain different data types in Python.\n",
        "    * Python is a dynamically typed language, so a list can store a mix of:\n",
        "      * Numbers (e.g., int, float)\n",
        "      * Strings\n",
        "      * Booleans\n",
        "      * Other lists\n",
        "      * Dictionaries\n",
        "      * Tuples\n",
        "      * Even functions or custom objects\n",
        "\n",
        "  - Example:   "
      ],
      "metadata": {
        "id": "WwG9H9XmOSYa"
      }
    },
    {
      "cell_type": "code",
      "source": [
        "mixed_list = [88, \"somasa\", 3.14, True, [1, 2], {\"key\": \"value\"}, (5, 6)]\n",
        "print(mixed_list)\n"
      ],
      "metadata": {
        "colab": {
          "base_uri": "https://localhost:8080/"
        },
        "id": "X2nLwj22N_9j",
        "outputId": "3afa6696-ac24-4954-e60c-4095f08abbf9"
      },
      "execution_count": null,
      "outputs": [
        {
          "output_type": "stream",
          "name": "stdout",
          "text": [
            "[88, 'somasa', 3.14, True, [1, 2], {'key': 'value'}, (5, 6)]\n"
          ]
        }
      ]
    },
    {
      "cell_type": "markdown",
      "source": [
        "10. Explain why strings are immutable in Python?\n",
        "   \n",
        "   - What does it mean for a string to be immutable?\n",
        "     * A string is immutable if it cannot be changed after it's created.\n",
        "     * Any operation that seems to \"change\" a string actually creates a new string."
      ],
      "metadata": {
        "id": "bM_vBMZUPQya"
      }
    },
    {
      "cell_type": "code",
      "source": [
        "s = \"hello\"\n",
        "s = s.upper()\n",
        "print(s)"
      ],
      "metadata": {
        "colab": {
          "base_uri": "https://localhost:8080/"
        },
        "id": "-WvpeuMYPEpu",
        "outputId": "8ba36f3b-be5d-427a-9c9f-a679642cce07"
      },
      "execution_count": null,
      "outputs": [
        {
          "output_type": "stream",
          "name": "stdout",
          "text": [
            "HELLO\n"
          ]
        }
      ]
    },
    {
      "cell_type": "markdown",
      "source": [
        "1. Efficiency and Performance\n",
        "    - Immutable objects are faster and more memory-efficient.\n",
        "    - Python can reuse existing string objects instead of creating duplicates."
      ],
      "metadata": {
        "id": "zodzVStnP3gk"
      }
    },
    {
      "cell_type": "code",
      "source": [
        "a = \"hello\"\n",
        "b = \"hello\"\n",
        "print(a is b)"
      ],
      "metadata": {
        "colab": {
          "base_uri": "https://localhost:8080/"
        },
        "id": "K_u1AFcNPtl2",
        "outputId": "a14893fe-5acd-4105-cf0d-8d5596162e86"
      },
      "execution_count": null,
      "outputs": [
        {
          "output_type": "stream",
          "name": "stdout",
          "text": [
            "True\n"
          ]
        }
      ]
    },
    {
      "cell_type": "markdown",
      "source": [
        "  2. Hashability (for Dictionary Keys and Set Elements)\n",
        "     - Immutable strings can be hashed, which means they can be used as keys in dictionaries and elements in sets."
      ],
      "metadata": {
        "id": "oNzEm-wlQQO8"
      }
    },
    {
      "cell_type": "code",
      "source": [
        "d = {\"name\": \"Ameet\"}\n",
        "print(d)\n"
      ],
      "metadata": {
        "colab": {
          "base_uri": "https://localhost:8080/"
        },
        "id": "ChHYDUraQLhF",
        "outputId": "43d5dfb6-fea9-4ed4-c54c-3b255dac39fa"
      },
      "execution_count": null,
      "outputs": [
        {
          "output_type": "stream",
          "name": "stdout",
          "text": [
            "{'name': 'Ameet'}\n"
          ]
        }
      ]
    },
    {
      "cell_type": "markdown",
      "source": [
        "   3. Safety and Predictability\n",
        "      - Since strings can't change, they are safe to pass around in code without worrying about accidental modification."
      ],
      "metadata": {
        "id": "obPIIaYcQej3"
      }
    },
    {
      "cell_type": "code",
      "source": [
        "def greet(name):\n",
        "    name = name.upper()\n",
        "    print(\"Hello\", name)\n",
        "\n",
        "original = \"ameet\"\n",
        "greet(original)\n",
        "print(original)\n"
      ],
      "metadata": {
        "colab": {
          "base_uri": "https://localhost:8080/"
        },
        "id": "o2u_gTTGQXZQ",
        "outputId": "1b4dfada-a85e-4273-e66d-a9a261e2b483"
      },
      "execution_count": null,
      "outputs": [
        {
          "output_type": "stream",
          "name": "stdout",
          "text": [
            "Hello AMEET\n",
            "ameet\n"
          ]
        }
      ]
    },
    {
      "cell_type": "markdown",
      "source": [
        "  4. Design Simplicity\n",
        "    - Immutable objects are simpler to manage in memory.\n",
        "    - This aligns with Python’s philosophy of simplicity and clarity.\n",
        "\n",
        "11. What advantages do dictionaries offer over lists for certain tasks?\n",
        "   - Python dictionaries (dict) and lists (list) are both powerful data structures, but dictionaries offer several key advantages for specific use cases, especially when dealing with key-value relationships.\n",
        "\n",
        "   - Advantages of Dictionaries Over Lists:\n",
        "\n",
        " 1. Fast Lookup by Key (O(1))\n",
        "      * Dictionaries allow you to access values instantly by key, using a hash table.\n",
        "      * Lists require searching through elements (O(n) time) unless you know the index."
      ],
      "metadata": {
        "id": "11XjdroQQvo8"
      }
    },
    {
      "cell_type": "code",
      "source": [
        "person = {\"name\": \"Ameet\", \"age\": 21}\n",
        "print(person[\"age\"])\n",
        "data = [\"Ameet\", 21]\n",
        "print(data[1])\n"
      ],
      "metadata": {
        "colab": {
          "base_uri": "https://localhost:8080/"
        },
        "id": "ulDLHD1iQmzr",
        "outputId": "363fe851-e378-490b-d5d2-7066cbc6a010"
      },
      "execution_count": null,
      "outputs": [
        {
          "output_type": "stream",
          "name": "stdout",
          "text": [
            "21\n",
            "21\n"
          ]
        }
      ]
    },
    {
      "cell_type": "markdown",
      "source": [
        "  2. Clearer, More Descriptive Code\n",
        "     * Keys in dictionaries describe the data, making code easier to read and maintain.\n",
        "     * Lists rely on index positions, which can be unclear or error-prone.\n",
        "\n"
      ],
      "metadata": {
        "id": "t_yJrVYMSK_V"
      }
    },
    {
      "cell_type": "code",
      "source": [
        "\n",
        "user = {\"username\": \"ameet_fathepure\", \"role\": \"admin\"}\n",
        "user = [\"ameet_fathepure\", \"admin\"]\n",
        "print(user[0])"
      ],
      "metadata": {
        "colab": {
          "base_uri": "https://localhost:8080/"
        },
        "id": "pOBX6hzsR3xz",
        "outputId": "c8501289-d507-4408-8c90-5bcde0edaa07"
      },
      "execution_count": null,
      "outputs": [
        {
          "output_type": "stream",
          "name": "stdout",
          "text": [
            "ameet_fathepure\n"
          ]
        }
      ]
    },
    {
      "cell_type": "markdown",
      "source": [
        "3. Flexible and Unordered Storage\n",
        "    * You can add, update, or remove key-value pairs without worrying about order or shifting positions.\n",
        "    * Lists require managing index positions manually."
      ],
      "metadata": {
        "id": "Clfzs1VdSs-d"
      }
    },
    {
      "cell_type": "code",
      "source": [
        "person[\"email\"] = \"ameet@example.com\"\n",
        "print(person)\n"
      ],
      "metadata": {
        "colab": {
          "base_uri": "https://localhost:8080/"
        },
        "id": "DdVX1equSYPd",
        "outputId": "4f7a8d61-2260-488f-934f-a1d064efddca"
      },
      "execution_count": null,
      "outputs": [
        {
          "output_type": "stream",
          "name": "stdout",
          "text": [
            "{'name': 'Ameet', 'age': 21, 'email': 'ameet@example.com'}\n"
          ]
        }
      ]
    },
    {
      "cell_type": "markdown",
      "source": [
        "  4. Avoiding Duplicates in Keys\n",
        "     * Dictionaries enforce unique keys, making them ideal when each key should map to exactly one value.\n",
        "     * Lists allow duplicate values, which can lead to ambiguity.\n",
        "\n",
        "  5. Dictionaries are built for representing relationships between things — like names and phone numbers, IDs and records, etc.   "
      ],
      "metadata": {
        "id": "NUb900IzTi_F"
      }
    },
    {
      "cell_type": "code",
      "source": [
        "contacts = {\n",
        "    \"Ameet\": \"555-1234\",\n",
        "    \"pavan\": \"555-5678\"\n",
        "}\n",
        "print(contacts[\"Ameet\"])\n",
        "print(contacts[\"pavan\"])"
      ],
      "metadata": {
        "colab": {
          "base_uri": "https://localhost:8080/"
        },
        "id": "3iIbewO7S1hv",
        "outputId": "38d040b1-93de-41e9-e1b1-44ed10d0b326"
      },
      "execution_count": null,
      "outputs": [
        {
          "output_type": "stream",
          "name": "stdout",
          "text": [
            "555-1234\n",
            "555-5678\n"
          ]
        }
      ]
    },
    {
      "cell_type": "markdown",
      "source": [
        "12. Describe a scenario where using a tuple would be preferable over a list?\n",
        "\n",
        "   - When to Prefer a Tuple Over a List:\n",
        "      * You should use a tuple when you want to store a fixed collection of items that should not change. Tuples are immutable, meaning their contents cannot be modified after creation — this ensures data integrity and reliability.\n",
        "\n",
        "   - Scenario Example: Coordinates in a Mapping Application   \n",
        "     * Let’s say you’re building a mapping or GPS app, and you need to represent geographic coordinates (latitude, longitude).\n",
        "\n",
        "  - Use a Tuple:"
      ],
      "metadata": {
        "id": "1PJeQLSxUxSo"
      }
    },
    {
      "cell_type": "code",
      "source": [
        "location = (40.7128, -74.0060)\n",
        "print(location)\n"
      ],
      "metadata": {
        "colab": {
          "base_uri": "https://localhost:8080/"
        },
        "id": "ZKu9ThuzUiLG",
        "outputId": "996eb97f-0d86-40eb-e11a-d1a33ec6298c"
      },
      "execution_count": null,
      "outputs": [
        {
          "output_type": "stream",
          "name": "stdout",
          "text": [
            "(40.7128, -74.006)\n"
          ]
        }
      ]
    },
    {
      "cell_type": "markdown",
      "source": [
        " Q. Why a Tuple Is Better Here:\n",
        "\n",
        "   - Reason - Immutability , Fixed Size & Structure , Can Be Used as Dictionary Keys , Slightly Faster\n",
        "\n",
        "   - Explanation - Coordinates should not accidentally change Tuples prevent that , A coordinate will always be two values: (latitude, longitude) , Tuples are hashable — useful for storing data like {(lat, lon): \"City Name\"} , Tuples use less memory and are a bit faster than lists for fixed-size data\n",
        "\n",
        " Q. Why Not Use a List?  "
      ],
      "metadata": {
        "id": "P6K0YhmyVfGo"
      }
    },
    {
      "cell_type": "code",
      "source": [
        "location = [40.7128, -74.0060]\n",
        "location[0] = 0\n",
        "print(location)\n"
      ],
      "metadata": {
        "colab": {
          "base_uri": "https://localhost:8080/"
        },
        "id": "zyI_tPjAVLAA",
        "outputId": "684e453c-bf54-4a13-a337-ec821541a732"
      },
      "execution_count": null,
      "outputs": [
        {
          "output_type": "stream",
          "name": "stdout",
          "text": [
            "[0, -74.006]\n"
          ]
        }
      ]
    },
    {
      "cell_type": "markdown",
      "source": [
        "  - Other Real-Life Examples for Tuples:\n",
        "     * Returning multiple values from a function:"
      ],
      "metadata": {
        "id": "RBXjNyAZWW8m"
      }
    },
    {
      "cell_type": "code",
      "source": [
        "def get_user():\n",
        "    return (\"Ameet\", 21)\n",
        "print(get_user())\n"
      ],
      "metadata": {
        "colab": {
          "base_uri": "https://localhost:8080/"
        },
        "id": "yVBBx0qGWQWz",
        "outputId": "37a5902b-f33c-4021-9365-5c1fed53716c"
      },
      "execution_count": null,
      "outputs": [
        {
          "output_type": "stream",
          "name": "stdout",
          "text": [
            "('Ameet', 21)\n"
          ]
        }
      ]
    },
    {
      "cell_type": "markdown",
      "source": [
        " - Representing database rows (which are fixed in structure)\n",
        " - Storing settings or configuration options that shouldn’t change"
      ],
      "metadata": {
        "id": "SFz8u5CDW4DT"
      }
    },
    {
      "cell_type": "markdown",
      "source": [
        "13. How do sets handle duplicate values in Python?\n",
        "   - Short Answer:\n",
        "      * Sets in Python automatically remove duplicate values.\n",
        "      * They only store unique elements.\n",
        "\n",
        "   - Example:   "
      ],
      "metadata": {
        "id": "q5A-QTDJW3_3"
      }
    },
    {
      "cell_type": "code",
      "source": [
        "numbers = {1, 2, 2, 3, 4, 4, 5}\n",
        "print(numbers)\n"
      ],
      "metadata": {
        "colab": {
          "base_uri": "https://localhost:8080/"
        },
        "id": "2XYcHAHEWky1",
        "outputId": "26374418-4cb1-4457-da5a-1286e36a8209"
      },
      "execution_count": null,
      "outputs": [
        {
          "output_type": "stream",
          "name": "stdout",
          "text": [
            "{1, 2, 3, 4, 5}\n"
          ]
        }
      ]
    },
    {
      "cell_type": "markdown",
      "source": [
        "  - Use Cases for This Behavior:\n",
        "  \n",
        "     * Removing duplicates from a list:"
      ],
      "metadata": {
        "id": "9MWY4J5zYNsM"
      }
    },
    {
      "cell_type": "code",
      "source": [
        "my_list = [1, 2, 2, 3]\n",
        "unique = set(my_list)\n",
        "print(unique)\n"
      ],
      "metadata": {
        "colab": {
          "base_uri": "https://localhost:8080/"
        },
        "id": "_dOi2ui0X56i",
        "outputId": "f8320b07-98e2-4d0b-c6d9-58627c756d8b"
      },
      "execution_count": null,
      "outputs": [
        {
          "output_type": "stream",
          "name": "stdout",
          "text": [
            "{1, 2, 3}\n"
          ]
        }
      ]
    },
    {
      "cell_type": "markdown",
      "source": [
        " - Checking if two datasets share common items (using set operations like intersection)\n",
        " - Fast membership testing (x in my_set)\n",
        "\n",
        "14. How does the “in” keyword work differently for lists and dictionaries?\n",
        "   - The in keyword is used to check membership, but it behaves differently for lists and dictionaries.\n",
        "\n",
        "   - For Lists:\n",
        "      * in checks if a value exists anywhere in the list.\n"
      ],
      "metadata": {
        "id": "nhXXV0k0Yey6"
      }
    },
    {
      "cell_type": "code",
      "source": [
        "fruits = [\"apple\", \"banana\", \"cherry\"]\n",
        "\n",
        "print(\"banana\" in fruits)\n",
        "print(\"orange\" in fruits)\n"
      ],
      "metadata": {
        "colab": {
          "base_uri": "https://localhost:8080/"
        },
        "id": "w7-UdDxOY5XP",
        "outputId": "d01fa65b-a57f-4846-d2e0-6ee17cd6d004"
      },
      "execution_count": null,
      "outputs": [
        {
          "output_type": "stream",
          "name": "stdout",
          "text": [
            "True\n",
            "False\n"
          ]
        }
      ]
    },
    {
      "cell_type": "markdown",
      "source": [
        " - For Dictionaries:\n",
        "    * in checks if a key exists in the dictionary — not the value."
      ],
      "metadata": {
        "id": "hdh5_brWY-qr"
      }
    },
    {
      "cell_type": "code",
      "source": [
        "person = {\"name\": \"Ameet\", \"age\": 21}\n",
        "\n",
        "print(\"name\" in person)\n",
        "print(\"Ameet\" in person)\n",
        "\"Ameet\" in person.values()\n",
        "\n"
      ],
      "metadata": {
        "colab": {
          "base_uri": "https://localhost:8080/"
        },
        "id": "LkKXaDlyY5yD",
        "outputId": "f80852d0-a2ff-40db-de5a-395be52d5de5"
      },
      "execution_count": null,
      "outputs": [
        {
          "output_type": "stream",
          "name": "stdout",
          "text": [
            "True\n",
            "False\n"
          ]
        },
        {
          "output_type": "execute_result",
          "data": {
            "text/plain": [
              "True"
            ]
          },
          "metadata": {},
          "execution_count": 67
        }
      ]
    },
    {
      "cell_type": "markdown",
      "source": [
        "15. Can you modify the elements of a tuple? Explain why or why not?\n",
        "   - No, you cannot modify the elements of a tuple because tuples are immutable in Python.\n",
        "\n",
        "   - Explanation:\n",
        "     * A tuple is a data structure in Python that is used to store multiple items in a single variable.\n",
        "     * Immutability means that once a tuple is created, its elements cannot be changed, added, or removed.\n",
        "\n",
        "   - Example:\n"
      ],
      "metadata": {
        "id": "HZn0qdUYZqhH"
      }
    },
    {
      "cell_type": "code",
      "source": [
        "my_tuple = (1, 2, 3)\n",
        "my_tuple[0] = 10\n",
        "# This will raise a TypeError\n"
      ],
      "metadata": {
        "id": "yOz0WUE2eVZ-"
      },
      "execution_count": null,
      "outputs": []
    },
    {
      "cell_type": "markdown",
      "source": [
        "Q. Why is this the case?\n",
        "  - Python designers made tuples immutable to:\n",
        "     * Ensure data integrity — once a tuple is created, it can't be changed accidentally.\n",
        "     * Make them hashable, so they can be used as keys in dictionaries or elements in sets, unlike lists.\n",
        "\n",
        "  - Exception:\n",
        "     * While the tuple itself is immutable, if it contains mutable objects (like lists), those objects can be modified:   "
      ],
      "metadata": {
        "id": "5mjUOFMiefrW"
      }
    },
    {
      "cell_type": "code",
      "source": [
        "my_tuple = (1, [2, 3], 4)\n",
        "my_tuple[1].append(5)\n",
        "print(my_tuple)\n"
      ],
      "metadata": {
        "colab": {
          "base_uri": "https://localhost:8080/"
        },
        "id": "hHKvpNLMeyfA",
        "outputId": "b7b94626-2c35-498f-e679-e86a24a5c20a"
      },
      "execution_count": null,
      "outputs": [
        {
          "output_type": "stream",
          "name": "stdout",
          "text": [
            "(1, [2, 3, 5], 4)\n"
          ]
        }
      ]
    },
    {
      "cell_type": "markdown",
      "source": [
        "16. What is a nested dictionary, and give an example of its use case?\n",
        "     - A nested dictionary is a dictionary inside another dictionary. In other words, each key in a dictionary can hold another dictionary as its value.\n",
        "     \n",
        "     - Use Case Example: Student Records\n",
        "        * Suppose you're managing data for multiple students, and each student has their own details like name, age, and grades."
      ],
      "metadata": {
        "id": "8pW7Wz8Be_2q"
      }
    },
    {
      "cell_type": "code",
      "source": [
        "students = {\n",
        "    \"101\": {\n",
        "        \"name\": \"Ameet\",\n",
        "        \"age\": 20,\n",
        "        \"grades\": {\"math\": 90, \"science\": 85}\n",
        "    },\n",
        "    \"102\": {\n",
        "        \"name\": \"pavan\",\n",
        "        \"age\": 22,\n",
        "        \"grades\": {\"math\": 78, \"science\": 88}\n",
        "    }\n",
        "}\n",
        "print(students[\"101\"][\"name\"])\n",
        "print(students[\"102\"][\"grades\"][\"science\"])\n"
      ],
      "metadata": {
        "colab": {
          "base_uri": "https://localhost:8080/"
        },
        "id": "r138w5vqfRtg",
        "outputId": "022c62ce-5edf-49f7-e0b0-f5a100a4570a"
      },
      "execution_count": null,
      "outputs": [
        {
          "output_type": "stream",
          "name": "stdout",
          "text": [
            "Ameet\n",
            "88\n"
          ]
        }
      ]
    },
    {
      "cell_type": "markdown",
      "source": [
        "  - Use Cases of Nested Dictionaries:\n",
        "    * Database-like records (e.g., student info, employee data)\n",
        "    * Configuration files (e.g., nested settings in web apps)\n",
        "    * JSON data handling\n",
        "    * Representing graphs or trees\n",
        "    * Inventory systems (e.g., categories and items)"
      ],
      "metadata": {
        "id": "HOQKo-2wfpV1"
      }
    },
    {
      "cell_type": "markdown",
      "source": [
        "17. Describe the time complexity of accessing elements in a dictionary?\n",
        "  - The time complexity of accessing elements in a dictionary in Python is:\n",
        "\n",
        "     * Average Case: O(1) (Constant Time)\n",
        "       * Dictionaries in Python are implemented using hash tables.\n",
        "       * When you access an element using a key, Python uses the hash value of  the key to directly find the corresponding value.\n",
        "       * This makes lookup (e.g., my_dict[key]) very fast, regardless of the dictionary size.\n",
        "\n",
        "    * Worst Case: O(n) (Rare)\n",
        "       * In some rare cases (like hash collisions or a poorly implemented hash function), multiple keys may hash to the same location.\n",
        "       * Python handles collisions using open addressing or chaining, but in the worst case (e.g., all keys colliding), access time can degrade to linear time.\n",
        "\n",
        "  - Example:     "
      ],
      "metadata": {
        "id": "8hTen_iCf8LI"
      }
    },
    {
      "cell_type": "code",
      "source": [
        "my_dict = {\"a\": 1, \"b\": 2, \"c\": 3}\n",
        "print(my_dict[\"b\"])\n"
      ],
      "metadata": {
        "colab": {
          "base_uri": "https://localhost:8080/"
        },
        "id": "bq44gEkagsAG",
        "outputId": "8123e7b8-fbaa-4799-9888-182455a8a3fd"
      },
      "execution_count": null,
      "outputs": [
        {
          "output_type": "stream",
          "name": "stdout",
          "text": [
            "2\n"
          ]
        }
      ]
    },
    {
      "cell_type": "markdown",
      "source": [
        "18. In what situations are lists preferred over dictionaries?\n",
        "\n",
        "   - You Need an Ordered Collection of Items\n",
        "     * Lists preserve the order of insertion and are ideal when the position (index) of elements matters."
      ],
      "metadata": {
        "id": "4T28-1OrgwYT"
      }
    },
    {
      "cell_type": "code",
      "source": [
        "fruits = [\"apple\", \"banana\", \"cherry\"]\n",
        "print(fruits)"
      ],
      "metadata": {
        "colab": {
          "base_uri": "https://localhost:8080/"
        },
        "id": "Pb7KlS2JgsDh",
        "outputId": "1af147e9-181d-482b-f6b3-024bfb0d5873"
      },
      "execution_count": null,
      "outputs": [
        {
          "output_type": "stream",
          "name": "stdout",
          "text": [
            "['apple', 'banana', 'cherry']\n"
          ]
        }
      ]
    },
    {
      "cell_type": "markdown",
      "source": [
        "  - You Only Need Values (No Key-Value Pairs)\n",
        "    * Lists are simpler when you just need a sequence of items, not a mapping."
      ],
      "metadata": {
        "id": "PRSlI5pJhKWI"
      }
    },
    {
      "cell_type": "code",
      "source": [
        "temperatures = [22.5, 23.0, 21.8]\n",
        "print(temperatures)"
      ],
      "metadata": {
        "colab": {
          "base_uri": "https://localhost:8080/"
        },
        "id": "vPD5s1Vaey9q",
        "outputId": "50cb9788-b3ac-4040-db0b-839eb7b507b2"
      },
      "execution_count": null,
      "outputs": [
        {
          "output_type": "stream",
          "name": "stdout",
          "text": [
            "[22.5, 23.0, 21.8]\n"
          ]
        }
      ]
    },
    {
      "cell_type": "markdown",
      "source": [
        "  - You Need to Iterate in Order\n",
        "     * Lists are naturally suited for tasks that require ordered iteration (e.g. loops over a sequence)."
      ],
      "metadata": {
        "id": "FLeK7jrKhU7C"
      }
    },
    {
      "cell_type": "code",
      "source": [
        "for fruit in fruits:\n",
        "    print(fruit)\n"
      ],
      "metadata": {
        "colab": {
          "base_uri": "https://localhost:8080/"
        },
        "id": "VDblOEPAhTmb",
        "outputId": "b1c48cc8-9c25-4520-c927-c9feea3373b6"
      },
      "execution_count": null,
      "outputs": [
        {
          "output_type": "stream",
          "name": "stdout",
          "text": [
            "apple\n",
            "banana\n",
            "cherry\n"
          ]
        }
      ]
    },
    {
      "cell_type": "markdown",
      "source": [
        " - You Need to Perform Operations by Index\n",
        "   * Lists allow index-based access, slicing, and modification."
      ],
      "metadata": {
        "id": "N-qUxg8ShgLU"
      }
    },
    {
      "cell_type": "code",
      "source": [
        "print(fruits[1])\n"
      ],
      "metadata": {
        "colab": {
          "base_uri": "https://localhost:8080/"
        },
        "id": "7DqBuhXEhc-k",
        "outputId": "bb01a764-5b7b-4f46-a17f-e22cfd667f32"
      },
      "execution_count": null,
      "outputs": [
        {
          "output_type": "stream",
          "name": "stdout",
          "text": [
            "banana\n"
          ]
        }
      ]
    },
    {
      "cell_type": "markdown",
      "source": [
        "  - You Care About Memory Efficiency\n",
        "    * Lists are generally more memory-efficient than dictionaries because they only store values, not key-value pairs.\n",
        "\n",
        "  - You Want Simplicity in Data Structures  \n",
        "    * For simple data without a need for labeled elements, lists are easier and more readable.\n",
        "\n",
        "  - When Not to Use Lists:  \n",
        "    * Use dictionaries instead when:\n",
        "      * You need fast lookup by key\n",
        "      * You need to store labeled data (like name: age)\n",
        "      * You need to check for existence of specific keys\n",
        "\n",
        "19. Why are dictionaries considered unordered, and how does that affect data retrieval?\n",
        "\n",
        "  - Original Behavior: Unordered (Pre-Python 3.7)     \n",
        "      * Before Python 3.7, dictionaries were considered unordered because:\n",
        "         * They used a hash table internally, and the order of elements (key-value pairs) was not guaranteed.\n",
        "         * Inserting the same items in different runs could result in a different order.\n",
        "\n",
        "  - This meant that:\n",
        "      * You could not rely on insertion order when iterating over a dictionary.\n",
        "      * Data retrieval by key was unaffected, but iteration order was unpredictable.\n",
        "\n",
        "  - Modern Behavior: Ordered (Python 3.7 and later)    \n",
        "     * Starting with Python 3.7, and officially in Python 3.8+, dictionaries preserve insertion order by default."
      ],
      "metadata": {
        "id": "7dEeOXBXhtgQ"
      }
    },
    {
      "cell_type": "code",
      "source": [
        "my_dict = {\"a\": 1, \"b\": 2, \"c\": 3}\n",
        "print(my_dict)\n"
      ],
      "metadata": {
        "colab": {
          "base_uri": "https://localhost:8080/"
        },
        "id": "EKgwmVyQi-jN",
        "outputId": "6254fccb-6b1d-444a-df82-4919c439c12f"
      },
      "execution_count": null,
      "outputs": [
        {
          "output_type": "stream",
          "name": "stdout",
          "text": [
            "{'a': 1, 'b': 2, 'c': 3}\n"
          ]
        }
      ]
    },
    {
      "cell_type": "markdown",
      "source": [
        "  - This means when you iterate over a dictionary, you’ll get the items in the order they were added.\n",
        "  - However, dictionaries are still conceptually considered unordered mappings because their primary purpose is fast key-based access, not indexing by position.\n"
      ],
      "metadata": {
        "id": "5edYCzNIjDTX"
      }
    },
    {
      "cell_type": "markdown",
      "source": [
        "  - How Does This Affect Data Retrieval?\n",
        "    * Key-based retrieval (dict[key]) is always efficient (O(1)) and unaffected by order.\n",
        "    * If your logic depends on the order of elements, you should not assume order unless you're using Python 3.7+.\n",
        "    * If you need guaranteed ordering behavior, consider using:\n",
        "    * collections.OrderedDict (for older Python versions)\n",
        "    * A list of tuples [(key, value), ...] if you're using the data primarily as a sequence.\n",
        "\n",
        "20. Explain the difference between a list and a dictionary in terms of data retrieval.\n",
        "  - The difference between a list and a dictionary in terms of data retrieval lies mainly in how you access elements and what kind of data structure they use:\n",
        "\n",
        "  - List\n",
        "     * Ordered collection of items.\n",
        "     * Elements are accessed by index (position), starting from 0.\n",
        "     * Retrieval time is O(1) if the index is known.\n",
        "\n",
        "  - Example:"
      ],
      "metadata": {
        "id": "sNq-ip-AjOTN"
      }
    },
    {
      "cell_type": "code",
      "source": [
        "my_list = ['apple', 'banana', 'cherry']\n",
        "print(my_list[1])\n"
      ],
      "metadata": {
        "colab": {
          "base_uri": "https://localhost:8080/"
        },
        "id": "MnmzNOSkymvO",
        "outputId": "05d22adf-8730-4486-f2bc-4f5edafc21ca"
      },
      "execution_count": null,
      "outputs": [
        {
          "output_type": "stream",
          "name": "stdout",
          "text": [
            "banana\n"
          ]
        }
      ]
    },
    {
      "cell_type": "markdown",
      "source": [
        "  - Dictionary\n",
        "    * Unordered (as of Python 3.6+, dictionaries preserve insertion order, but retrieval is still based on keys).\n",
        "    * Elements are accessed by key, not index.\n",
        "    * Retrieval time is also O(1) on average, thanks to hashing.\n",
        "\n",
        " - Example:"
      ],
      "metadata": {
        "id": "41Zp3ENnzEbr"
      }
    },
    {
      "cell_type": "code",
      "source": [
        "my_dict = {'fruit1': 'apple', 'fruit2': 'banana'}\n",
        "print(my_dict['fruit2'])\n"
      ],
      "metadata": {
        "colab": {
          "base_uri": "https://localhost:8080/"
        },
        "id": "dDVItLp3zOkE",
        "outputId": "69728020-6af7-4ebc-c5ee-72cf4d3ed079"
      },
      "execution_count": null,
      "outputs": [
        {
          "output_type": "stream",
          "name": "stdout",
          "text": [
            "banana\n"
          ]
        }
      ]
    },
    {
      "cell_type": "markdown",
      "source": [
        "# Python Practical Questions\n"
      ],
      "metadata": {
        "id": "mx7R8C1Izeb_"
      }
    },
    {
      "cell_type": "markdown",
      "source": [
        "1. Write a code to create a string with your name and print it?\n"
      ],
      "metadata": {
        "id": "nqqrLcIH911J"
      }
    },
    {
      "cell_type": "code",
      "source": [
        "my_name = \"Ameet\"\n",
        "print(\"My name is:\", my_name)\n"
      ],
      "metadata": {
        "colab": {
          "base_uri": "https://localhost:8080/"
        },
        "id": "Wkf01yMw-T5L",
        "outputId": "97577a5f-46d6-4c9a-8cdc-f97bdc97d69d"
      },
      "execution_count": 17,
      "outputs": [
        {
          "output_type": "stream",
          "name": "stdout",
          "text": [
            "My name is: Ameet\n"
          ]
        }
      ]
    },
    {
      "cell_type": "markdown",
      "source": [
        "2. Write a code to find the length of the string \"Hello World\"?\n"
      ],
      "metadata": {
        "id": "Vq1R494B-bca"
      }
    },
    {
      "cell_type": "code",
      "source": [
        "text = \"Hello World\"\n",
        "length = len(text)\n",
        "print(\"Length of the string is:\", length)\n"
      ],
      "metadata": {
        "colab": {
          "base_uri": "https://localhost:8080/"
        },
        "id": "0eszAWM2-UvZ",
        "outputId": "7fb8a8ba-9d56-46cb-a804-79c8c54a3259"
      },
      "execution_count": 18,
      "outputs": [
        {
          "output_type": "stream",
          "name": "stdout",
          "text": [
            "Length of the string is: 11\n"
          ]
        }
      ]
    },
    {
      "cell_type": "markdown",
      "source": [
        "3. Write a code to slice the first 3 characters from the string \"Python Programming\"?\n"
      ],
      "metadata": {
        "id": "LE8zSzFD-utN"
      }
    },
    {
      "cell_type": "code",
      "source": [
        "text = \"Python Programming\"\n",
        "sliced_text = text[:3]\n",
        "print(\"First 3 characters are:\", sliced_text)\n"
      ],
      "metadata": {
        "colab": {
          "base_uri": "https://localhost:8080/"
        },
        "id": "RCuAZC53-pWu",
        "outputId": "a70873eb-2c1f-458e-85f8-86254f0e321e"
      },
      "execution_count": 20,
      "outputs": [
        {
          "output_type": "stream",
          "name": "stdout",
          "text": [
            "First 3 characters are: Pyt\n"
          ]
        }
      ]
    },
    {
      "cell_type": "markdown",
      "source": [
        "4. Write a code to convert the string \"hello\" to uppercase.\n"
      ],
      "metadata": {
        "id": "CS5PXgU-_G0t"
      }
    },
    {
      "cell_type": "code",
      "source": [
        "text = \"hello\"\n",
        "upper_text = text.upper()\n",
        "print(\"Uppercase string:\", upper_text)\n"
      ],
      "metadata": {
        "colab": {
          "base_uri": "https://localhost:8080/"
        },
        "id": "zm1Bu83D--Wl",
        "outputId": "3e2f76f7-bfc0-4dee-a370-372618a359bc"
      },
      "execution_count": 22,
      "outputs": [
        {
          "output_type": "stream",
          "name": "stdout",
          "text": [
            "Uppercase string: HELLO\n"
          ]
        }
      ]
    },
    {
      "cell_type": "markdown",
      "source": [
        "5. Write a code to replace the word \"apple\" with \"orange\" in the string \"I like apple\".\n"
      ],
      "metadata": {
        "id": "dL2r6kzn_awO"
      }
    },
    {
      "cell_type": "code",
      "source": [
        "text = \"I like apple\"\n",
        "new_text = text.replace(\"apple\", \"orange\")\n",
        "print(\"Updated string:\", new_text)"
      ],
      "metadata": {
        "colab": {
          "base_uri": "https://localhost:8080/"
        },
        "id": "yEnXUIER_Ut2",
        "outputId": "55612298-3470-4979-c386-9a35519600e9"
      },
      "execution_count": 24,
      "outputs": [
        {
          "output_type": "stream",
          "name": "stdout",
          "text": [
            "Updated string: I like orange\n"
          ]
        }
      ]
    },
    {
      "cell_type": "markdown",
      "source": [
        "6. Write a code to create a list with numbers 1 to 5 and print it.\n"
      ],
      "metadata": {
        "id": "k4Ycs7Bu_skp"
      }
    },
    {
      "cell_type": "code",
      "source": [
        "numbers = [1, 2, 3, 4, 5]\n",
        "print(\"List of numbers:\", numbers)"
      ],
      "metadata": {
        "colab": {
          "base_uri": "https://localhost:8080/"
        },
        "id": "7HCCoDuG_kRz",
        "outputId": "641a4958-0a0c-457f-9411-1a858a3cef56"
      },
      "execution_count": 25,
      "outputs": [
        {
          "output_type": "stream",
          "name": "stdout",
          "text": [
            "List of numbers: [1, 2, 3, 4, 5]\n"
          ]
        }
      ]
    },
    {
      "cell_type": "code",
      "source": [
        "numbers = list(range(1, 6))\n",
        "print(\"List of numbers:\", numbers)"
      ],
      "metadata": {
        "colab": {
          "base_uri": "https://localhost:8080/"
        },
        "id": "LkeJf9z0AAAC",
        "outputId": "a52ffff7-7f71-480f-b093-f7f99ed38a94"
      },
      "execution_count": 27,
      "outputs": [
        {
          "output_type": "stream",
          "name": "stdout",
          "text": [
            "List of numbers: [1, 2, 3, 4, 5]\n"
          ]
        }
      ]
    },
    {
      "cell_type": "markdown",
      "source": [
        "7. Write a code to append the number 10 to the list [1, 2, 3, 4].\n"
      ],
      "metadata": {
        "id": "QWCv8DGZATUN"
      }
    },
    {
      "cell_type": "code",
      "source": [
        "numbers = [1, 2, 3, 4]\n",
        "numbers.append(10)\n",
        "print(\"Updated list:\", numbers)"
      ],
      "metadata": {
        "colab": {
          "base_uri": "https://localhost:8080/"
        },
        "id": "glHAFHMQAFwG",
        "outputId": "d59704fd-866a-48aa-b045-9e29c05132e7"
      },
      "execution_count": 29,
      "outputs": [
        {
          "output_type": "stream",
          "name": "stdout",
          "text": [
            "Updated list: [1, 2, 3, 4, 10]\n"
          ]
        }
      ]
    },
    {
      "cell_type": "markdown",
      "source": [
        "8. Write a code to remove the number 3 from the list [1, 2, 3, 4, 5].\n"
      ],
      "metadata": {
        "id": "5KjKYIwfAovp"
      }
    },
    {
      "cell_type": "code",
      "source": [
        "numbers = [1, 2, 3, 4, 5]\n",
        "numbers.remove(3)\n",
        "print(\"Updated list:\", numbers)"
      ],
      "metadata": {
        "colab": {
          "base_uri": "https://localhost:8080/"
        },
        "id": "ya1EiQ1GAipa",
        "outputId": "4c74cbba-ae6b-4568-d86b-f6a3394f1f73"
      },
      "execution_count": 31,
      "outputs": [
        {
          "output_type": "stream",
          "name": "stdout",
          "text": [
            "Updated list: [1, 2, 4, 5]\n"
          ]
        }
      ]
    },
    {
      "cell_type": "markdown",
      "source": [
        "9. Write a code to access the second element in the list ['a', 'b', 'c', 'd'].\n"
      ],
      "metadata": {
        "id": "oX_kcBG0A78o"
      }
    },
    {
      "cell_type": "code",
      "source": [
        "letters = ['a', 'b', 'c', 'd']\n",
        "second_element = letters[1]\n",
        "print(\"Second element:\", second_element)"
      ],
      "metadata": {
        "colab": {
          "base_uri": "https://localhost:8080/"
        },
        "id": "2VU8YOjsA2RD",
        "outputId": "30db0c33-f76b-4ed4-e4e5-88ba8f254f03"
      },
      "execution_count": 33,
      "outputs": [
        {
          "output_type": "stream",
          "name": "stdout",
          "text": [
            "Second element: b\n"
          ]
        }
      ]
    },
    {
      "cell_type": "markdown",
      "source": [
        "10. Write a code to reverse the list [10, 20, 30, 40, 50].\n",
        "\n",
        "    - Method 1: Using reverse() (in-place)"
      ],
      "metadata": {
        "id": "g3y625xlBOqZ"
      }
    },
    {
      "cell_type": "code",
      "source": [
        "numbers = [10, 20, 30, 40, 50]\n",
        "numbers.reverse()\n",
        "print(\"Reversed list:\", numbers)"
      ],
      "metadata": {
        "colab": {
          "base_uri": "https://localhost:8080/"
        },
        "id": "ZRkP--xjBJyt",
        "outputId": "0c8f7097-9ddf-4a9d-ec06-1aa2b470deb7"
      },
      "execution_count": 35,
      "outputs": [
        {
          "output_type": "stream",
          "name": "stdout",
          "text": [
            "Reversed list: [50, 40, 30, 20, 10]\n"
          ]
        }
      ]
    },
    {
      "cell_type": "markdown",
      "source": [
        "  - Method 2: Using slicing ([::-1])"
      ],
      "metadata": {
        "id": "rBGOLzSpBjQz"
      }
    },
    {
      "cell_type": "code",
      "source": [
        "numbers = [10, 20, 30, 40, 50]\n",
        "reversed_list = numbers[::-1]\n",
        "print(\"Reversed list:\", reversed_list)"
      ],
      "metadata": {
        "colab": {
          "base_uri": "https://localhost:8080/"
        },
        "id": "ZguefkSzBdmu",
        "outputId": "a76f03f5-9492-456c-8a30-53dd608e5b4f"
      },
      "execution_count": 37,
      "outputs": [
        {
          "output_type": "stream",
          "name": "stdout",
          "text": [
            "Reversed list: [50, 40, 30, 20, 10]\n"
          ]
        }
      ]
    },
    {
      "cell_type": "markdown",
      "source": [
        "11. Write a code to create a tuple with the elements 100, 200, 300 and print it.\n"
      ],
      "metadata": {
        "id": "8g4p82yoBr2l"
      }
    },
    {
      "cell_type": "code",
      "source": [
        "my_tuple = (100, 200, 300)\n",
        "print(\"Tuple:\", my_tuple)"
      ],
      "metadata": {
        "colab": {
          "base_uri": "https://localhost:8080/"
        },
        "id": "iD_Cp18iBmVf",
        "outputId": "98365899-cc7b-4ca1-80ed-cb230439f9f6"
      },
      "execution_count": 38,
      "outputs": [
        {
          "output_type": "stream",
          "name": "stdout",
          "text": [
            "Tuple: (100, 200, 300)\n"
          ]
        }
      ]
    },
    {
      "cell_type": "markdown",
      "source": [
        "12. Write a code to access the second-to-last element of the tuple ('red', 'green', 'blue', 'yellow').\n"
      ],
      "metadata": {
        "id": "28lHloC8CF4X"
      }
    },
    {
      "cell_type": "code",
      "source": [
        "colors = ('red', 'green', 'blue', 'yellow')\n",
        "second_to_last = colors[-2]\n",
        "print(\"Second-to-last element:\", second_to_last)"
      ],
      "metadata": {
        "colab": {
          "base_uri": "https://localhost:8080/"
        },
        "id": "RvkmlooeB2w2",
        "outputId": "a513df85-7736-4f13-ede6-3e7f3c5d2bac"
      },
      "execution_count": 42,
      "outputs": [
        {
          "output_type": "stream",
          "name": "stdout",
          "text": [
            "Second-to-last element: blue\n"
          ]
        }
      ]
    },
    {
      "cell_type": "markdown",
      "source": [
        "13. Write a code to find the minimum number in the tuple (10, 20, 5, 15).\n"
      ],
      "metadata": {
        "id": "s1xqyglhCXtO"
      }
    },
    {
      "cell_type": "code",
      "source": [
        "numbers = (10, 20, 5, 15)\n",
        "min_number = min(numbers)\n",
        "print(\"Minimum number:\", min_number)"
      ],
      "metadata": {
        "colab": {
          "base_uri": "https://localhost:8080/"
        },
        "id": "Eo39vAWMCM7E",
        "outputId": "1d2f3866-4de2-479a-801f-a15014d02f69"
      },
      "execution_count": 41,
      "outputs": [
        {
          "output_type": "stream",
          "name": "stdout",
          "text": [
            "Minimum number: 5\n"
          ]
        }
      ]
    },
    {
      "cell_type": "markdown",
      "source": [
        "14. Write a code to find the index of the element \"cat\" in the tuple ('dog', 'cat', 'rabbit').\n"
      ],
      "metadata": {
        "id": "ZUhcJDDKCk2I"
      }
    },
    {
      "cell_type": "code",
      "source": [
        "animals = ('dog', 'cat', 'rabbit')\n",
        "index_cat = animals.index('cat')\n",
        "print('Index of \"cat\":', index_cat)"
      ],
      "metadata": {
        "colab": {
          "base_uri": "https://localhost:8080/"
        },
        "id": "9AG_gbC9CfzG",
        "outputId": "e3c1c250-9dd4-4a50-80e6-863955661bc3"
      },
      "execution_count": 44,
      "outputs": [
        {
          "output_type": "stream",
          "name": "stdout",
          "text": [
            "Index of \"cat\": 1\n"
          ]
        }
      ]
    },
    {
      "cell_type": "markdown",
      "source": [
        "15. Write a code to create a tuple containing three different fruits and check if \"kiwi\" is in it.\n"
      ],
      "metadata": {
        "id": "ogJ-ZhxPCzFH"
      }
    },
    {
      "cell_type": "code",
      "source": [
        "fruits = (\"apple\", \"banana\", \"orange\")\n",
        "if \"kiwi\" in fruits:\n",
        "    print(\"Kiwi is in the tuple.\")\n",
        "else:\n",
        "    print(\"Kiwi is NOT in the tuple.\")"
      ],
      "metadata": {
        "colab": {
          "base_uri": "https://localhost:8080/"
        },
        "id": "oz1RprJdCu-J",
        "outputId": "9f9b5b4c-cf8c-459b-a063-ccc0c5e4ab0d"
      },
      "execution_count": 46,
      "outputs": [
        {
          "output_type": "stream",
          "name": "stdout",
          "text": [
            "Kiwi is NOT in the tuple.\n"
          ]
        }
      ]
    },
    {
      "cell_type": "markdown",
      "source": [
        "16. Write a code to create a set with the elements 'a', 'b', 'c' and print it.\n"
      ],
      "metadata": {
        "id": "Yurl05LYC-_4"
      }
    },
    {
      "cell_type": "code",
      "source": [
        "my_set = {'a', 'b', 'c'}\n",
        "print(\"Set:\", my_set)"
      ],
      "metadata": {
        "colab": {
          "base_uri": "https://localhost:8080/"
        },
        "id": "js3Aq39ZC92X",
        "outputId": "a63d0305-5dc7-494c-c4cf-02c2f33a6111"
      },
      "execution_count": 48,
      "outputs": [
        {
          "output_type": "stream",
          "name": "stdout",
          "text": [
            "Set: {'a', 'c', 'b'}\n"
          ]
        }
      ]
    },
    {
      "cell_type": "markdown",
      "source": [
        "17. Write a code to clear all elements from the set {1, 2, 3, 4, 5}.\n"
      ],
      "metadata": {
        "id": "kfwJUY_UDNuF"
      }
    },
    {
      "cell_type": "code",
      "source": [
        "my_set = {1, 2, 3, 4, 5}\n",
        "my_set.clear()\n",
        "print(\"Cleared set:\", my_set)"
      ],
      "metadata": {
        "colab": {
          "base_uri": "https://localhost:8080/"
        },
        "id": "wXlBR-f1DH4k",
        "outputId": "5c108450-474b-4020-cd3a-ee5164b3cc69"
      },
      "execution_count": 50,
      "outputs": [
        {
          "output_type": "stream",
          "name": "stdout",
          "text": [
            "Cleared set: set()\n"
          ]
        }
      ]
    },
    {
      "cell_type": "markdown",
      "source": [
        "18. Write a code to remove the element 4 from the set {1, 2, 3, 4}.\n"
      ],
      "metadata": {
        "id": "aJDa8NTBDYnv"
      }
    },
    {
      "cell_type": "code",
      "source": [
        "my_set = {1, 2, 3, 4}\n",
        "my_set.remove(4)\n",
        "print(\"Updated set:\", my_set)"
      ],
      "metadata": {
        "colab": {
          "base_uri": "https://localhost:8080/"
        },
        "id": "gVcMa9-eDU1x",
        "outputId": "643375a5-fef5-4a45-e1a3-f3ed9e78d9d3"
      },
      "execution_count": 52,
      "outputs": [
        {
          "output_type": "stream",
          "name": "stdout",
          "text": [
            "Updated set: {1, 2, 3}\n"
          ]
        }
      ]
    },
    {
      "cell_type": "markdown",
      "source": [
        "19. Write a code to find the union of two sets {1, 2, 3} and {3, 4, 5}.\n"
      ],
      "metadata": {
        "id": "Dk_qZu7TDoli"
      }
    },
    {
      "cell_type": "code",
      "source": [
        "set1 = {1, 2, 3}\n",
        "set2 = {3, 4, 5}\n",
        "union_set = set1.union(set2)\n",
        "print(\"Union of sets:\", union_set)"
      ],
      "metadata": {
        "colab": {
          "base_uri": "https://localhost:8080/"
        },
        "id": "_bgiBpgaDkJk",
        "outputId": "c7f86d80-d500-4ac2-c39d-1c86eadbddb3"
      },
      "execution_count": 54,
      "outputs": [
        {
          "output_type": "stream",
          "name": "stdout",
          "text": [
            "Union of sets: {1, 2, 3, 4, 5}\n"
          ]
        }
      ]
    },
    {
      "cell_type": "markdown",
      "source": [
        "20. Write a code to find the intersection of two sets {1, 2, 3} and {2, 3, 4}.\n"
      ],
      "metadata": {
        "id": "Ia9dpGbXD5lf"
      }
    },
    {
      "cell_type": "code",
      "source": [
        "set1 = {1, 2, 3}\n",
        "set2 = {2, 3, 4}\n",
        "intersection_set = set1.intersection(set2)\n",
        "print(\"Intersection of sets:\", intersection_set)"
      ],
      "metadata": {
        "colab": {
          "base_uri": "https://localhost:8080/"
        },
        "id": "JIfJtzM-DydU",
        "outputId": "110dd2eb-79f0-4d10-c5a3-c5ad0b2bf394"
      },
      "execution_count": 56,
      "outputs": [
        {
          "output_type": "stream",
          "name": "stdout",
          "text": [
            "Intersection of sets: {2, 3}\n"
          ]
        }
      ]
    },
    {
      "cell_type": "markdown",
      "source": [
        "21. Write a code to create a dictionary with the keys \"name\", \"age\", and \"city\", and print it.\n"
      ],
      "metadata": {
        "id": "qUUQsz__EFL6"
      }
    },
    {
      "cell_type": "code",
      "source": [
        "person = {\n",
        "    \"name\": \"Ameet\",\n",
        "    \"age\": 21,\n",
        "    \"city\": \"Bidar\"\n",
        "}\n",
        "print(\"Dictionary:\", person)"
      ],
      "metadata": {
        "colab": {
          "base_uri": "https://localhost:8080/"
        },
        "id": "8Ss3YLySEBTl",
        "outputId": "91270e9d-88ab-41ad-f19e-b459c83f0e94"
      },
      "execution_count": 58,
      "outputs": [
        {
          "output_type": "stream",
          "name": "stdout",
          "text": [
            "Dictionary: {'name': 'Ameet', 'age': 21, 'city': 'Bidar'}\n"
          ]
        }
      ]
    },
    {
      "cell_type": "markdown",
      "source": [
        "22. Write a code to add a new key-value pair \"country\": \"USA\" to the dictionary {'name': 'John', 'age': 25}.\n"
      ],
      "metadata": {
        "id": "xpSiHxSlEXB1"
      }
    },
    {
      "cell_type": "code",
      "source": [
        "person = {'name': 'John', 'age': 25}\n",
        "person['country'] = 'USA'\n",
        "print(\"Updated dictionary:\", person)\n"
      ],
      "metadata": {
        "colab": {
          "base_uri": "https://localhost:8080/"
        },
        "id": "S1_LjX1aEN1B",
        "outputId": "95f35c21-c958-4bbb-c18f-2d5b7fdd219c"
      },
      "execution_count": 60,
      "outputs": [
        {
          "output_type": "stream",
          "name": "stdout",
          "text": [
            "Updated dictionary: {'name': 'John', 'age': 25, 'country': 'USA'}\n"
          ]
        }
      ]
    },
    {
      "cell_type": "markdown",
      "source": [
        "23. Write a code to access the value associated with the key \"name\" in the dictionary {'name': 'Alice', 'age': 30}.\n"
      ],
      "metadata": {
        "id": "BE2S4ql9Elik"
      }
    },
    {
      "cell_type": "code",
      "source": [
        "person = {'name': 'Alice', 'age': 30}\n",
        "name_value = person['name']\n",
        "print(\"Value associated with 'name':\", name_value)"
      ],
      "metadata": {
        "colab": {
          "base_uri": "https://localhost:8080/"
        },
        "id": "QQzdeg-qEhlg",
        "outputId": "63195d0c-2f1c-46bd-9ca8-0a5c76a4b7a8"
      },
      "execution_count": 62,
      "outputs": [
        {
          "output_type": "stream",
          "name": "stdout",
          "text": [
            "Value associated with 'name': Alice\n"
          ]
        }
      ]
    },
    {
      "cell_type": "markdown",
      "source": [
        "24. Write a code to remove the key \"age\" from the dictionary {'name': 'Bob', 'age': 22, 'city': 'New York'}.\n"
      ],
      "metadata": {
        "id": "38TDzblqE7Yf"
      }
    },
    {
      "cell_type": "code",
      "source": [
        "person = {'name': 'Bob', 'age': 22, 'city': 'New York'}\n",
        "person.pop('age')\n",
        "print(\"Updated dictionary:\", person)"
      ],
      "metadata": {
        "colab": {
          "base_uri": "https://localhost:8080/"
        },
        "id": "zgNJNhgKE0k0",
        "outputId": "31d2e654-ff0a-402d-9af9-60523016e08d"
      },
      "execution_count": 64,
      "outputs": [
        {
          "output_type": "stream",
          "name": "stdout",
          "text": [
            "Updated dictionary: {'name': 'Bob', 'city': 'New York'}\n"
          ]
        }
      ]
    },
    {
      "cell_type": "markdown",
      "source": [
        "25. Write a code to check if the key \"city\" exists in the dictionary {'name': 'Alice', 'city': 'Paris'}.\n"
      ],
      "metadata": {
        "id": "I0jVuh5YFKjx"
      }
    },
    {
      "cell_type": "code",
      "source": [
        "person = {'name': 'Alice', 'city': 'Paris'}\n",
        "if \"city\" in person:\n",
        "    print(\"Key 'city' exists in the dictionary.\")\n",
        "else:\n",
        "    print(\"Key 'city' does NOT exist in the dictionary.\")"
      ],
      "metadata": {
        "colab": {
          "base_uri": "https://localhost:8080/"
        },
        "id": "V1fQRZL3FC6J",
        "outputId": "57274c84-15bc-4ffb-e6c4-9ff959312b4b"
      },
      "execution_count": 66,
      "outputs": [
        {
          "output_type": "stream",
          "name": "stdout",
          "text": [
            "Key 'city' exists in the dictionary.\n"
          ]
        }
      ]
    },
    {
      "cell_type": "markdown",
      "source": [
        "26. Write a code to create a list, a tuple, and a dictionary, and print them all.\n"
      ],
      "metadata": {
        "id": "pmZSXHPpFagU"
      }
    },
    {
      "cell_type": "code",
      "source": [
        "my_list = [1, 2, 3]\n",
        "my_tuple = ('a', 'b', 'c')\n",
        "my_dict = {'name': 'Ameet', 'age': 21}\n",
        "print(\"List:\", my_list)\n",
        "print(\"Tuple:\", my_tuple)\n",
        "print(\"Dictionary:\", my_dict)"
      ],
      "metadata": {
        "colab": {
          "base_uri": "https://localhost:8080/"
        },
        "id": "cJWWlB2JFTxI",
        "outputId": "95e00438-c542-4067-a34c-ed1db9540760"
      },
      "execution_count": 69,
      "outputs": [
        {
          "output_type": "stream",
          "name": "stdout",
          "text": [
            "List: [1, 2, 3]\n",
            "Tuple: ('a', 'b', 'c')\n",
            "Dictionary: {'name': 'Ameet', 'age': 21}\n"
          ]
        }
      ]
    },
    {
      "cell_type": "markdown",
      "source": [
        "27. Write a code to create a list of 5 random numbers between 1 and 100, sort it in ascending order, and print the result.(replaced)\n"
      ],
      "metadata": {
        "id": "TKGhaauDF0X6"
      }
    },
    {
      "cell_type": "code",
      "source": [
        "import random\n",
        "random_numbers = [random.randint(1, 100) for _ in range(5)]\n",
        "random_numbers.sort()\n",
        "print(\"Sorted random numbers:\", random_numbers)"
      ],
      "metadata": {
        "colab": {
          "base_uri": "https://localhost:8080/"
        },
        "id": "g4r6yHNIFpZI",
        "outputId": "674de844-15be-43a1-8e0b-5ae296651a67"
      },
      "execution_count": 71,
      "outputs": [
        {
          "output_type": "stream",
          "name": "stdout",
          "text": [
            "Sorted random numbers: [22, 56, 81, 83, 83]\n"
          ]
        }
      ]
    },
    {
      "cell_type": "markdown",
      "source": [
        "28. Write a code to create a list with strings and print the element at the third index.\n"
      ],
      "metadata": {
        "id": "2Xu-Fz-AGOa3"
      }
    },
    {
      "cell_type": "code",
      "source": [
        "string_list = [\"apple\", \"banana\", \"cherry\", \"date\", \"elderberry\"]\n",
        "print(\"Element at index 3:\", string_list[3])"
      ],
      "metadata": {
        "colab": {
          "base_uri": "https://localhost:8080/"
        },
        "id": "cF17OyvvGI8l",
        "outputId": "894b1bfb-fb18-4635-e620-59f3fc5966aa"
      },
      "execution_count": 73,
      "outputs": [
        {
          "output_type": "stream",
          "name": "stdout",
          "text": [
            "Element at index 3: date\n"
          ]
        }
      ]
    },
    {
      "cell_type": "markdown",
      "source": [
        "29. Write a code to combine two dictionaries into one and print the result.\n"
      ],
      "metadata": {
        "id": "P5KIxxpGGfr-"
      }
    },
    {
      "cell_type": "code",
      "source": [
        "dict1 = {'a': 1, 'b': 2}\n",
        "dict2 = {'c': 3, 'd': 4}\n",
        "combined_dict = dict1 | dict2\n",
        "print(\"Combined dictionary:\", combined_dict)"
      ],
      "metadata": {
        "colab": {
          "base_uri": "https://localhost:8080/"
        },
        "id": "mAcxyR4hGZ90",
        "outputId": "47d86a4c-1b82-4408-9dea-2934969e86e2"
      },
      "execution_count": 75,
      "outputs": [
        {
          "output_type": "stream",
          "name": "stdout",
          "text": [
            "Combined dictionary: {'a': 1, 'b': 2, 'c': 3, 'd': 4}\n"
          ]
        }
      ]
    },
    {
      "cell_type": "markdown",
      "source": [
        "30. Write a code to convert a list of strings into a set.\n"
      ],
      "metadata": {
        "id": "HKZPA40ZGrjA"
      }
    },
    {
      "cell_type": "code",
      "source": [
        "string_list = [\"apple\", \"banana\", \"apple\", \"cherry\", \"banana\"]\n",
        "string_set = set(string_list)\n",
        "print(\"Set:\", string_set)"
      ],
      "metadata": {
        "colab": {
          "base_uri": "https://localhost:8080/"
        },
        "id": "3FeeUN-2Gm21",
        "outputId": "5bb4f94f-229c-4c44-80cd-c45affabe588"
      },
      "execution_count": 77,
      "outputs": [
        {
          "output_type": "stream",
          "name": "stdout",
          "text": [
            "Set: {'banana', 'apple', 'cherry'}\n"
          ]
        }
      ]
    }
  ]
}