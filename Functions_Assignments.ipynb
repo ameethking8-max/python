{
  "nbformat": 4,
  "nbformat_minor": 0,
  "metadata": {
    "colab": {
      "provenance": []
    },
    "kernelspec": {
      "name": "python3",
      "display_name": "Python 3"
    },
    "language_info": {
      "name": "python"
    }
  },
  "cells": [
    {
      "cell_type": "markdown",
      "source": [
        "# Functions Theory Questions\n"
      ],
      "metadata": {
        "id": "lHHUiXiY994q"
      }
    },
    {
      "cell_type": "markdown",
      "source": [
        "1. What is the difference between a function and a method in Python?\n",
        "  - In Python, functions and methods are similar in that both are blocks of reusable code that perform a specific task. However, they differ primarily in how they are defined and used.\n",
        "\n",
        "  - Function\n",
        "     * A function is defined using the def keyword.\n",
        "     * It is not tied to any object.\n",
        "     * Can be called independently.\n",
        "\n",
        "  - Example:"
      ],
      "metadata": {
        "id": "NgKMRqvn-Fk9"
      }
    },
    {
      "cell_type": "code",
      "execution_count": 5,
      "metadata": {
        "colab": {
          "base_uri": "https://localhost:8080/"
        },
        "id": "UQp2QOL19liX",
        "outputId": "1a5da1e8-041e-4c5c-a5fb-ec1d1fd708d7"
      },
      "outputs": [
        {
          "output_type": "stream",
          "name": "stdout",
          "text": [
            "Hello, Ameet!\n"
          ]
        }
      ],
      "source": [
        "def greet(name):\n",
        "    return f\"Hello, {name}!\"\n",
        "\n",
        "print(greet(\"Ameet\"))\n"
      ]
    },
    {
      "cell_type": "markdown",
      "source": [
        "  - Method\n",
        "     * A method is also a function, but it is associated with an object (i. e., it belongs to a class).\n",
        "     * It is called on an object (or instance) of a class.\n",
        "     * It usually takes self as its first parameter (for instance methods)"
      ],
      "metadata": {
        "id": "YRNwTsMi_IAr"
      }
    },
    {
      "cell_type": "markdown",
      "source": [
        "2. Explain the concept of function arguments and parameters in Python.\n",
        "  - In Python, function arguments and parameters are related concepts, but they refer to different roles in a function call.\n",
        "\n",
        "  - Parameters\n",
        "     * Parameters are the placeholders listed in a function’s definition.\n",
        "     * They define what kind of arguments the function can accept.\n",
        "\n",
        "  - Example:   "
      ],
      "metadata": {
        "id": "tvcvYDHH_bGV"
      }
    },
    {
      "cell_type": "code",
      "source": [
        "def greet(name):\n",
        "    print(f\"Hello, {name}!\")\n",
        "greet(\"Ameet\")\n"
      ],
      "metadata": {
        "colab": {
          "base_uri": "https://localhost:8080/"
        },
        "id": "sWYE45dv-vpb",
        "outputId": "d259d9eb-ecec-4e12-be92-5b79de84ece5"
      },
      "execution_count": 6,
      "outputs": [
        {
          "output_type": "stream",
          "name": "stdout",
          "text": [
            "Hello, Ameet!\n"
          ]
        }
      ]
    },
    {
      "cell_type": "markdown",
      "source": [
        " - Arguments\n",
        "   * Arguments are the actual values you pass to a function when calling it.\n",
        "   * These values are assigned to the parameters.\n",
        "\n",
        "3. What are the different ways to define and call a function in Python?\n",
        "  - In Python, defining and calling a function can be done in several different ways depending on how you want to structure or reuse your code.\n",
        "\n",
        "  - Defining a Function\n",
        "    * Using def keyword (standard way)"
      ],
      "metadata": {
        "id": "OiXXSaPJAlGr"
      }
    },
    {
      "cell_type": "code",
      "source": [
        "def greet(name):\n",
        "    return f\"Hello, {name}!\"\n",
        "greet(\"Ameet\")"
      ],
      "metadata": {
        "id": "QowYKkPaADOc",
        "colab": {
          "base_uri": "https://localhost:8080/",
          "height": 35
        },
        "outputId": "683d5a38-32ec-4a7e-b28b-ed8b1a8ca74f"
      },
      "execution_count": 7,
      "outputs": [
        {
          "output_type": "execute_result",
          "data": {
            "text/plain": [
              "'Hello, Ameet!'"
            ],
            "application/vnd.google.colaboratory.intrinsic+json": {
              "type": "string"
            }
          },
          "metadata": {},
          "execution_count": 7
        }
      ]
    },
    {
      "cell_type": "markdown",
      "source": [
        "  - Using lambda (anonymous functions)"
      ],
      "metadata": {
        "id": "FpHPpz3VPOGu"
      }
    },
    {
      "cell_type": "code",
      "source": [
        "greet = lambda name: f\"Hello, {name}!\"\n",
        "greet(name=\"Ameet\")\n",
        "\n"
      ],
      "metadata": {
        "id": "wlEBbjbVPLha",
        "colab": {
          "base_uri": "https://localhost:8080/",
          "height": 35
        },
        "outputId": "fc651abf-1fc7-4e36-842c-01054b7a415e"
      },
      "execution_count": 8,
      "outputs": [
        {
          "output_type": "execute_result",
          "data": {
            "text/plain": [
              "'Hello, Ameet!'"
            ],
            "application/vnd.google.colaboratory.intrinsic+json": {
              "type": "string"
            }
          },
          "metadata": {},
          "execution_count": 8
        }
      ]
    },
    {
      "cell_type": "markdown",
      "source": [
        "  - Using def inside another function (nested function)"
      ],
      "metadata": {
        "id": "MBmQrH_sPvR9"
      }
    },
    {
      "cell_type": "code",
      "source": [
        "def outer():\n",
        "    def inner():\n",
        "        print(\"Inner function\")\n",
        "    inner()\n",
        "outer()\n"
      ],
      "metadata": {
        "id": "y-4Y_HLIPdNq",
        "colab": {
          "base_uri": "https://localhost:8080/"
        },
        "outputId": "c6e7522d-78d6-40e0-a65c-1484e166a579"
      },
      "execution_count": 9,
      "outputs": [
        {
          "output_type": "stream",
          "name": "stdout",
          "text": [
            "Inner function\n"
          ]
        }
      ]
    },
    {
      "cell_type": "markdown",
      "source": [
        "  - Using *args and **kwargs (variable arguments)"
      ],
      "metadata": {
        "id": "gFtOsUeyQFgN"
      }
    },
    {
      "cell_type": "code",
      "source": [
        "def show(*args, **kwargs):\n",
        "    print(\"Args:\", args)\n",
        "    print(\"Kwargs:\", kwargs)\n",
        "    Args: (1,2,3)\n",
        "    kwargs: {'a': Apple, 'b':'banana'}\n",
        "show(1,2,3, a=\"Apple\", b=\"banana\")"
      ],
      "metadata": {
        "id": "__qpmv6MP5Nd",
        "colab": {
          "base_uri": "https://localhost:8080/"
        },
        "outputId": "007431fb-1fb9-4e32-9068-76a01a43e24a"
      },
      "execution_count": 10,
      "outputs": [
        {
          "output_type": "stream",
          "name": "stdout",
          "text": [
            "Args: (1, 2, 3)\n",
            "Kwargs: {'a': 'Apple', 'b': 'banana'}\n"
          ]
        }
      ]
    },
    {
      "cell_type": "markdown",
      "source": [
        "4. What is the purpose of the return statement in a Python function?\n",
        "  - The return statement is used to exit a function and optionally send back a value to the place where the function was called.\n",
        "\n",
        "  - Main Purposes\n",
        "     * Exit the function\n",
        "        * return immediately stops the execution of the function.\n",
        "        * Code after the return line in the function won’t be executed."
      ],
      "metadata": {
        "id": "lkPusMl6RXih"
      }
    },
    {
      "cell_type": "code",
      "source": [
        "def stop_here():\n",
        "    print(\"Before return\")\n",
        "    return\n",
        "    print(\"This will not run\")\n",
        "print(stop_here())\n"
      ],
      "metadata": {
        "id": "cQB65X7PQUyw",
        "colab": {
          "base_uri": "https://localhost:8080/"
        },
        "outputId": "95a6616b-f3a6-4982-d9aa-cf8b7d861c76"
      },
      "execution_count": 11,
      "outputs": [
        {
          "output_type": "stream",
          "name": "stdout",
          "text": [
            "Before return\n",
            "None\n"
          ]
        }
      ]
    },
    {
      "cell_type": "markdown",
      "source": [
        " - Return a value to the caller\n",
        "   * You can return a single value, multiple values (as a tuple), or nothing."
      ],
      "metadata": {
        "id": "pb5cCAVqS8aH"
      }
    },
    {
      "cell_type": "code",
      "source": [
        "def add(a, b):\n",
        "    return a + b\n",
        "\n",
        "result = add(20, 40)\n",
        "print(result)\n"
      ],
      "metadata": {
        "id": "VOk23cr4SCSc",
        "colab": {
          "base_uri": "https://localhost:8080/"
        },
        "outputId": "b4dfe88f-c234-4a80-b37d-40126e4af50b"
      },
      "execution_count": 12,
      "outputs": [
        {
          "output_type": "stream",
          "name": "stdout",
          "text": [
            "60\n"
          ]
        }
      ]
    },
    {
      "cell_type": "markdown",
      "source": [
        "5. What are iterators in Python and how do they differ from iterables?\n",
        "  - In Python, iterables and iterators are both used for looping (e.g., in for loops), but they are not the same thing.                  \n",
        "\n",
        "  - Iterable\n",
        "     * An iterable is any object that can be looped over.\n",
        "\n",
        "  - Examples of iterables:\n",
        "     *Lists: [1, 2, 3]\n",
        "     * Strings: \"hello\"\n",
        "     * Tuples: (1, 2)\n",
        "     * Dictionaries: {\"a\": 1}\n",
        "     * Sets: {1, 2, 3}   "
      ],
      "metadata": {
        "id": "uwiO3PlBTWS3"
      }
    },
    {
      "cell_type": "code",
      "source": [
        "my_list = [30, 40, 50]\n",
        "for item in my_list:\n",
        "    print(item)\n"
      ],
      "metadata": {
        "id": "pnaHJpQUTHA1",
        "colab": {
          "base_uri": "https://localhost:8080/"
        },
        "outputId": "b71fc6da-065f-428d-a235-1f8058cc3c68"
      },
      "execution_count": 13,
      "outputs": [
        {
          "output_type": "stream",
          "name": "stdout",
          "text": [
            "30\n",
            "40\n",
            "50\n"
          ]
        }
      ]
    },
    {
      "cell_type": "markdown",
      "source": [
        "  - Iterator\n",
        "    * An iterator is an object that remembers its state and can be used to get the next item from a collection, one at a time.\n",
        "\n",
        "  - Example:  "
      ],
      "metadata": {
        "id": "lWeK40zAUHZV"
      }
    },
    {
      "cell_type": "code",
      "source": [
        "my_list = [50, 60, 70]\n",
        "it = iter(my_list)\n",
        "\n",
        "print(next(it))\n",
        "print(next(it))\n",
        "print(next(it))\n"
      ],
      "metadata": {
        "id": "NGoI5PzOT_lJ",
        "colab": {
          "base_uri": "https://localhost:8080/"
        },
        "outputId": "21cd2915-98c5-482d-aad6-aaf16a1ee1e7"
      },
      "execution_count": 14,
      "outputs": [
        {
          "output_type": "stream",
          "name": "stdout",
          "text": [
            "50\n",
            "60\n",
            "70\n"
          ]
        }
      ]
    },
    {
      "cell_type": "markdown",
      "source": [
        "6. Explain the concept of generators in Python and how they are defined.\n",
        "  - A generator is a special type of function in Python that produces values one at a time, instead of returning them all at once.\n",
        "      \n",
        "      * Generators are:\n",
        "         * Memory-efficient\n",
        "         * Lazy-evaluated (generate values on the fly)\n",
        "         * Useful when working with large datasets or streams of data\n",
        "\n",
        "  - How Are Generators Defined?      \n",
        "     * Using the yield keyword\n",
        "        * Instead of return, a generator uses yield to pause the function and return a value, saving its internal state for the next call.\n",
        "\n",
        "  - Example:      "
      ],
      "metadata": {
        "id": "U-tXckOwUrmw"
      }
    },
    {
      "cell_type": "code",
      "source": [
        "def count_up_to(n):\n",
        "    count = 1\n",
        "    while count <= n:\n",
        "        yield count\n",
        "        count += 1\n",
        "\n",
        "gen = count_up_to(5)\n",
        "\n",
        "print(next(gen))\n",
        "print(next(gen))\n",
        "print(next(gen))\n",
        "print(next(gen))\n",
        "print(next(gen))"
      ],
      "metadata": {
        "id": "_AEYWaa_Uh-d",
        "colab": {
          "base_uri": "https://localhost:8080/"
        },
        "outputId": "25c0381a-61f8-47ec-a710-205f0691f1a4"
      },
      "execution_count": 15,
      "outputs": [
        {
          "output_type": "stream",
          "name": "stdout",
          "text": [
            "1\n",
            "2\n",
            "3\n",
            "4\n",
            "5\n"
          ]
        }
      ]
    },
    {
      "cell_type": "markdown",
      "source": [
        "7. What are the advantages of using generators over regular functions?\n",
        "  - Generators offer several key advantages, especially when working with large data, streams, or when performance and memory efficiency are important.\n",
        "\n",
        "  - Memory Efficiency\n",
        "     * Generators don’t store all values in memory.\n",
        "     * They yield one value at a time on demand, instead of returning a whole list or data structure."
      ],
      "metadata": {
        "id": "tlWJ2Vb1V7eO"
      }
    },
    {
      "cell_type": "code",
      "source": [
        "def get_numbers_list(n):\n",
        "    return [i for i in range(n)]\n",
        "\n",
        "def get_numbers_gen(n):\n",
        "    for i in range(n):\n",
        "        yield i\n",
        "get_numbers_list(8)\n"
      ],
      "metadata": {
        "id": "J8OOsxgAVLL7",
        "colab": {
          "base_uri": "https://localhost:8080/"
        },
        "outputId": "225e69cd-f95e-4e38-f075-0f1c239422f0"
      },
      "execution_count": 16,
      "outputs": [
        {
          "output_type": "execute_result",
          "data": {
            "text/plain": [
              "[0, 1, 2, 3, 4, 5, 6, 7]"
            ]
          },
          "metadata": {},
          "execution_count": 16
        }
      ]
    },
    {
      "cell_type": "markdown",
      "source": [
        "  - Lazy Evaluation\n",
        "     * Generators compute values only when needed.\n",
        "     * This is ideal for infinite sequences or long pipelines"
      ],
      "metadata": {
        "id": "egkZFwggW0Cn"
      }
    },
    {
      "cell_type": "code",
      "source": [
        "def infinite_counter():\n",
        "    i = 0\n",
        "    while True:\n",
        "        yield i\n",
        "        i += 1\n",
        "infinite_counter()"
      ],
      "metadata": {
        "id": "spLEU-Q_WQQ5",
        "colab": {
          "base_uri": "https://localhost:8080/"
        },
        "outputId": "6f4c08d8-fbbe-4a5b-9a58-14d720a26ca1"
      },
      "execution_count": 17,
      "outputs": [
        {
          "output_type": "execute_result",
          "data": {
            "text/plain": [
              "<generator object infinite_counter at 0x78833fce9cc0>"
            ]
          },
          "metadata": {},
          "execution_count": 17
        }
      ]
    },
    {
      "cell_type": "markdown",
      "source": [
        " - Improved Performance (Faster Startup)\n",
        "      * Because generators yield results incrementally, they can start producing results immediately without waiting for the entire computation to finish\n",
        "\n",
        " - Pipelining and Streaming Data   \n",
        "   * Generators are perfect for streaming data, such as:\n",
        "      * Reading large files\n",
        "      * Processing real-time input/output\n",
        "      * Working with APIs or databases"
      ],
      "metadata": {
        "id": "7ZT3PvNhXozk"
      }
    },
    {
      "cell_type": "code",
      "source": [
        "def read_logs(filename):\n",
        "    with open(filename) as file:\n",
        "        for line in file:\n",
        "            yield line\n",
        "read_logs(\"coding\")\n"
      ],
      "metadata": {
        "id": "FjugeJUEXFQk",
        "colab": {
          "base_uri": "https://localhost:8080/"
        },
        "outputId": "0b0b7f15-eb91-4fa7-e5b7-187abcc5cc30"
      },
      "execution_count": 18,
      "outputs": [
        {
          "output_type": "execute_result",
          "data": {
            "text/plain": [
              "<generator object read_logs at 0x78833fb70a90>"
            ]
          },
          "metadata": {},
          "execution_count": 18
        }
      ]
    },
    {
      "cell_type": "markdown",
      "source": [
        " - Cleaner Code for Iteration\n",
        "   * Generators simplify iteration logic, avoiding complex loops and manual state tracking."
      ],
      "metadata": {
        "id": "KH2t_hDaYmE0"
      }
    },
    {
      "cell_type": "code",
      "source": [
        "def fibonacci():\n",
        "    a, b = 0, 1\n",
        "    while True:\n",
        "        yield a\n",
        "        a, b = b, a + b\n",
        "fibonacci()\n",
        "\n"
      ],
      "metadata": {
        "id": "erj6F9ixYHa9",
        "colab": {
          "base_uri": "https://localhost:8080/"
        },
        "outputId": "289f5cef-18aa-44c2-dad9-c3ec35e27c2d"
      },
      "execution_count": 19,
      "outputs": [
        {
          "output_type": "execute_result",
          "data": {
            "text/plain": [
              "<generator object fibonacci at 0x78833fb5e810>"
            ]
          },
          "metadata": {},
          "execution_count": 19
        }
      ]
    },
    {
      "cell_type": "markdown",
      "source": [
        "8. What is a lambda function in Python and when is it typically used?\n",
        "  - A lambda function is a small, anonymous function defined using the lambda keyword.\n",
        "      * It can have any number of arguments, but only one expression.\n",
        "      * It returns the result of the expression automatically (no need for return).\n",
        "      * Often used inline for short, throwaway functions.\n",
        "\n",
        "  - Syntax:    \n",
        "      * lambda arguments: expression\n"
      ],
      "metadata": {
        "id": "_jD9idCjY7Vq"
      }
    },
    {
      "cell_type": "code",
      "source": [
        "def square(x):\n",
        "    return x * x\n",
        "square(5)\n"
      ],
      "metadata": {
        "id": "J_dHv5iiYuKS",
        "colab": {
          "base_uri": "https://localhost:8080/"
        },
        "outputId": "eb6d6afd-f4b4-4d19-be87-89903298c6a3"
      },
      "execution_count": 20,
      "outputs": [
        {
          "output_type": "execute_result",
          "data": {
            "text/plain": [
              "25"
            ]
          },
          "metadata": {},
          "execution_count": 20
        }
      ]
    },
    {
      "cell_type": "markdown",
      "source": [
        "Q. When Is Lambda Typically Used?\n",
        "  - Lambda functions are used when you need a short, simple function for a limited scope, especially when passing it as an argument.\n",
        "\n",
        "  - Common Use Cases:\n",
        "    * With built-in functions like map(), filter(), and reduce()"
      ],
      "metadata": {
        "id": "TkoR2jLlZqRq"
      }
    },
    {
      "cell_type": "code",
      "source": [
        "# map() — Apply function to each element\n",
        "\n",
        "nums = [1, 2, 3]\n",
        "squares = list(map(lambda x: x * x, nums))\n",
        "print(squares)"
      ],
      "metadata": {
        "id": "mdkSQxNaZkUw",
        "colab": {
          "base_uri": "https://localhost:8080/"
        },
        "outputId": "30f62b9e-7c08-4d0d-a13b-abb4ab6cfa2a"
      },
      "execution_count": 21,
      "outputs": [
        {
          "output_type": "stream",
          "name": "stdout",
          "text": [
            "[1, 4, 9]\n"
          ]
        }
      ]
    },
    {
      "cell_type": "code",
      "source": [
        "# filter() — Keep elements that return True\n",
        "\n",
        "even = list(filter(lambda x: x % 2 == 0, nums))\n",
        "print(even)"
      ],
      "metadata": {
        "id": "72Q7_wGCaFpM",
        "colab": {
          "base_uri": "https://localhost:8080/"
        },
        "outputId": "bfad8acc-8da7-4ef4-f3fd-3fadfabba505"
      },
      "execution_count": 22,
      "outputs": [
        {
          "output_type": "stream",
          "name": "stdout",
          "text": [
            "[2]\n"
          ]
        }
      ]
    },
    {
      "cell_type": "code",
      "source": [
        "# reduce() — Cumulative computation (from functools)\n",
        "\n",
        "from functools import reduce\n",
        "total = reduce(lambda a, b: a + b, nums)\n",
        "print(total)"
      ],
      "metadata": {
        "id": "VILj899gaw4W",
        "colab": {
          "base_uri": "https://localhost:8080/"
        },
        "outputId": "d13d5324-5202-4c97-9883-59e24e098846"
      },
      "execution_count": 23,
      "outputs": [
        {
          "output_type": "stream",
          "name": "stdout",
          "text": [
            "6\n"
          ]
        }
      ]
    },
    {
      "cell_type": "markdown",
      "source": [
        "  - With sorted() using a custom key"
      ],
      "metadata": {
        "id": "HcyrWQg-bBBT"
      }
    },
    {
      "cell_type": "code",
      "source": [
        "names = [\"zebra\", \"dog\", \"snake\"]\n",
        "sorted_names = sorted(names, key=lambda name: len(name))\n",
        "print(sorted_names)\n"
      ],
      "metadata": {
        "id": "V4oQyZ3Ya5Ck",
        "colab": {
          "base_uri": "https://localhost:8080/"
        },
        "outputId": "e96c6ba6-4fe1-4af3-d16e-bc090dcee859"
      },
      "execution_count": 24,
      "outputs": [
        {
          "output_type": "stream",
          "name": "stdout",
          "text": [
            "['dog', 'zebra', 'snake']\n"
          ]
        }
      ]
    },
    {
      "cell_type": "markdown",
      "source": [
        "9. Explain the purpose and usage of the map() function in Python.\n",
        "   \n",
        "   - Purpose of map()\n",
        "     * Apply a function to every item in an iterable (like a list, tuple, etc.) and return a new map object (which is an iterator).\n",
        "     * It’s a functional programming tool for transforming data without writing explicit loops.\n",
        "\n",
        "   - Syntax  \n",
        "     * map(function, iterable)\n",
        "       * function: A function that takes one (or more) arguments.\n",
        "       * iterable: A sequence like a list, tuple, string, etc."
      ],
      "metadata": {
        "id": "tWKplj_Qb3TA"
      }
    },
    {
      "cell_type": "code",
      "source": [
        "# Example 1: Square all numbers in a list\n",
        "\n",
        "nums = [1, 2, 3, 4]\n",
        "squares = map(lambda x: x * x, nums)\n",
        "print(list(squares))\n"
      ],
      "metadata": {
        "id": "5MY2zP_fciy5",
        "colab": {
          "base_uri": "https://localhost:8080/"
        },
        "outputId": "5f7f5fb4-a79e-4c88-e5dc-aee8e599c1e2"
      },
      "execution_count": 25,
      "outputs": [
        {
          "output_type": "stream",
          "name": "stdout",
          "text": [
            "[1, 4, 9, 16]\n"
          ]
        }
      ]
    },
    {
      "cell_type": "code",
      "source": [
        "# Example 2: Convert list of strings to uppercase\n",
        "\n",
        "words = [\"hello\", \"world\"]\n",
        "uppercased = map(str.upper, words)\n",
        "print(list(uppercased))\n"
      ],
      "metadata": {
        "id": "TkdgkKibcmkA",
        "colab": {
          "base_uri": "https://localhost:8080/"
        },
        "outputId": "09bdb43b-3480-4f7c-d39e-a9f98575fa3b"
      },
      "execution_count": 26,
      "outputs": [
        {
          "output_type": "stream",
          "name": "stdout",
          "text": [
            "['HELLO', 'WORLD']\n"
          ]
        }
      ]
    },
    {
      "cell_type": "code",
      "source": [
        "# Example 3: Use a regular function instead of lambda\n",
        "\n",
        "def double(x):\n",
        "    return x * 2\n",
        "\n",
        "result = map(double, [1, 2, 3])\n",
        "print(list(result))\n"
      ],
      "metadata": {
        "id": "hYgmdbWUcyS0",
        "colab": {
          "base_uri": "https://localhost:8080/"
        },
        "outputId": "a4e5a558-75ce-47ca-e6a6-8b80435c0c28"
      },
      "execution_count": 27,
      "outputs": [
        {
          "output_type": "stream",
          "name": "stdout",
          "text": [
            "[2, 4, 6]\n"
          ]
        }
      ]
    },
    {
      "cell_type": "code",
      "source": [
        "# Example 4: Using multiple iterables\n",
        "\n",
        "a = [1, 2, 3]\n",
        "b = [4, 5, 6]\n",
        "result = map(lambda x, y: x + y, a, b)\n",
        "print(list(result))"
      ],
      "metadata": {
        "id": "G5gEFtHTdAn9",
        "colab": {
          "base_uri": "https://localhost:8080/"
        },
        "outputId": "54199bc7-e4b6-41ff-f2b1-c398474bc9fb"
      },
      "execution_count": 28,
      "outputs": [
        {
          "output_type": "stream",
          "name": "stdout",
          "text": [
            "[5, 7, 9]\n"
          ]
        }
      ]
    },
    {
      "cell_type": "markdown",
      "source": [
        "10. What is the difference between map(), reduce(), and filter() functions in Python?\n",
        "   - These are three powerful functional programming tools in Python used to process iterables like lists or tuples.\n",
        "\n",
        "   - Overview Table\n",
        "     * Function - map() , filter() , reduce()\n",
        "     * Purpose - Transforms each item , Filters items based on a condition , Reduces all items to a single value\n",
        "     * Input - Function + Iterable , Function (returns bool) + Iterable , Function\n",
        "     * Output - Iterator of transformed items , Iterator of matching items , value\n",
        "\n",
        "   - map(function, iterable)  \n",
        "     * Applies a function to each element of an iterable.\n",
        "     * Returns a new iterator with the results'\n",
        "\n",
        "   - Example:  "
      ],
      "metadata": {
        "id": "hi96JKx7dRv2"
      }
    },
    {
      "cell_type": "code",
      "source": [
        "nums = [1, 2, 3, 4]\n",
        "squares = map(lambda x: x * x, nums)\n",
        "print(list(squares))\n"
      ],
      "metadata": {
        "id": "v7CQ8T7Oec5g",
        "colab": {
          "base_uri": "https://localhost:8080/"
        },
        "outputId": "618bb366-1495-4c90-a1fe-83734162822a"
      },
      "execution_count": 29,
      "outputs": [
        {
          "output_type": "stream",
          "name": "stdout",
          "text": [
            "[1, 4, 9, 16]\n"
          ]
        }
      ]
    },
    {
      "cell_type": "markdown",
      "source": [
        "  - filter(function, iterable)\n",
        "    * Filters elements for which the function returns True.\n",
        "    * Returns a subset of the original iterable.\n",
        "\n",
        "  - Example  "
      ],
      "metadata": {
        "id": "Dn6UZZniehIP"
      }
    },
    {
      "cell_type": "code",
      "source": [
        "nums = [1, 2, 3, 4]\n",
        "evens = filter(lambda x: x % 2 == 0, nums)\n",
        "print(list(evens))\n"
      ],
      "metadata": {
        "id": "7utVsWmLedX-",
        "colab": {
          "base_uri": "https://localhost:8080/"
        },
        "outputId": "f46a6c60-c085-41ff-ffa7-4ced012816fe"
      },
      "execution_count": 30,
      "outputs": [
        {
          "output_type": "stream",
          "name": "stdout",
          "text": [
            "[2, 4]\n"
          ]
        }
      ]
    },
    {
      "cell_type": "markdown",
      "source": [
        "  - reduce(function, iterable)\n",
        "    * Applies a function cumulatively to the items, reducing them to a single value.\n",
        "\n",
        "  - Example:  "
      ],
      "metadata": {
        "id": "sczwkQt-eznS"
      }
    },
    {
      "cell_type": "code",
      "source": [
        "from functools import reduce\n",
        "\n",
        "nums = [1, 2, 3, 4]\n",
        "product = reduce(lambda x, y: x * y, nums)\n",
        "print(product)\n"
      ],
      "metadata": {
        "id": "JfyHbfHpevxJ",
        "colab": {
          "base_uri": "https://localhost:8080/"
        },
        "outputId": "462b1868-427a-4f2c-b57a-5e34b58368f4"
      },
      "execution_count": 31,
      "outputs": [
        {
          "output_type": "stream",
          "name": "stdout",
          "text": [
            "24\n"
          ]
        }
      ]
    },
    {
      "cell_type": "markdown",
      "source": [
        "11. Using pen & Paper write the internal mechanism for sum operation using  reduce function on this given\n",
        "list:[47,11,42,13];\n"
      ],
      "metadata": {
        "id": "QGx3hgpnfRvc"
      }
    },
    {
      "cell_type": "markdown",
      "source": [
        "![WhatsApp Image 2025-09-25 at 8.41.22 AM.jpeg](data:image/jpeg;base64,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)"
      ],
      "metadata": {
        "id": "ny42fxQLkiLZ"
      }
    },
    {
      "cell_type": "markdown",
      "source": [
        "# Functions Practical Questions\n"
      ],
      "metadata": {
        "id": "Qmg51BPOjFsE"
      }
    },
    {
      "cell_type": "markdown",
      "source": [
        "1. Write a Python function that takes a list of numbers as input and returns the sum of all even numbers in the list.\n",
        "\n",
        "  - Function to Sum Even Numbers"
      ],
      "metadata": {
        "id": "ApYX9STMlQdR"
      }
    },
    {
      "cell_type": "code",
      "source": [
        "def sum_even_numbers(numbers):\n",
        "    even_sum = 0\n",
        "    for num in numbers:\n",
        "        if num % 2 == 0:\n",
        "            even_sum += num\n",
        "    return even_sum\n",
        "my_list = [1, 2, 3, 4, 5, 6]\n",
        "result = sum_even_numbers(my_list)\n",
        "print(\"Sum of even numbers:\", result)\n"
      ],
      "metadata": {
        "colab": {
          "base_uri": "https://localhost:8080/"
        },
        "id": "fFUEHEo3l9XK",
        "outputId": "e497f616-dbc6-403d-9e18-cfb980a1967a"
      },
      "execution_count": 32,
      "outputs": [
        {
          "output_type": "stream",
          "name": "stdout",
          "text": [
            "Sum of even numbers: 12\n"
          ]
        }
      ]
    },
    {
      "cell_type": "markdown",
      "source": [
        "2. Create a Python function that accepts a string and returns the reverse of that string.\n",
        "\n",
        "  - Function to Reverse a String"
      ],
      "metadata": {
        "id": "qecAmRzTntzq"
      }
    },
    {
      "cell_type": "code",
      "source": [
        "def reverse_string(s):\n",
        "    return s[::-1]\n",
        "text = \"hello\"\n",
        "reversed_text = reverse_string(text)\n",
        "print(\"Reversed:\", reversed_text)\n"
      ],
      "metadata": {
        "colab": {
          "base_uri": "https://localhost:8080/"
        },
        "id": "rZxnr1nTn3Y8",
        "outputId": "61ec5016-a1e2-4cde-a9e8-8cb08370a9a3"
      },
      "execution_count": 33,
      "outputs": [
        {
          "output_type": "stream",
          "name": "stdout",
          "text": [
            "Reversed: olleh\n"
          ]
        }
      ]
    },
    {
      "cell_type": "markdown",
      "source": [
        "3. Implement a Python function that takes a list of integers and returns a new list containing the squares of each number.\n",
        "\n",
        "  - Function to Square Each Number in a List"
      ],
      "metadata": {
        "id": "02gRWdSWoES_"
      }
    },
    {
      "cell_type": "code",
      "source": [
        "def square_numbers(numbers):\n",
        "    return [x ** 2 for x in numbers]\n",
        "nums = [1, 2, 3, 4, 5]\n",
        "squared = square_numbers(nums)\n",
        "print(\"Squared list:\", squared)\n"
      ],
      "metadata": {
        "colab": {
          "base_uri": "https://localhost:8080/"
        },
        "id": "9pweO6M4oRAo",
        "outputId": "1da4e7c1-afff-4641-a7f0-04ec3ceb8405"
      },
      "execution_count": 34,
      "outputs": [
        {
          "output_type": "stream",
          "name": "stdout",
          "text": [
            "Squared list: [1, 4, 9, 16, 25]\n"
          ]
        }
      ]
    },
    {
      "cell_type": "markdown",
      "source": [
        "4. Write a Python function that checks if a given number is prime or not from 1 to 200.\n",
        "   - Function to Check for Prime Numbers (1 to 200)\n",
        "\n",
        "\n",
        "\n",
        "\n",
        "   "
      ],
      "metadata": {
        "id": "GJYgsVJeob2S"
      }
    },
    {
      "cell_type": "code",
      "source": [
        "def is_prime(n):\n",
        "    if n < 2:\n",
        "        return False\n",
        "    for i in range(2, int(n ** 0.5) + 1):\n",
        "        if n % i == 0:\n",
        "            return False\n",
        "    return True\n",
        "\n",
        "for number in range(1, 201):\n",
        "    if is_prime(number):\n",
        "        print(f\"{number} is a prime number.\")\n",
        "    else:\n",
        "        print(f\"{number} is not a prime number.\")\n"
      ],
      "metadata": {
        "colab": {
          "base_uri": "https://localhost:8080/"
        },
        "id": "vcRlZTXx2WZU",
        "outputId": "bf9809d9-fd76-4188-d818-b1de8e157205"
      },
      "execution_count": 37,
      "outputs": [
        {
          "output_type": "stream",
          "name": "stdout",
          "text": [
            "1 is not a prime number.\n",
            "2 is a prime number.\n",
            "3 is a prime number.\n",
            "4 is not a prime number.\n",
            "5 is a prime number.\n",
            "6 is not a prime number.\n",
            "7 is a prime number.\n",
            "8 is not a prime number.\n",
            "9 is not a prime number.\n",
            "10 is not a prime number.\n",
            "11 is a prime number.\n",
            "12 is not a prime number.\n",
            "13 is a prime number.\n",
            "14 is not a prime number.\n",
            "15 is not a prime number.\n",
            "16 is not a prime number.\n",
            "17 is a prime number.\n",
            "18 is not a prime number.\n",
            "19 is a prime number.\n",
            "20 is not a prime number.\n",
            "21 is not a prime number.\n",
            "22 is not a prime number.\n",
            "23 is a prime number.\n",
            "24 is not a prime number.\n",
            "25 is not a prime number.\n",
            "26 is not a prime number.\n",
            "27 is not a prime number.\n",
            "28 is not a prime number.\n",
            "29 is a prime number.\n",
            "30 is not a prime number.\n",
            "31 is a prime number.\n",
            "32 is not a prime number.\n",
            "33 is not a prime number.\n",
            "34 is not a prime number.\n",
            "35 is not a prime number.\n",
            "36 is not a prime number.\n",
            "37 is a prime number.\n",
            "38 is not a prime number.\n",
            "39 is not a prime number.\n",
            "40 is not a prime number.\n",
            "41 is a prime number.\n",
            "42 is not a prime number.\n",
            "43 is a prime number.\n",
            "44 is not a prime number.\n",
            "45 is not a prime number.\n",
            "46 is not a prime number.\n",
            "47 is a prime number.\n",
            "48 is not a prime number.\n",
            "49 is not a prime number.\n",
            "50 is not a prime number.\n",
            "51 is not a prime number.\n",
            "52 is not a prime number.\n",
            "53 is a prime number.\n",
            "54 is not a prime number.\n",
            "55 is not a prime number.\n",
            "56 is not a prime number.\n",
            "57 is not a prime number.\n",
            "58 is not a prime number.\n",
            "59 is a prime number.\n",
            "60 is not a prime number.\n",
            "61 is a prime number.\n",
            "62 is not a prime number.\n",
            "63 is not a prime number.\n",
            "64 is not a prime number.\n",
            "65 is not a prime number.\n",
            "66 is not a prime number.\n",
            "67 is a prime number.\n",
            "68 is not a prime number.\n",
            "69 is not a prime number.\n",
            "70 is not a prime number.\n",
            "71 is a prime number.\n",
            "72 is not a prime number.\n",
            "73 is a prime number.\n",
            "74 is not a prime number.\n",
            "75 is not a prime number.\n",
            "76 is not a prime number.\n",
            "77 is not a prime number.\n",
            "78 is not a prime number.\n",
            "79 is a prime number.\n",
            "80 is not a prime number.\n",
            "81 is not a prime number.\n",
            "82 is not a prime number.\n",
            "83 is a prime number.\n",
            "84 is not a prime number.\n",
            "85 is not a prime number.\n",
            "86 is not a prime number.\n",
            "87 is not a prime number.\n",
            "88 is not a prime number.\n",
            "89 is a prime number.\n",
            "90 is not a prime number.\n",
            "91 is not a prime number.\n",
            "92 is not a prime number.\n",
            "93 is not a prime number.\n",
            "94 is not a prime number.\n",
            "95 is not a prime number.\n",
            "96 is not a prime number.\n",
            "97 is a prime number.\n",
            "98 is not a prime number.\n",
            "99 is not a prime number.\n",
            "100 is not a prime number.\n",
            "101 is a prime number.\n",
            "102 is not a prime number.\n",
            "103 is a prime number.\n",
            "104 is not a prime number.\n",
            "105 is not a prime number.\n",
            "106 is not a prime number.\n",
            "107 is a prime number.\n",
            "108 is not a prime number.\n",
            "109 is a prime number.\n",
            "110 is not a prime number.\n",
            "111 is not a prime number.\n",
            "112 is not a prime number.\n",
            "113 is a prime number.\n",
            "114 is not a prime number.\n",
            "115 is not a prime number.\n",
            "116 is not a prime number.\n",
            "117 is not a prime number.\n",
            "118 is not a prime number.\n",
            "119 is not a prime number.\n",
            "120 is not a prime number.\n",
            "121 is not a prime number.\n",
            "122 is not a prime number.\n",
            "123 is not a prime number.\n",
            "124 is not a prime number.\n",
            "125 is not a prime number.\n",
            "126 is not a prime number.\n",
            "127 is a prime number.\n",
            "128 is not a prime number.\n",
            "129 is not a prime number.\n",
            "130 is not a prime number.\n",
            "131 is a prime number.\n",
            "132 is not a prime number.\n",
            "133 is not a prime number.\n",
            "134 is not a prime number.\n",
            "135 is not a prime number.\n",
            "136 is not a prime number.\n",
            "137 is a prime number.\n",
            "138 is not a prime number.\n",
            "139 is a prime number.\n",
            "140 is not a prime number.\n",
            "141 is not a prime number.\n",
            "142 is not a prime number.\n",
            "143 is not a prime number.\n",
            "144 is not a prime number.\n",
            "145 is not a prime number.\n",
            "146 is not a prime number.\n",
            "147 is not a prime number.\n",
            "148 is not a prime number.\n",
            "149 is a prime number.\n",
            "150 is not a prime number.\n",
            "151 is a prime number.\n",
            "152 is not a prime number.\n",
            "153 is not a prime number.\n",
            "154 is not a prime number.\n",
            "155 is not a prime number.\n",
            "156 is not a prime number.\n",
            "157 is a prime number.\n",
            "158 is not a prime number.\n",
            "159 is not a prime number.\n",
            "160 is not a prime number.\n",
            "161 is not a prime number.\n",
            "162 is not a prime number.\n",
            "163 is a prime number.\n",
            "164 is not a prime number.\n",
            "165 is not a prime number.\n",
            "166 is not a prime number.\n",
            "167 is a prime number.\n",
            "168 is not a prime number.\n",
            "169 is not a prime number.\n",
            "170 is not a prime number.\n",
            "171 is not a prime number.\n",
            "172 is not a prime number.\n",
            "173 is a prime number.\n",
            "174 is not a prime number.\n",
            "175 is not a prime number.\n",
            "176 is not a prime number.\n",
            "177 is not a prime number.\n",
            "178 is not a prime number.\n",
            "179 is a prime number.\n",
            "180 is not a prime number.\n",
            "181 is a prime number.\n",
            "182 is not a prime number.\n",
            "183 is not a prime number.\n",
            "184 is not a prime number.\n",
            "185 is not a prime number.\n",
            "186 is not a prime number.\n",
            "187 is not a prime number.\n",
            "188 is not a prime number.\n",
            "189 is not a prime number.\n",
            "190 is not a prime number.\n",
            "191 is a prime number.\n",
            "192 is not a prime number.\n",
            "193 is a prime number.\n",
            "194 is not a prime number.\n",
            "195 is not a prime number.\n",
            "196 is not a prime number.\n",
            "197 is a prime number.\n",
            "198 is not a prime number.\n",
            "199 is a prime number.\n",
            "200 is not a prime number.\n"
          ]
        }
      ]
    },
    {
      "cell_type": "markdown",
      "source": [
        "5. Create an iterator class in Python that generates the Fibonacci sequence up to a specified number of terms."
      ],
      "metadata": {
        "id": "ZJ754kbQ4h4G"
      }
    },
    {
      "cell_type": "code",
      "source": [
        "class FibonacciIterator:\n",
        "    def __init__(self, max_terms):\n",
        "        self.max_terms = max_terms\n",
        "        self.count = 0\n",
        "        self.a, self.b = 0, 1\n",
        "\n",
        "    def __iter__(self):\n",
        "        return self\n",
        "\n",
        "    def __next__(self):\n",
        "        if self.count >= self.max_terms:\n",
        "            raise StopIteration\n",
        "        if self.count == 0:\n",
        "            self.count += 1\n",
        "            return 0\n",
        "        elif self.count == 1:\n",
        "            self.count += 1\n",
        "            return 1\n",
        "        else:\n",
        "            self.a, self.b = self.b, self.a + self.b\n",
        "            self.count += 1\n",
        "            return self.a\n",
        "\n",
        "max_terms = 10\n",
        "fib_iterator = FibonacciIterator(max_terms)\n",
        "\n",
        "for term in fib_iterator:\n",
        "    print(term)\n"
      ],
      "metadata": {
        "colab": {
          "base_uri": "https://localhost:8080/"
        },
        "id": "hEp5UdLb3d9B",
        "outputId": "d8a5cdf4-9a96-412f-c7cf-8bfd12394246"
      },
      "execution_count": 39,
      "outputs": [
        {
          "output_type": "stream",
          "name": "stdout",
          "text": [
            "0\n",
            "1\n",
            "1\n",
            "1\n",
            "2\n",
            "3\n",
            "5\n",
            "8\n",
            "13\n",
            "21\n"
          ]
        }
      ]
    },
    {
      "cell_type": "markdown",
      "source": [
        "6. Write a generator function in Python that yields the powers of 2 up to a given exponent."
      ],
      "metadata": {
        "id": "DVi3mWS-5hHe"
      }
    },
    {
      "cell_type": "code",
      "source": [
        "def powers_of_two(max_exponent):\n",
        "\n",
        "    for exponent in range(max_exponent + 1):\n",
        "        yield 2 ** exponent\n",
        "\n",
        "for value in powers_of_two(5):\n",
        "    print(value)\n"
      ],
      "metadata": {
        "colab": {
          "base_uri": "https://localhost:8080/"
        },
        "id": "0TSyulba5Awa",
        "outputId": "5b1a02b6-0bae-4049-8aec-fa378861a792"
      },
      "execution_count": 49,
      "outputs": [
        {
          "output_type": "stream",
          "name": "stdout",
          "text": [
            "1\n",
            "2\n",
            "4\n",
            "8\n",
            "16\n",
            "32\n"
          ]
        }
      ]
    },
    {
      "cell_type": "markdown",
      "source": [
        "7. Implement a generator function that reads a file line by line and yields each line as a string."
      ],
      "metadata": {
        "id": "5FordXXT5gde"
      }
    },
    {
      "cell_type": "code",
      "source": [
        "def read_file_lines(file_path):\n",
        "    try:\n",
        "        with open(file_path, 'r') as file:\n",
        "            for line in file:\n",
        "                yield line.strip()\n",
        "    except FileNotFoundError:\n",
        "        print(f\"File '{file_path}' not found.\")\n",
        "        yield None\n",
        "\n",
        "file_path = 'example.txt'\n",
        "for line in read_file_lines(file_path):\n",
        "    if line is not None:\n",
        "        print(line)"
      ],
      "metadata": {
        "colab": {
          "base_uri": "https://localhost:8080/"
        },
        "id": "XkEY8ETY6VOI",
        "outputId": "6cd492a2-9865-49cb-c1cb-7fdbe2aa2ebe"
      },
      "execution_count": 61,
      "outputs": [
        {
          "output_type": "stream",
          "name": "stdout",
          "text": [
            "This is the first line.\n",
            "This is the second line.\n",
            "And this is the third line.\n"
          ]
        }
      ]
    },
    {
      "cell_type": "markdown",
      "source": [
        "8. Use a lambda function in Python to sort a list of tuples based on the second element of each tuple."
      ],
      "metadata": {
        "id": "xcV1eGpH7iXG"
      }
    },
    {
      "cell_type": "code",
      "source": [
        "tuples_list = [(1, 3), (4, 1), (5, 2), (2, 4)]\n",
        "\n",
        "sorted_list = sorted(tuples_list, key=lambda x: x[1])\n",
        "\n",
        "print(sorted_list)\n"
      ],
      "metadata": {
        "colab": {
          "base_uri": "https://localhost:8080/"
        },
        "id": "Jo6eebwx6VxA",
        "outputId": "31349651-8ae2-4ac1-fdfd-1f2068f2b8cc"
      },
      "execution_count": 63,
      "outputs": [
        {
          "output_type": "stream",
          "name": "stdout",
          "text": [
            "[(4, 1), (5, 2), (1, 3), (2, 4)]\n"
          ]
        }
      ]
    },
    {
      "cell_type": "markdown",
      "source": [
        "9. Write a Python program that uses map() to convert a list of temperatures from Celsius to Fahrenheit."
      ],
      "metadata": {
        "id": "9mk1omqq7tlm"
      }
    },
    {
      "cell_type": "code",
      "source": [
        "def celsius_to_fahrenheit(c):\n",
        "    return (c * 9/5) + 32\n",
        "\n",
        "celsius_temps = [0, 10, 20, 30, 40, 100]\n",
        "\n",
        "fahrenheit_temps = list(map(celsius_to_fahrenheit, celsius_temps))\n",
        "\n",
        "print(fahrenheit_temps)\n"
      ],
      "metadata": {
        "colab": {
          "base_uri": "https://localhost:8080/"
        },
        "id": "7hABj-qg7pBp",
        "outputId": "7e528702-7158-4c97-b37b-b5a935b36051"
      },
      "execution_count": 65,
      "outputs": [
        {
          "output_type": "stream",
          "name": "stdout",
          "text": [
            "[32.0, 50.0, 68.0, 86.0, 104.0, 212.0]\n"
          ]
        }
      ]
    },
    {
      "cell_type": "markdown",
      "source": [
        "10. Create a Python program that uses filter() to remove all the vowels from a given string."
      ],
      "metadata": {
        "id": "M0oJjxZ777Ky"
      }
    },
    {
      "cell_type": "code",
      "source": [
        "def remove_vowels(s):\n",
        "    vowels = \"aeiouAEIOU\"\n",
        "    filtered_chars = filter(lambda char: char not in vowels, s)\n",
        "    return ''.join(filtered_chars)\n",
        "\n",
        "input_string = \"Hello, World!\"\n",
        "result = remove_vowels(input_string)\n",
        "print(result)\n"
      ],
      "metadata": {
        "colab": {
          "base_uri": "https://localhost:8080/"
        },
        "id": "7K8KLHBa7zAK",
        "outputId": "da298b60-b047-422a-b958-1de2f29695bb"
      },
      "execution_count": 67,
      "outputs": [
        {
          "output_type": "stream",
          "name": "stdout",
          "text": [
            "Hll, Wrld!\n"
          ]
        }
      ]
    },
    {
      "cell_type": "markdown",
      "source": [
        "11. Imagine an accounting routine used in a book shop. It works on a list with sublists, which look like this:\n",
        "\n",
        "Write a Python program, which returns a list with 2-tuples. Each tuple consists of the order number and the\n",
        "product of the price per item and the quantity. The product should be increased by 10,- € if the value of the\n",
        "order is smaller than 100,00 €.\n",
        "\n",
        "Write a Python program using lambda and map."
      ],
      "metadata": {
        "id": "e2yjQK4v96IB"
      }
    },
    {
      "cell_type": "code",
      "source": [
        "orders = [\n",
        "    [34587, \"Learning Python, Mark Lutz\", 4, 40.95],\n",
        "    [98762, \"Programming Python, Mark Lutz\", 5, 56.80],\n",
        "    [77226, \"Head First Python, Paul Barry\", 3, 32.95],\n",
        "    [88112, \"Einführung in Python3, Bernd Klein\", 3, 24.99]\n",
        "]\n",
        "\n",
        "invoice_totals = list(map(\n",
        "    lambda order: (\n",
        "        order[0],\n",
        "        round(order[2] * order[3] + (10 if order[2] * order[3] < 100 else 0), 2)\n",
        "    ),\n",
        "    orders\n",
        "))\n",
        "\n",
        "print(invoice_totals)\n"
      ],
      "metadata": {
        "colab": {
          "base_uri": "https://localhost:8080/"
        },
        "id": "GpSkhCQD8GC8",
        "outputId": "577cf360-5dcd-4968-ee97-5ffd3e511317"
      },
      "execution_count": 69,
      "outputs": [
        {
          "output_type": "stream",
          "name": "stdout",
          "text": [
            "[(34587, 163.8), (98762, 284.0), (77226, 108.85), (88112, 84.97)]\n"
          ]
        }
      ]
    },
    {
      "cell_type": "code",
      "source": [],
      "metadata": {
        "id": "gXEFQQqg8-m0"
      },
      "execution_count": null,
      "outputs": []
    }
  ]
}