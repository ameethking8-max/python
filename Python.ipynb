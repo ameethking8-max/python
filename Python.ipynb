{
  "nbformat": 4,
  "nbformat_minor": 0,
  "metadata": {
    "colab": {
      "provenance": []
    },
    "kernelspec": {
      "name": "python3",
      "display_name": "Python 3"
    },
    "language_info": {
      "name": "python"
    }
  },
  "cells": [
    {
      "cell_type": "markdown",
      "source": [
        "# Python Basics Questions\n"
      ],
      "metadata": {
        "id": "4ibek8ArOXfK"
      }
    },
    {
      "cell_type": "markdown",
      "source": [
        "1. What is Python, and why is it popular?\n",
        "  - Python is a high-level, interpreted programming language known for its simplicity, readability, and versatility. It was created by Guido van Rossum and first released in 1991.\n",
        "\n",
        "  Q. Why Is Python Popular?\n",
        "   - Python has become one of the most popular programming languages in the world for several reasons:\n",
        "\n",
        "  - Easy to Learn and Read\n",
        "       * Python syntax is very similar to English, making it beginner-friendly.\n",
        "\n",
        "   - Large Community and Ecosystem\n",
        "       * Millions of developers use it.\n",
        "       * Tons of tutorials, libraries, and frameworks are available (like Django, Flask, Pandas, NumPy, TensorFlow, etc.).\n",
        "\n",
        "   - Versatility\n",
        "      * You can use Python for:\n",
        "      * Web development\n",
        "      * Data science & machine learning\n",
        "      * Automation/scripting\n",
        "      * Game development\n",
        "      * Cybersecurity\n",
        "      * IoT and more\n",
        "\n",
        "2. What is an interpreter in Python?\n",
        "  - An interpreter is a program that reads and executes your Python code line by line.\n",
        "    * When you write Python code (in a .py file or interactively), the Python interpreter processes each line, translates it into machine code, and executes it immediately."
      ],
      "metadata": {
        "id": "AXRlSpvsOliC"
      }
    },
    {
      "cell_type": "code",
      "source": [
        "print(\"Hello, world!\")\n"
      ],
      "metadata": {
        "colab": {
          "base_uri": "https://localhost:8080/"
        },
        "id": "sU468HRjRyTf",
        "outputId": "83664ba2-1caa-472f-af8c-0c3881799d76"
      },
      "execution_count": null,
      "outputs": [
        {
          "output_type": "stream",
          "name": "stdout",
          "text": [
            "Hello, world!\n"
          ]
        }
      ]
    },
    {
      "cell_type": "markdown",
      "source": [
        "  - The Python interpreter:\n",
        "     * Reads the line.\n",
        "     *  Converts it to lower-level instructions the computer understands.\n",
        "     * Executes it instantly.\n",
        "     * Moves to the next line.\n",
        "     * So unlike compiled languages like C or Java (where the entire program is compiled into machine code first), Python code is interpreted and run line by line.\n",
        "\n",
        "3. What are pre-defined keywords in Python?\n",
        "  - In Python, pre-defined keywords (also called reserved keywords or simply keywords) are words that have special meaning in the language. These words are reserved by Python and cannot be used as identifiers (e.g., variable names, function names).\n",
        "     * They are part of the core syntax and define things like control flow (if, else, while), data types (True, None), and other language features (class, def, import, etc.).\n",
        "\n",
        "  - Here’s a list of Python keywords:\n",
        "        \n",
        "        False      await      else       import     pass\n",
        "        None       break      except     in         raise\n",
        "        True       class      finally    is         return\n",
        "        and        continue   for        lambda     try\n",
        "        as         def        from       nonlocal   while\n",
        "        assert     del        global     not        with\n",
        "        async      elif       if         or         yield\n",
        "\n",
        " - Characteristics\n",
        "     * Case-sensitive: True is a keyword, but true is not.\n",
        "     * Cannot be used as identifiers: You can't do if = 10 because if is a keyword."
      ],
      "metadata": {
        "id": "IeFVv6AyR11o"
      }
    },
    {
      "cell_type": "code",
      "source": [
        "import keyword\n",
        "print(keyword.kwlist)\n"
      ],
      "metadata": {
        "colab": {
          "base_uri": "https://localhost:8080/"
        },
        "id": "FzYJdzW8iSUS",
        "outputId": "500f6b1d-7aa5-4709-b591-e4e8bbb0a023"
      },
      "execution_count": null,
      "outputs": [
        {
          "output_type": "stream",
          "name": "stdout",
          "text": [
            "['False', 'None', 'True', 'and', 'as', 'assert', 'async', 'await', 'break', 'class', 'continue', 'def', 'del', 'elif', 'else', 'except', 'finally', 'for', 'from', 'global', 'if', 'import', 'in', 'is', 'lambda', 'nonlocal', 'not', 'or', 'pass', 'raise', 'return', 'try', 'while', 'with', 'yield']\n"
          ]
        }
      ]
    },
    {
      "cell_type": "code",
      "source": [
        "if True:\n",
        "    print(\"This is a keyword example.\")\n"
      ],
      "metadata": {
        "colab": {
          "base_uri": "https://localhost:8080/"
        },
        "id": "0p81gR7MiWry",
        "outputId": "85889b03-5709-4fec-f094-bcb1dffc7f65"
      },
      "execution_count": null,
      "outputs": [
        {
          "output_type": "stream",
          "name": "stdout",
          "text": [
            "This is a keyword example.\n"
          ]
        }
      ]
    },
    {
      "cell_type": "markdown",
      "source": [
        "   * if and True are keywords.\n",
        "   * print is not a keyword; it’s a built-in function.\n",
        "\n",
        "4. Can keywords be used as variable names?\n",
        "  - No, keywords cannot be used as variable names in Python.\n",
        "     \n",
        "    * Why?  \n",
        "      * Because keywords have special meaning in the Python language syntax. Using them as variable names would confuse the interpreter and lead to a syntax error.\n",
        "\n",
        "    * Example (Invalid code)   \n",
        "       * if = 10\n",
        "       * This will raise a SyntaxError because if is a reserved keyword used for conditional statements.\n",
        "\n",
        "     * Correct usage  \n"
      ],
      "metadata": {
        "id": "Kc0vAxuRjDsp"
      }
    },
    {
      "cell_type": "code",
      "source": [
        "my_var = 10\n",
        "print(my_var)"
      ],
      "metadata": {
        "colab": {
          "base_uri": "https://localhost:8080/"
        },
        "id": "qboyRB15lDaJ",
        "outputId": "a25cb5e4-8f39-4779-a1aa-576ce3ce6527"
      },
      "execution_count": null,
      "outputs": [
        {
          "output_type": "stream",
          "name": "stdout",
          "text": [
            "10\n"
          ]
        }
      ]
    },
    {
      "cell_type": "markdown",
      "source": [
        "5. What is mutability in Python?\n",
        " - Mutability refers to whether or not an object can be changed after it is created.\n",
        "\n",
        " * Types of Objects in Python\n",
        "\n",
        "     - Python objects fall into two broad categories:\n",
        "        - Type\tCan Be Changed?\tExample\n",
        "          * Mutable\t Yes\tlist, dict, set\n",
        "          * Immutable\t No\tint, float, str, tuple, bool\n",
        "\n",
        "    -  Mutable Objects\n",
        "       * These can be modified after creation. You can change, add, or remove elements.\n",
        "       * Example: List (Mutable)\n",
        "      "
      ],
      "metadata": {
        "id": "5uBUtFKamU0I"
      }
    },
    {
      "cell_type": "code",
      "source": [
        "my_list = [1, 2, 3]\n",
        "my_list[0] = 10\n",
        "my_list.append(4)\n",
        "print(my_list)\n"
      ],
      "metadata": {
        "colab": {
          "base_uri": "https://localhost:8080/"
        },
        "id": "6ygxl8Weotdb",
        "outputId": "0971b410-560c-44ad-8488-cdd491c21b7f"
      },
      "execution_count": null,
      "outputs": [
        {
          "output_type": "stream",
          "name": "stdout",
          "text": [
            "[10, 2, 3, 4]\n"
          ]
        }
      ]
    },
    {
      "cell_type": "markdown",
      "source": [
        "  * Immutable Objects\n",
        "    - These cannot be changed after creation. Any \"change\" creates a new object.\n",
        "\n",
        "      * Example: String (Immutable)\n",
        "          * my_str = \"hello\"\n",
        "          * my_str[0] = \"H\"\n",
        "          * This will raise a TypeError\n",
        "\n",
        "      * Proper way:\n",
        "          "
      ],
      "metadata": {
        "id": "h4A8keaxpazw"
      }
    },
    {
      "cell_type": "code",
      "source": [
        "new_str = \"H\" + my_str[1:]\n",
        "print(new_str)\n"
      ],
      "metadata": {
        "colab": {
          "base_uri": "https://localhost:8080/"
        },
        "id": "ZjstklJuqMZf",
        "outputId": "08d9a628-5b35-4cb5-ed46-aebf1755e4fc"
      },
      "execution_count": null,
      "outputs": [
        {
          "output_type": "stream",
          "name": "stdout",
          "text": [
            "Hello\n"
          ]
        }
      ]
    },
    {
      "cell_type": "markdown",
      "source": [
        "6. Why are lists mutable, but tuples are immutable?\n",
        "  - It comes down to the design choices in Python — based on use cases, performance, and safety.\n",
        "\n",
        "-  Lists Are Mutable — Because They Are Built for Change\n",
        "\n",
        "   * Purpose: Lists are designed to store collections of items that can change over time.  \n",
        "   * Common use: You might need to add, remove, or update elements often."
      ],
      "metadata": {
        "id": "FBBhb2DVsRQ5"
      }
    },
    {
      "cell_type": "code",
      "source": [
        "numbers = [1, 2, 3]\n",
        "numbers.append(4)\n",
        "numbers[0] = 100\n",
        "print(numbers)"
      ],
      "metadata": {
        "colab": {
          "base_uri": "https://localhost:8080/"
        },
        "id": "f8roj3Pgul4Q",
        "outputId": "989f48c1-8ac4-490e-81f7-03cb0aaba43a"
      },
      "execution_count": null,
      "outputs": [
        {
          "output_type": "stream",
          "name": "stdout",
          "text": [
            "[100, 2, 3, 4]\n"
          ]
        }
      ]
    },
    {
      "cell_type": "markdown",
      "source": [
        "   - This is efficient and flexible, which is exactly what lists are for.\n",
        "\n",
        "   - Tuples Are Immutable — Because They're Built for Stability\n",
        "\n",
        "     * Purpose: Tuples are meant to represent fixed collections of items.\n",
        "\n",
        "   - Use case: You often use tuples for data that shouldn't change, like coordinates or database keys.\n",
        "     * point = (10, 20)\n",
        "     * point[0] = 50   \n",
        "     * This would raise a TypeError\n",
        "\n",
        "  - Immutability makes tuples:\n",
        "     * Hashable (can be used as dictionary keys)\n",
        "     * Safer (because they can't be changed accidentally)\n",
        "     * Slightly faster to access and store\n",
        "\n",
        "7. What is the difference between “==” and “is” operators in Python?\n",
        "  - == → Equality Operator\n",
        "      * Checks if the values are equal.\n",
        "      * It compares the contents of two objects    \n",
        "\n",
        "  - is → Identity Operator\n",
        "      * Checks if two variables point to the same object in memory.\n",
        "      * It compares object identity, not value.     \n",
        "\n",
        "  - Example 1: With Integers\n"
      ],
      "metadata": {
        "id": "n5-FLq4nuzzl"
      }
    },
    {
      "cell_type": "code",
      "source": [
        "a = 1000\n",
        "b = 1000\n",
        "\n",
        "print(a == b)\n",
        "print(a is b)\n"
      ],
      "metadata": {
        "colab": {
          "base_uri": "https://localhost:8080/"
        },
        "id": "qLuGaWs91ezP",
        "outputId": "bfc40764-dd25-41c5-ce5e-b5f4b69e21a2"
      },
      "execution_count": null,
      "outputs": [
        {
          "output_type": "stream",
          "name": "stdout",
          "text": [
            "True\n",
            "False\n"
          ]
        }
      ]
    },
    {
      "cell_type": "markdown",
      "source": [
        "   -  Example 2: With Lists"
      ],
      "metadata": {
        "id": "LHVEr-Nk1pvk"
      }
    },
    {
      "cell_type": "code",
      "source": [
        "x = [1, 2, 3]\n",
        "y = [1, 2, 3]\n",
        "\n",
        "print(x == y)\n",
        "print(x is y)\n"
      ],
      "metadata": {
        "colab": {
          "base_uri": "https://localhost:8080/"
        },
        "id": "iA4prh7F1wRn",
        "outputId": "7177cba7-799c-4197-8f69-b29d8df0a1ac"
      },
      "execution_count": null,
      "outputs": [
        {
          "output_type": "stream",
          "name": "stdout",
          "text": [
            "True\n",
            "False\n"
          ]
        }
      ]
    },
    {
      "cell_type": "markdown",
      "source": [
        "   -  Example 3: With Identity"
      ],
      "metadata": {
        "id": "j8I15soT1_S1"
      }
    },
    {
      "cell_type": "code",
      "source": [
        "z = x\n",
        "print(z is x)\n"
      ],
      "metadata": {
        "colab": {
          "base_uri": "https://localhost:8080/"
        },
        "id": "gIpY1azn2LAk",
        "outputId": "3713d190-167f-4068-deb4-2b0d10e81dcf"
      },
      "execution_count": null,
      "outputs": [
        {
          "output_type": "stream",
          "name": "stdout",
          "text": [
            "True\n"
          ]
        }
      ]
    },
    {
      "cell_type": "markdown",
      "source": [
        "   - Example 4: With None"
      ],
      "metadata": {
        "id": "1HvXU6Ar2Srt"
      }
    },
    {
      "cell_type": "code",
      "source": [
        "val = None\n",
        "print(val is None)\n"
      ],
      "metadata": {
        "colab": {
          "base_uri": "https://localhost:8080/"
        },
        "id": "N_2pl0Bu2XVo",
        "outputId": "a4d3ff07-bed0-44e8-e5fa-c6c36fe3b002"
      },
      "execution_count": null,
      "outputs": [
        {
          "output_type": "stream",
          "name": "stdout",
          "text": [
            "True\n"
          ]
        }
      ]
    },
    {
      "cell_type": "markdown",
      "source": [
        "8. What are logical operators in Python?\n",
        " - Logical operators in Python are used to combine conditional statements and control the flow of logic in a program.\n",
        "\n",
        "  - There are three main logical operators:\n",
        "\n",
        "    * Operator\n",
        "       * And , or , not\n",
        "    * Meaning\n",
        "       * True if both are True , True if at least one is True , Negates the result\n",
        "    * Example\n",
        "       * a and b , a or b , not a\n",
        "\n",
        "   - and — Logical AND    \n",
        "      - Returns True only if both conditions are true.\n"
      ],
      "metadata": {
        "id": "rsLRTz_r2kYd"
      }
    },
    {
      "cell_type": "code",
      "source": [
        "x = 5\n",
        "print(x > 2 and x < 10)\n",
        "print(x > 2 and x > 10)\n"
      ],
      "metadata": {
        "colab": {
          "base_uri": "https://localhost:8080/"
        },
        "id": "afGDiB_l73gY",
        "outputId": "b14339e9-bf99-4e6d-99b9-be4a61dc7e72"
      },
      "execution_count": null,
      "outputs": [
        {
          "output_type": "stream",
          "name": "stdout",
          "text": [
            "True\n",
            "False\n"
          ]
        }
      ]
    },
    {
      "cell_type": "markdown",
      "source": [
        "  - or — Logical OR\n",
        "    - Returns True if at least one condition is true."
      ],
      "metadata": {
        "id": "Px4JHlxd8JgJ"
      }
    },
    {
      "cell_type": "code",
      "source": [
        "x = 5\n",
        "print(x > 2 or x > 10)\n",
        "print(x < 2 or x > 10)\n"
      ],
      "metadata": {
        "colab": {
          "base_uri": "https://localhost:8080/"
        },
        "id": "3Jz5TbMC8m2f",
        "outputId": "9783995c-14af-41bd-e862-598437108e3f"
      },
      "execution_count": null,
      "outputs": [
        {
          "output_type": "stream",
          "name": "stdout",
          "text": [
            "True\n",
            "False\n"
          ]
        }
      ]
    },
    {
      "cell_type": "markdown",
      "source": [
        "  - not — Logical NOT\n",
        "    - Reverses the result: True becomes False, and vice versa."
      ],
      "metadata": {
        "id": "VvLZZ58n8t1-"
      }
    },
    {
      "cell_type": "code",
      "source": [
        "x = True\n",
        "print(not x)\n"
      ],
      "metadata": {
        "colab": {
          "base_uri": "https://localhost:8080/"
        },
        "id": "xUuk8SYG82al",
        "outputId": "11ba9170-b9c7-440d-f857-723d7c3f15a6"
      },
      "execution_count": null,
      "outputs": [
        {
          "output_type": "stream",
          "name": "stdout",
          "text": [
            "False\n"
          ]
        }
      ]
    },
    {
      "cell_type": "markdown",
      "source": [
        "9. What is type casting in Python?\n",
        "  - Type casting in Python means converting a value from one data type to another, such as turning a string into an integer, or a float into a string.\n",
        "    \n",
        "  - Why Use Type Casting?\n",
        "       - You often use type casting when:\n",
        "         * You need to perform operations that require a specific type.\n",
        "         * You're taking input (which is always a string) and need it as a number.\n",
        "         * You're formatting data for output or storage.\n",
        "\n",
        "  - Two Types of Type Casting:\n",
        "     - Implicit Type Casting (Automatic)\n",
        "         * Python automatically converts one type to another during operations."
      ],
      "metadata": {
        "id": "ReTo0Ox-9Axu"
      }
    },
    {
      "cell_type": "code",
      "source": [
        "x = 10\n",
        "y = 2.5\n",
        "\n",
        "result = x + y\n",
        "print(result)\n",
        "print(type(result))\n"
      ],
      "metadata": {
        "colab": {
          "base_uri": "https://localhost:8080/"
        },
        "id": "3vTxPrFWCjRn",
        "outputId": "2fa5f46b-dc1e-4515-cb9a-763b2ab29ecd"
      },
      "execution_count": null,
      "outputs": [
        {
          "output_type": "stream",
          "name": "stdout",
          "text": [
            "12.5\n",
            "<class 'float'>\n"
          ]
        }
      ]
    },
    {
      "cell_type": "markdown",
      "source": [
        "  - Explicit Type Casting (Manual)\n",
        "    - You manually convert the type using Python functions.\n",
        "  \n",
        "   - Common Type Casting Functions\n",
        "       * Function\n",
        "          * int() , float() , str() , bool() , list() , tuple()\n",
        "       * Converts To\n",
        "          * Integer , Float , String , Boolean , List , Tuple\n",
        "       \n",
        "\n",
        "\n",
        "\n",
        "          \n",
        "           \n",
        "           \n",
        "\n",
        "\n",
        "\n"
      ],
      "metadata": {
        "id": "3tfO2iqfCwBE"
      }
    },
    {
      "cell_type": "code",
      "source": [
        "# String to Integer\n",
        "num_str = \"123\"\n",
        "num = int(num_str)\n",
        "print(num + 1)  # Output: 124\n",
        "\n",
        "# Integer to Float\n",
        "x = 10\n",
        "y = float(x)\n",
        "print(y)  # Output: 10.0\n",
        "\n",
        "# Float to Integer (decimal is dropped)\n",
        "z = int(9.8)\n",
        "print(z)  # Output: 9\n",
        "\n",
        "# Number to String\n",
        "n = 42\n",
        "text = str(n)\n",
        "print(\"The number is \" + text)\n"
      ],
      "metadata": {
        "colab": {
          "base_uri": "https://localhost:8080/"
        },
        "id": "ekZL54hzFNLj",
        "outputId": "66ca5965-10e9-45ff-f6c9-01dece5d92f0"
      },
      "execution_count": null,
      "outputs": [
        {
          "output_type": "stream",
          "name": "stdout",
          "text": [
            "124\n",
            "10.0\n",
            "9\n",
            "The number is 42\n"
          ]
        }
      ]
    },
    {
      "cell_type": "markdown",
      "source": [
        "10. What is the difference between implicit and explicit type casting\n",
        "   - The difference between implicit and explicit type casting (also known as type conversion) lies in who initiates the conversion and how safe or automatic the conversion is.\n",
        "\n",
        "     - Implicit Type Casting (Type Promotion)\n",
        "     - Also called automatic type conversion.\n",
        "        * Who does it? The compiler automatically converts one data type to another.\n",
        "        * When? Happens when:\n",
        "        * No data loss is expected.\n",
        "        * Converting from a smaller to a larger data type (e.g., int to float).\n",
        "\n",
        "      - Why? To ensure type compatibility in operations.  \n",
        "\n",
        "      - Example (in C/C++/Java):\n",
        "          * int x = 10;\n",
        "          * float y = x;  // Implicit casting from int to float\n",
        "          * Here, x is automatically converted to float without any explicit instruction.\n",
        "\n",
        "     - Explicit Type Casting (Type Conversion)\n",
        "     - Also called manual type conversion.\n",
        "         * Who does it? The programmer specifies the conversion.\n",
        "         * When? Used when:\n",
        "         * There’s a potential for data loss.\n",
        "         * You want precise control over the conversion.\n",
        "    \n",
        "     - Why? To override default compiler behavior.\n",
        "\n",
        "     - Example in C/C++/Java:\n",
        "         * float a = 10.5;\n",
        "         * int b = (int)a;  // Explicit casting from float to int\n",
        "         * Here, the value of a is manually cast to int, losing the decimal part (b becomes 10).\n",
        "        \n",
        "11. What is the purpose of conditional statements in Python?\n",
        "    - Conditional statements in Python are used to make decisions in your code — they allow your program to choose different actions based on different conditions.\n",
        "\n",
        "    - Why Use Conditional Statements?\n",
        "        * To control the flow of your program.\n",
        "        * To execute specific code blocks only when certain conditions are met.\n",
        "        * To make your program dynamic, responsive, and intelligent.\n",
        "\n",
        "    - Syntax Overview    \n",
        "        * Python provides several conditional constructs:\n",
        "\n",
        "     - if condition:\n",
        "        * code block\n",
        "\n",
        "     - elif another_condition:\n",
        "        * another code block\n",
        "\n",
        "      - else:\n",
        "        * fallback code block\n",
        "\n",
        "    - Example:       \n",
        "\n",
        "        \n",
        "\n",
        "   \n"
      ],
      "metadata": {
        "id": "W72k0nbaFr3k"
      }
    },
    {
      "cell_type": "code",
      "source": [
        "age = 20\n",
        "\n",
        "if age >= 18:\n",
        "    print(\"You are eligible to vote.\")\n",
        "else:\n",
        "    print(\"You are not eligible to vote.\")\n"
      ],
      "metadata": {
        "colab": {
          "base_uri": "https://localhost:8080/"
        },
        "id": "JRhQoZG6g6k9",
        "outputId": "f5f1fb47-fe05-41ec-e6bd-9bea3cc5b143"
      },
      "execution_count": null,
      "outputs": [
        {
          "output_type": "stream",
          "name": "stdout",
          "text": [
            "You are eligible to vote.\n"
          ]
        }
      ]
    },
    {
      "cell_type": "markdown",
      "source": [
        "12. How does the elif statement work?\n",
        "   - The elif (short for \"else if\") statement is used in Python when you need to check multiple conditions — not just one if, but also alternative possibilities.\n",
        "\n",
        "  - Purpose of elif\n",
        "    * It lets you check multiple conditions one after the other.\n",
        "    * If the if condition is False, Python checks each elif in order.\n",
        "    * As soon as one condition is True, the corresponding block runs.\n",
        "    * Remaining elif and else blocks are skipped.\n",
        "\n",
        "  - Syntax:  \n",
        "     - if condition1:\n",
        "       * Runs if condition1 is True\n",
        "\n",
        "     - elif condition2:\n",
        "       * Runs if condition1 is False and condition2 is True\n",
        "\n",
        "     - elif condition3:\n",
        "       * Runs if previous conditions are False and condition3 is True\n",
        "    - else:\n",
        "       * Runs if all conditions are False\n",
        "\n",
        "    - Example:   \n",
        "\n",
        "\n",
        "\n",
        "\n",
        "\n"
      ],
      "metadata": {
        "id": "EXGPpxQXk6zr"
      }
    },
    {
      "cell_type": "code",
      "source": [
        "score = 80\n",
        "\n",
        "if score >= 90:\n",
        "    print(\"Grade: A\")\n",
        "elif score >= 80:\n",
        "    print(\"Grade: B\")\n",
        "elif score >= 70:\n",
        "    print(\"Grade: C\")\n",
        "elif score >= 60:\n",
        "    print(\"Grade: D\")\n",
        "else:\n",
        "    print(\"Grade: F\")\n"
      ],
      "metadata": {
        "colab": {
          "base_uri": "https://localhost:8080/"
        },
        "id": "leibleTDoiGG",
        "outputId": "6de30d1a-9de9-46b8-d48a-e0427a19ce87"
      },
      "execution_count": null,
      "outputs": [
        {
          "output_type": "stream",
          "name": "stdout",
          "text": [
            "Grade: B\n"
          ]
        }
      ]
    },
    {
      "cell_type": "markdown",
      "source": [
        "13. What is the difference between for and while loops?\n",
        "   - Both for and while loops are used for repeating code, but they differ in how and when they decide to stop.\n",
        "\n",
        "  - for Loop: Definite Iteration\n",
        "       * Used when you know in advance how many times you want to loop.\n",
        "       * Often used with sequences (like lists, strings, or range()).\n",
        "       * Automatically handles counters.\n",
        "\n",
        "  - Syntax:   \n",
        "       * for item in iterable:\n",
        "          * code block\n",
        "\n",
        "  - Example:      \n",
        "\n"
      ],
      "metadata": {
        "id": "uvK-xudeovUy"
      }
    },
    {
      "cell_type": "code",
      "source": [
        "for i in range(8):\n",
        "    print(i)\n"
      ],
      "metadata": {
        "colab": {
          "base_uri": "https://localhost:8080/"
        },
        "id": "MyVDBIycqRbY",
        "outputId": "e55aec3f-d310-4853-c530-7812e5dfbf23"
      },
      "execution_count": null,
      "outputs": [
        {
          "output_type": "stream",
          "name": "stdout",
          "text": [
            "0\n",
            "1\n",
            "2\n",
            "3\n",
            "4\n",
            "5\n",
            "6\n",
            "7\n"
          ]
        }
      ]
    },
    {
      "cell_type": "markdown",
      "source": [
        " - while Loop: Indefinite Iteration\n",
        "    * Used when you don’t know how many times you’ll loop — just that you’ll loop while a condition is true.\n",
        "    * You must manually manage the loop control (e.g., counters or exit conditions).\n",
        "\n",
        " - Syntax:   \n",
        "    * while condition:\n",
        "       * code block\n",
        "\n",
        " - Example:      \n"
      ],
      "metadata": {
        "id": "YvHPN2BCqdaC"
      }
    },
    {
      "cell_type": "code",
      "source": [
        "i = 0\n",
        "while i < 7:\n",
        "    print(i)\n",
        "    i += 1\n"
      ],
      "metadata": {
        "colab": {
          "base_uri": "https://localhost:8080/"
        },
        "id": "GiwG06XdrQK3",
        "outputId": "65ad9dd6-678b-4a58-ce60-0eb9826de85b"
      },
      "execution_count": null,
      "outputs": [
        {
          "output_type": "stream",
          "name": "stdout",
          "text": [
            "0\n",
            "1\n",
            "2\n",
            "3\n",
            "4\n",
            "5\n",
            "6\n"
          ]
        }
      ]
    },
    {
      "cell_type": "markdown",
      "source": [
        "14. Describe a scenario where a while loop is more suitable than a for loop.\n",
        "     - A **while** loop is best used when you don’t know in advance how many times you need to loop, and you want to keep looping until a certain condition is met.\n",
        "\n",
        "     - Real-World Scenario: User Input Validation\n",
        "         * Imagine you’re writing a program that asks a user to enter a password — and you want to keep asking until they enter it correctly.\n",
        "\n",
        "     - In this case, you don’t know how many attempts the user will take. So a  while loop is the right choice.\n",
        "\n",
        "     - Example:    \n"
      ],
      "metadata": {
        "id": "UOOgpO5NrY3G"
      }
    },
    {
      "cell_type": "code",
      "source": [
        "correct_password = \"hello123\"\n",
        "user_input = \"\"\n",
        "\n",
        "while user_input != correct_password:\n",
        "    user_input = input(\"Enter your password: \")\n",
        "\n",
        "print(\"Access granted!\")\n"
      ],
      "metadata": {
        "colab": {
          "base_uri": "https://localhost:8080/"
        },
        "id": "BGwrxdgHurEs",
        "outputId": "cce08a7a-0cea-4c33-aa8d-db530ed19f28"
      },
      "execution_count": null,
      "outputs": [
        {
          "output_type": "stream",
          "name": "stdout",
          "text": [
            "Enter your password: hello123\n",
            "Access granted!\n"
          ]
        }
      ]
    },
    {
      "cell_type": "markdown",
      "source": [
        "  - Why while is better here:\n",
        "      * You don't know how many times the user will get it wrong.\n",
        "      * The loop needs to keep running as long as the password is incorrect.\n",
        "      * A for loop would be awkward here because it assumes a known number of iterations."
      ],
      "metadata": {
        "id": "4599DxBGvKyS"
      }
    },
    {
      "cell_type": "markdown",
      "source": [
        "# Python Practical Questions\n"
      ],
      "metadata": {
        "id": "vpAVYXlsvtT-"
      }
    },
    {
      "cell_type": "markdown",
      "source": [
        "1. Write a Python program to print \"Hello, World!\"\n"
      ],
      "metadata": {
        "id": "xHEVCmEcvyH6"
      }
    },
    {
      "cell_type": "code",
      "source": [
        "print(\"Hello, World!\")"
      ],
      "metadata": {
        "colab": {
          "base_uri": "https://localhost:8080/"
        },
        "id": "8hXAAZUMwHwE",
        "outputId": "d6d4b949-a283-4538-ef30-bcaea5a77636"
      },
      "execution_count": null,
      "outputs": [
        {
          "output_type": "stream",
          "name": "stdout",
          "text": [
            "Hello, World!\n"
          ]
        }
      ]
    },
    {
      "cell_type": "markdown",
      "source": [
        "2. Write a Python program that displays your name and age.\n",
        "\n"
      ],
      "metadata": {
        "id": "nbyvD25AwdDK"
      }
    },
    {
      "cell_type": "code",
      "source": [
        "name = \"ameet fathepure\"\n",
        "age = 21\n",
        "print(\"name:\" , name)\n",
        "print(\"age:\" , age)"
      ],
      "metadata": {
        "colab": {
          "base_uri": "https://localhost:8080/"
        },
        "id": "4yixMND-wqqU",
        "outputId": "31be2474-ec61-4ae3-a1d9-e93579fc8e8f"
      },
      "execution_count": null,
      "outputs": [
        {
          "output_type": "stream",
          "name": "stdout",
          "text": [
            "name: ameet fathepure\n",
            "age: 21\n"
          ]
        }
      ]
    },
    {
      "cell_type": "markdown",
      "source": [
        "3. Write code to print all the pre-defined keywords in Python using the keyword library.\n"
      ],
      "metadata": {
        "id": "Wp-6Rr-DyA30"
      }
    },
    {
      "cell_type": "code",
      "source": [
        "import keyword\n",
        "keywords = keyword.kwlist\n",
        "print(\"Python Keywords:\")\n",
        "for kw in keywords:\n",
        "    print(kw)\n"
      ],
      "metadata": {
        "colab": {
          "base_uri": "https://localhost:8080/"
        },
        "id": "hBZJlVgzyhBE",
        "outputId": "fa98fb08-7a7d-4ecb-fabb-75944c6c07b9"
      },
      "execution_count": null,
      "outputs": [
        {
          "output_type": "stream",
          "name": "stdout",
          "text": [
            "Python Keywords:\n",
            "False\n",
            "None\n",
            "True\n",
            "and\n",
            "as\n",
            "assert\n",
            "async\n",
            "await\n",
            "break\n",
            "class\n",
            "continue\n",
            "def\n",
            "del\n",
            "elif\n",
            "else\n",
            "except\n",
            "finally\n",
            "for\n",
            "from\n",
            "global\n",
            "if\n",
            "import\n",
            "in\n",
            "is\n",
            "lambda\n",
            "nonlocal\n",
            "not\n",
            "or\n",
            "pass\n",
            "raise\n",
            "return\n",
            "try\n",
            "while\n",
            "with\n",
            "yield\n"
          ]
        }
      ]
    },
    {
      "cell_type": "markdown",
      "source": [
        "4. Write a program that checks if a given word is a Python keyword.\n"
      ],
      "metadata": {
        "id": "pzjvG9Pc0Tko"
      }
    },
    {
      "cell_type": "code",
      "source": [
        "import keyword\n",
        "word = input(\"Enter a word: \")\n",
        "if keyword.iskeyword(word):\n",
        "    print(f\"'{word}' is a Python keyword.\")\n",
        "else:\n",
        "    print(f\"'{word}' is NOT a Python keyword.\")\n"
      ],
      "metadata": {
        "colab": {
          "base_uri": "https://localhost:8080/"
        },
        "id": "muEpRnNS08PH",
        "outputId": "a45dc848-4fe7-4054-f44b-fc6942bf3dce"
      },
      "execution_count": null,
      "outputs": [
        {
          "output_type": "stream",
          "name": "stdout",
          "text": [
            "Enter a word: for\n",
            "'for' is a Python keyword.\n"
          ]
        }
      ]
    },
    {
      "cell_type": "code",
      "source": [
        "import keyword\n",
        "word = input(\"Enter a word: \")\n",
        "if keyword.iskeyword(word):\n",
        "    print(f\"'{word}' is a Python keyword.\")\n",
        "else:\n",
        "    print(f\"'{word}' is NOT a Python keyword.\")\n"
      ],
      "metadata": {
        "colab": {
          "base_uri": "https://localhost:8080/"
        },
        "id": "L8qPw0uH12sB",
        "outputId": "8e3a8691-ca07-4753-f1cb-63333c8e6df5"
      },
      "execution_count": null,
      "outputs": [
        {
          "output_type": "stream",
          "name": "stdout",
          "text": [
            "Enter a word: hello\n",
            "'hello' is NOT a Python keyword.\n"
          ]
        }
      ]
    },
    {
      "cell_type": "markdown",
      "source": [
        "5. Create a list and tuple in Python, and demonstrate how attempting to change an element works differently for each."
      ],
      "metadata": {
        "id": "M9RflKQa2q8m"
      }
    },
    {
      "cell_type": "code",
      "source": [
        "my_list = [10, 20, 30]\n",
        "my_tuple = (10, 20, 30)\n",
        "\n",
        "my_list[1] = 99\n",
        "print(\"Modified list:\", my_list)\n",
        "\n",
        "try:\n",
        "    my_tuple[1] = 99\n",
        "except TypeError as e:\n",
        "    print(\"Error when modifying tuple:\", e)\n"
      ],
      "metadata": {
        "colab": {
          "base_uri": "https://localhost:8080/"
        },
        "id": "X9MOG8A73IOW",
        "outputId": "1405b724-aaf4-42eb-8863-1ab0584e01e1"
      },
      "execution_count": null,
      "outputs": [
        {
          "output_type": "stream",
          "name": "stdout",
          "text": [
            "Modified list: [10, 99, 30]\n",
            "Error when modifying tuple: 'tuple' object does not support item assignment\n"
          ]
        }
      ]
    },
    {
      "cell_type": "markdown",
      "source": [
        "6. Write a function to demonstrate the behavior of mutable and immutable arguments.\n",
        "  - Sure! Here's a Python function that demonstrates the difference in behavior between mutable and immutable arguments when passed to a function.\n",
        "  "
      ],
      "metadata": {
        "id": "Q8ILMjTwxKaq"
      }
    },
    {
      "cell_type": "code",
      "source": [
        "def modify_arguments(immutable_arg, mutable_arg):\n",
        "    print(\"Inside function before modification:\")\n",
        "    print(\"Immutable argument:\", immutable_arg)\n",
        "    print(\"Mutable argument:\", mutable_arg)\n",
        "\n",
        "    immutable_arg += 150\n",
        "\n",
        "    mutable_arg.append(100)\n",
        "\n",
        "    print(\"\\nInside function after modification:\")\n",
        "    print(\"Immutable argument:\", immutable_arg)\n",
        "    print(\"Mutable argument:\", mutable_arg)\n",
        "\n",
        "immutable_value = 50\n",
        "mutable_value = [1, 2, 3]\n",
        "\n",
        "print(\"Before function call:\")\n",
        "print(\"Immutable value:\", immutable_value)\n",
        "print(\"Mutable value:\", mutable_value)\n",
        "\n",
        "modify_arguments(immutable_value, mutable_value)\n",
        "\n",
        "print(\"\\nAfter function call:\")\n",
        "print(\"Immutable value:\", immutable_value)\n",
        "print(\"Mutable value:\", mutable_value)\n"
      ],
      "metadata": {
        "colab": {
          "base_uri": "https://localhost:8080/"
        },
        "id": "BTOUo_AVyEfB",
        "outputId": "6f357362-1b51-4352-d542-7b46a702bcc2"
      },
      "execution_count": 2,
      "outputs": [
        {
          "output_type": "stream",
          "name": "stdout",
          "text": [
            "Before function call:\n",
            "Immutable value: 50\n",
            "Mutable value: [1, 2, 3]\n",
            "Inside function before modification:\n",
            "Immutable argument: 50\n",
            "Mutable argument: [1, 2, 3]\n",
            "\n",
            "Inside function after modification:\n",
            "Immutable argument: 200\n",
            "Mutable argument: [1, 2, 3, 100]\n",
            "\n",
            "After function call:\n",
            "Immutable value: 50\n",
            "Mutable value: [1, 2, 3, 100]\n"
          ]
        }
      ]
    },
    {
      "cell_type": "markdown",
      "source": [
        "7. Write a program that performs basic arithmetic operations on two user-input numbers."
      ],
      "metadata": {
        "id": "vdfeIdW1yznq"
      }
    },
    {
      "cell_type": "code",
      "source": [
        "def arithmetic_operations():\n",
        "    print(\"Basic Arithmetic Operations\")\n",
        "\n",
        "    num1 = float(input(\"Enter the first number: \"))\n",
        "    num2 = float(input(\"Enter the second number: \"))\n",
        "\n",
        "    print(\"\\nResults:\")\n",
        "    print(f\"{num1} + {num2} = {num1 + num2}\")\n",
        "    print(f\"{num1} - {num2} = {num1 - num2}\")\n",
        "    print(f\"{num1} * {num2} = {num1 * num2}\")\n",
        "\n",
        "    if num2 != 0:\n",
        "        print(f\"{num1} / {num2} = {num1 / num2}\")\n",
        "        print(f\"{num1} % {num2} = {num1 % num2}\")\n",
        "    else:\n",
        "        print(\"Division and modulus by zero are not allowed.\")\n",
        "\n",
        "arithmetic_operations()\n"
      ],
      "metadata": {
        "colab": {
          "base_uri": "https://localhost:8080/"
        },
        "id": "Gi22DQ5Vy8x6",
        "outputId": "81bfa4be-25d9-47c9-8a01-a329dc75d8f4"
      },
      "execution_count": 6,
      "outputs": [
        {
          "output_type": "stream",
          "name": "stdout",
          "text": [
            "Basic Arithmetic Operations\n",
            "Enter the first number: 45\n",
            "Enter the second number: 76\n",
            "\n",
            "Results:\n",
            "45.0 + 76.0 = 121.0\n",
            "45.0 - 76.0 = -31.0\n",
            "45.0 * 76.0 = 3420.0\n",
            "45.0 / 76.0 = 0.5921052631578947\n",
            "45.0 % 76.0 = 45.0\n"
          ]
        }
      ]
    },
    {
      "cell_type": "markdown",
      "source": [
        "8. Write a program to demonstrate the use of logical operators.\n"
      ],
      "metadata": {
        "id": "lOfl-JmPzaYg"
      }
    },
    {
      "cell_type": "code",
      "source": [
        "def logical_operators_demo():\n",
        "    print(\"Logical Operators Demo\")\n",
        "\n",
        "    # Take two boolean inputs from the user (as integers for simplicity)\n",
        "    a = bool(int(input(\"Enter first boolean value (0 for False, 1 for True): \")))\n",
        "    b = bool(int(input(\"Enter second boolean value (0 for False, 1 for True): \")))\n",
        "\n",
        "    print(\"\\nResults:\")\n",
        "    print(f\"{a} AND {b} = {a and b}\")\n",
        "    print(f\"{a} OR {b} = {a or b}\")\n",
        "    print(f\"NOT {a} = {not a}\")\n",
        "    print(f\"NOT {b} = {not b}\")\n",
        "\n",
        "# Run the program\n",
        "logical_operators_demo()\n"
      ],
      "metadata": {
        "colab": {
          "base_uri": "https://localhost:8080/"
        },
        "id": "A5xVZnDLzhoe",
        "outputId": "832c7c95-5383-4fa6-b0dd-708b5f8167fd"
      },
      "execution_count": 7,
      "outputs": [
        {
          "output_type": "stream",
          "name": "stdout",
          "text": [
            "Logical Operators Demo\n",
            "Enter first boolean value (0 for False, 1 for True): 1\n",
            "Enter second boolean value (0 for False, 1 for True): 0\n",
            "\n",
            "Results:\n",
            "True AND False = False\n",
            "True OR False = True\n",
            "NOT True = False\n",
            "NOT False = True\n"
          ]
        }
      ]
    },
    {
      "cell_type": "markdown",
      "source": [
        "9. Write a Python program to convert user input from string to integer, float, and boolean types.\n"
      ],
      "metadata": {
        "id": "p8OwPnNyz-CN"
      }
    },
    {
      "cell_type": "code",
      "source": [
        "def convert_input_types():\n",
        "    user_input = input(\"Enter a value: \")\n",
        "\n",
        "    print(\"\\nAttempting conversions...\")\n",
        "\n",
        "    try:\n",
        "        int_value = int(user_input)\n",
        "        print(f\"Integer: {int_value}\")\n",
        "    except ValueError:\n",
        "        print(\"Cannot convert to Integer.\")\n",
        "\n",
        "    try:\n",
        "        float_value = float(user_input)\n",
        "        print(f\"Float: {float_value}\")\n",
        "    except ValueError:\n",
        "        print(\"Cannot convert to Float.\")\n",
        "\n",
        "    bool_value = bool(user_input.strip())\n",
        "    print(f\"Boolean: {bool_value}\")\n",
        "\n",
        "convert_input_types()\n"
      ],
      "metadata": {
        "colab": {
          "base_uri": "https://localhost:8080/"
        },
        "id": "cEcn64Om0EYb",
        "outputId": "1dbfc473-f387-44ce-eb88-b9fd8e217f4f"
      },
      "execution_count": 10,
      "outputs": [
        {
          "output_type": "stream",
          "name": "stdout",
          "text": [
            "Enter a value: 76\n",
            "\n",
            "Attempting conversions...\n",
            "Integer: 76\n",
            "Float: 76.0\n",
            "Boolean: True\n"
          ]
        }
      ]
    },
    {
      "cell_type": "markdown",
      "source": [
        "10. Write code to demonstrate type casting with list elements."
      ],
      "metadata": {
        "id": "HyB6MXyq0aUe"
      }
    },
    {
      "cell_type": "code",
      "source": [
        "def type_cast_list_elements():\n",
        "    str_list = [\"10\", \"20\", \"30\", \"40.5\", \"True\", \"False\", \"\"]\n",
        "\n",
        "    print(\"Original list (strings):\", str_list)\n",
        "\n",
        "    int_list = []\n",
        "    for item in str_list:\n",
        "        try:\n",
        "            int_list.append(int(float(item)))\n",
        "        except ValueError:\n",
        "            int_list.append(None)\n",
        "    print(\"List converted to integers:\", int_list)\n",
        "\n",
        "    float_list = []\n",
        "    for item in str_list:\n",
        "        try:\n",
        "            float_list.append(float(item))\n",
        "        except ValueError:\n",
        "            float_list.append(None)\n",
        "    print(\"List converted to floats:\", float_list)\n",
        "\n",
        "    bool_list = [bool(item.strip()) for item in str_list]\n",
        "    print(\"List converted to booleans:\", bool_list)\n",
        "\n",
        "type_cast_list_elements()\n"
      ],
      "metadata": {
        "colab": {
          "base_uri": "https://localhost:8080/"
        },
        "id": "UcREbBcu0lOr",
        "outputId": "e4e21701-450a-4ca1-9f66-604d27753242"
      },
      "execution_count": 11,
      "outputs": [
        {
          "output_type": "stream",
          "name": "stdout",
          "text": [
            "Original list (strings): ['10', '20', '30', '40.5', 'True', 'False', '']\n",
            "List converted to integers: [10, 20, 30, 40, None, None, None]\n",
            "List converted to floats: [10.0, 20.0, 30.0, 40.5, None, None, None]\n",
            "List converted to booleans: [True, True, True, True, True, True, False]\n"
          ]
        }
      ]
    },
    {
      "cell_type": "markdown",
      "source": [
        "11. Write a program that checks if a number is positive, negative, or zero."
      ],
      "metadata": {
        "id": "LWLiXBCY0zcG"
      }
    },
    {
      "cell_type": "code",
      "source": [
        "def check_number():\n",
        "    num = float(input(\"Enter a number: \"))\n",
        "\n",
        "    if num > 0:\n",
        "        print(\"The number is positive.\")\n",
        "    elif num < 0:\n",
        "        print(\"The number is negative.\")\n",
        "    else:\n",
        "        print(\"The number is zero.\")\n",
        "\n",
        "check_number()\n"
      ],
      "metadata": {
        "colab": {
          "base_uri": "https://localhost:8080/"
        },
        "id": "N5So-y1p07UA",
        "outputId": "421247ff-ff70-4270-edb1-28f13d9bf46a"
      },
      "execution_count": 13,
      "outputs": [
        {
          "output_type": "stream",
          "name": "stdout",
          "text": [
            "Enter a number: -7.8\n",
            "The number is negative.\n"
          ]
        }
      ]
    },
    {
      "cell_type": "markdown",
      "source": [
        "12. Write a for loop to print numbers from 1 to 10."
      ],
      "metadata": {
        "id": "rJkCq82w1UA6"
      }
    },
    {
      "cell_type": "code",
      "source": [
        "for i in range(1, 11):\n",
        "    print(i)\n"
      ],
      "metadata": {
        "colab": {
          "base_uri": "https://localhost:8080/"
        },
        "id": "4wU6POU-1cQW",
        "outputId": "eafb8c2c-98eb-4a74-9589-7295a08d6bcd"
      },
      "execution_count": 14,
      "outputs": [
        {
          "output_type": "stream",
          "name": "stdout",
          "text": [
            "1\n",
            "2\n",
            "3\n",
            "4\n",
            "5\n",
            "6\n",
            "7\n",
            "8\n",
            "9\n",
            "10\n"
          ]
        }
      ]
    },
    {
      "cell_type": "markdown",
      "source": [
        "13. Write a Python program to find the sum of all even numbers between 1 and 50.\n"
      ],
      "metadata": {
        "id": "7MfIXwP71ev8"
      }
    },
    {
      "cell_type": "code",
      "source": [
        "def sum_of_evens():\n",
        "    total = 0\n",
        "    for num in range(2, 51, 2):\n",
        "        total += num\n",
        "    print(\"Sum of even numbers from 1 to 50 is:\", total)\n",
        "\n",
        "sum_of_evens()\n"
      ],
      "metadata": {
        "colab": {
          "base_uri": "https://localhost:8080/"
        },
        "id": "nHO4cKUt1mSW",
        "outputId": "7939af8d-65f6-44df-c169-3ba7268c7bd7"
      },
      "execution_count": 15,
      "outputs": [
        {
          "output_type": "stream",
          "name": "stdout",
          "text": [
            "Sum of even numbers from 1 to 50 is: 650\n"
          ]
        }
      ]
    },
    {
      "cell_type": "markdown",
      "source": [
        "14. Write a program to reverse a string using a while loop.\n",
        "\n"
      ],
      "metadata": {
        "id": "fy1nPn9R1ypT"
      }
    },
    {
      "cell_type": "code",
      "source": [
        "def reverse_string():\n",
        "    original = input(\"Enter a string: \")\n",
        "\n",
        "    reversed_str = \"\"\n",
        "    index = len(original) - 1\n",
        "\n",
        "    while index >= 0:\n",
        "        reversed_str += original[index]\n",
        "        index -= 1\n",
        "\n",
        "    print(\"Reversed string:\", reversed_str)\n",
        "\n",
        "reverse_string()\n"
      ],
      "metadata": {
        "colab": {
          "base_uri": "https://localhost:8080/"
        },
        "id": "Z0SpT1mC14HQ",
        "outputId": "1654dbf0-c0eb-4aad-dbfa-96074b5e8aad"
      },
      "execution_count": 19,
      "outputs": [
        {
          "output_type": "stream",
          "name": "stdout",
          "text": [
            "Enter a string: zebra\n",
            "Reversed string: arbez\n"
          ]
        }
      ]
    },
    {
      "cell_type": "markdown",
      "source": [
        "15. Write a Python program to calculate the factorial of a number provided by the user using a while loop."
      ],
      "metadata": {
        "id": "R5FnqzrZ2d-q"
      }
    },
    {
      "cell_type": "code",
      "source": [
        "def factorial_while():\n",
        "    num = int(input(\"Enter a non-negative integer: \"))\n",
        "\n",
        "    if num < 0:\n",
        "        print(\"Factorial is not defined for negative numbers.\")\n",
        "        return\n",
        "\n",
        "    factorial = 1\n",
        "    i = 1\n",
        "\n",
        "    while i <= num:\n",
        "        factorial *= i\n",
        "        i += 1\n",
        "\n",
        "    print(f\"The factorial of {num} is: {factorial}\")\n",
        "\n",
        "factorial_while()\n"
      ],
      "metadata": {
        "colab": {
          "base_uri": "https://localhost:8080/"
        },
        "id": "ty_nlx3M2jTO",
        "outputId": "656aadd8-e598-4dc1-e66f-6b4d6bb16ee8"
      },
      "execution_count": 24,
      "outputs": [
        {
          "output_type": "stream",
          "name": "stdout",
          "text": [
            "Enter a non-negative integer: 8\n",
            "The factorial of 8 is: 40320\n"
          ]
        }
      ]
    }
  ]
}