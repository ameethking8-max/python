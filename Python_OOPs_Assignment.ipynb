{
  "nbformat": 4,
  "nbformat_minor": 0,
  "metadata": {
    "colab": {
      "provenance": []
    },
    "kernelspec": {
      "name": "python3",
      "display_name": "Python 3"
    },
    "language_info": {
      "name": "python"
    }
  },
  "cells": [
    {
      "cell_type": "markdown",
      "source": [
        "# Python OOPs Questions"
      ],
      "metadata": {
        "id": "bmAA9KMaC8Ek"
      }
    },
    {
      "cell_type": "markdown",
      "source": [
        "1. What is Object-Oriented Programming (OOP)?\n",
        "  - Object-Oriented Programming (OOP) is a programming paradigm based on the concept of \"objects\", which can contain data (called attributes or fields) and code (called methods or functions). OOP helps structure software in a way that is more modular, reusable, and easier to maintain.\n",
        "\n",
        " - Core Concepts of OOP:\n",
        "    * Class\n",
        "       * A blueprint for creating objects. It defines the structure and behavior (attributes and methods) of the objects.\n",
        "\n",
        "    * Object\n",
        "       * An instance of a class. It represents a specific entity with actual values assigned to its attributes.\n",
        "\n",
        "    * Encapsulation\n",
        "       * Bundling data and methods that operate on the data within one unit (class), and restricting direct access to some of the object’s components (using private/protected access modifiers).\n",
        "\n",
        "    * Inheritance\n",
        "       * Allows one class (child or subclass) to inherit attributes and methods from another class (parent or superclass), promoting code reuse.\n",
        "\n",
        "    * Polymorphism\n",
        "       * The ability of different classes to respond to the same method call in different ways (e.g., method overriding or overloading).\n",
        "\n",
        "    * Abstraction\n",
        "      * Hiding complex implementation details and showing only the essential features of an object.\n",
        "\n",
        "2. What is a class in OOP?\n",
        "  - In Object-Oriented Programming (OOP), a class is a blueprint or template for creating objects (instances). It defines the structure and behavior that the objects created from the class will have.\n",
        "\n",
        "    - Points:                     \n",
        "      * A class encapsulates data (attributes or properties) and methods (functions or behaviors) that operate on the data.\n",
        "    \n",
        "       * It does not hold any actual data itself until an object (instance) is created from it.\n",
        "\n",
        "3. What is an object in OOP?\n",
        "  - In Object-Oriented Programming (OOP), an object is an instance of a class. It is a real-world entity created using the class blueprint, containing actual values for the attributes and the ability to perform methods defined in the class.       \n",
        "\n",
        "    - Points:\n",
        "      * A class defines the structure (what data and behavior an object should have).\n",
        "\n",
        "      * An object is a concrete implementation of that class, with its own data.\n",
        "\n",
        "      * Multiple objects can be created from the same class, each with its own state.\n",
        "\n",
        "4. What is the difference between abstraction and encapsulation?\n",
        " - The concepts of abstraction and encapsulation are both fundamental to Object-Oriented Programming (OOP), but they serve different purposes:      \n",
        "  \n",
        " - Abstraction\n",
        "   \n",
        "   * Definition:\n",
        "      * Abstraction is the process of hiding the complex implementation details and showing only the essential features of an object.\n",
        "\n",
        "   * Goal:\n",
        "      * To simplify how the user interacts with objects by exposing only what is necessary.\n",
        "\n",
        "   * Real-life Example:\n",
        "      * When you drive a car, you only use the steering wheel, pedals, and gear shift — you don’t need to understand how the engine or brakes work internally.\n",
        "\n",
        "   * In Code:\n",
        "      * Achieved using abstract classes or interfaces in languages like Java, C++, or Python.\n",
        "\n",
        " - Encapsulation       \n",
        "\n",
        "   * Definition:\n",
        "     * Encapsulation is the process of binding data and methods that operate on that data into a single unit (class), and restricting access to some of the object's components.\n",
        "\n",
        "   * Goal:\n",
        "     * To protect data and ensure it's accessed or modified only in intended ways.\n",
        "\n",
        "   * Real-life Example:\n",
        "     * A medicine capsule hides the internal contents and provides a controlled way to access the medicine.\n",
        "\n",
        "   * In Code:\n",
        "     * Achieved by using private/protected variables and public methods (getters/setters).\n",
        "\n",
        "5. What are dunder methods in Python?\n",
        " - Dunder methods in Python, short for \"double underscore\" methods, are special methods that have double underscores (__) at the beginning and end of their names. They're also called magic methods or special methods, and they allow you to define how objects of your class behave with built-in Python operations (like printing, adding, or comparing objects).\n",
        "\n",
        " - Examples of Dunder Methods:\n",
        "   * __init__ - Object constructor, called when a new object is created\\\n",
        "\n",
        "   * __str__ - Defines the string representation of the object (used by print())\n",
        "\n",
        "   * __repr__ - Official string representation, used in debugging\n",
        "\n",
        "   * __add__ - Defines behavior for the + operator\n",
        "\n",
        "   * __eq__ - Defines behavior for the == operator\n",
        "\n",
        "   * __len__ - Defines behavior for the built-in len() function\n",
        "\n",
        "   * __getitem__ - Allows indexing into an object like obj[index]\n",
        "\n",
        "6. Explain the concept of inheritance in OOP?\n",
        "  - Inheritance is a fundamental concept in OOP that allows a class (called a child or subclass) to inherit attributes and methods from another class (called a parent or superclass).   \n",
        "\n",
        "  - It enables code reuse, extensibility, and helps create a natural hierarchy between classes.\n",
        "\n",
        "  - Key Concepts:\n",
        "    * Parent Class (Base/Superclass): The class whose properties and methods are inherited.\n",
        "    * Child Class (Derived/Subclass): The class that inherits from the parent and can also have additional or overridden methods and attributes.\n",
        "\n",
        "  - Benefits of Inheritance:  \n",
        "    * Promotes code reuse\n",
        "    * Encourages modular design\n",
        "    * Allows extension of existing code without modifying it\n",
        "    * Helps implement polymorphism\n",
        "\n",
        "7. What is polymorphism in OOP?\n",
        "  - Polymorphism in Object-Oriented Programming (OOP) is the ability of different objects to respond to the same method or function call in different ways.    \n",
        "    \n",
        "     * Definition:\n",
        "       * The term polymorphism comes from Greek meaning \"many forms.\" In OOP, it allows objects of different classes to be treated as objects of a common superclass, typically through a shared interface or inheritance.\n",
        "\n",
        "  - Types of Polymorphism:  \n",
        "\n",
        "     * Compile-time Polymorphism (Static Binding)\n",
        "       * Achieved through method overloading or operator overloading.\n",
        "       * The method to be executed is determined at compile time.\n",
        "\n",
        "     * Runtime Polymorphism (Dynamic Binding)\n",
        "       * Achieved through method overriding.\n",
        "       * The method to be executed is determined at runtime based on the object's actual type.  \n",
        "\n",
        "8. How is encapsulation achieved in Python?\n",
        "  - Encapsulation in Python is achieved by restricting access to certain parts of an object and bundling data (attributes) and methods that operate on that data within a class.   \n",
        "\n",
        "  - How Encapsulation is Achieved in Python:    \n",
        "\n",
        "    * Using Access Modifiers:\n",
        "       * Python uses naming conventions to indicate access levels, even though it doesn't enforce strict access controls like some other languages (e.g., Java or C++).\n",
        "\n",
        "\n",
        "    * Access Level\n",
        "       * Public , Protected , Private\n",
        "\n",
        "    * Convention\n",
        "       * variable , _variable , __variable\n",
        "\n",
        "    * Description\n",
        "       * Accessible from anywhere , Should not be accessed outside the class/subclass , Name mangled to make it harder to access\n",
        "\n",
        "9. What is a constructor in Python?\n",
        "  - A constructor in Python is a special method that is automatically called when an object is created from a class. It is used to initialize the object's attributes.\n",
        "\n",
        "  - In Python, the constructor is defined using the special method:           \n",
        "      * def __init__(self):  #initialization code\n",
        "      * __init__ is short for “initialize.”\n",
        "      * self refers to the current object (just like this in other languages).\n",
        "\n",
        "10. What are class and static methods in Python?\n",
        "  - In Python, both class methods and static methods are used to define methods that aren’t tied to object instances in the usual way, but they serve different purposes.\n",
        "\n",
        "    * Class Methods\n",
        "       * A method that receives the class itself as the first argument (conventionally named cls).\n",
        "       * Can access or modify class-level data, but not instance-level data directly.\n",
        "\n",
        "    * Static Methods\n",
        "       * A method that does not receive self or cls as the first argument.\n",
        "       * It’s like a regular function but belongs to a class’s namespace.\n",
        "       * Cannot access or modify class or instance data.\n",
        "\n",
        "11. What is method overloading in Python?\n",
        "   - Method overloading is a concept where multiple methods in the same class have the same name but different parameters (number or type).       \n",
        "\n",
        "   - Python Doesn't Support Traditional Method Overloading\n",
        "      * Unlike Java or C++, Python does not support method overloading directly. If you define multiple methods with the same name in a class, the last one will overwrite the previous ones.\n",
        "\n",
        "   - How to Simulate Method Overloading in Python   \n",
        "      * Python uses default arguments, *args, and **kwargs to mimic method overloading behavior."
      ],
      "metadata": {
        "id": "eYHFESDfC3lj"
      }
    },
    {
      "cell_type": "code",
      "source": [
        "class Greet:\n",
        "    def hello(self, name=None):\n",
        "        if name:\n",
        "            print(f\"Hello, {name}!\")\n",
        "        else:\n",
        "            print(\"Hello!\")\n",
        "g = Greet()\n",
        "g.hello()\n",
        "g.hello(\"Ameet\")\n",
        "\n"
      ],
      "metadata": {
        "colab": {
          "base_uri": "https://localhost:8080/"
        },
        "id": "-vTzcl-Wl3kT",
        "outputId": "b8397460-de68-4e50-f555-65168425b9e5"
      },
      "execution_count": null,
      "outputs": [
        {
          "output_type": "stream",
          "name": "stdout",
          "text": [
            "Hello!\n",
            "Hello, Ameet!\n"
          ]
        }
      ]
    },
    {
      "cell_type": "markdown",
      "source": [
        "12. What is method overriding in OOP?\n",
        "  - Method overriding in Object-Oriented Programming (OOP) occurs when a subclass provides a specific implementation of a method that is already defined in its parent class.\n",
        "\n",
        "  - Key Points:\n",
        "     * The method name, number of parameters, and method signature must be the same in both the base and derived class.\n",
        "     * The subclass’s method overrides the superclass’s method at runtime.\n",
        "     * Used to implement runtime polymorphism."
      ],
      "metadata": {
        "id": "xE3eeUd0mHSD"
      }
    },
    {
      "cell_type": "code",
      "source": [
        "class Animal:\n",
        "    def speak(self):\n",
        "        print(\"The animal makes a sound.\")\n",
        "\n",
        "class Dog(Animal):\n",
        "    def speak(self):  # Overriding the speak() method\n",
        "        print(\"The dog barks.\")\n",
        "\n",
        "a = Animal()\n",
        "a.speak()\n",
        "\n",
        "d = Dog()\n",
        "d.speak()\n"
      ],
      "metadata": {
        "colab": {
          "base_uri": "https://localhost:8080/"
        },
        "id": "oxX3Wrfsl4WN",
        "outputId": "fb0fd77d-5377-47fc-94d8-76dfa4999e28"
      },
      "execution_count": null,
      "outputs": [
        {
          "output_type": "stream",
          "name": "stdout",
          "text": [
            "The animal makes a sound.\n",
            "The dog barks.\n"
          ]
        }
      ]
    },
    {
      "cell_type": "markdown",
      "source": [
        "13. What is a property decorator in Python?\n",
        "   - The @property decorator in Python is used to turn a method into a \"getter\" — allowing you to access it like an attribute, while still using method logic under the hood.\n",
        "\n",
        "   - Why Use @property?\n",
        "      * To control access to private/protected attributes.\n",
        "      * To use getter/setter functionality without changing how attributes are accessed.\n",
        "      * Promotes encapsulation and cleaner syntax."
      ],
      "metadata": {
        "id": "dzQtqNKfmwM1"
      }
    },
    {
      "cell_type": "code",
      "source": [
        "class Person:\n",
        "    def __init__(self, name):\n",
        "        self._name = name  # Protected attribute\n",
        "\n",
        "    @property\n",
        "    def name(self):\n",
        "        print(\"Getting name...\")\n",
        "        return self._name\n",
        "\n",
        "    @name.setter\n",
        "    def name(self, value):\n",
        "        print(\"Setting name...\")\n",
        "        self._name = value\n",
        "\n",
        "p = Person(\"Ameet\")\n",
        "print(p.name)\n",
        "p.name = \"pavan\"\n",
        "print(p.name)\n"
      ],
      "metadata": {
        "colab": {
          "base_uri": "https://localhost:8080/"
        },
        "id": "vw1zlLThmqHz",
        "outputId": "942f9f0a-449c-44c3-b3f7-9bf654143caa"
      },
      "execution_count": null,
      "outputs": [
        {
          "output_type": "stream",
          "name": "stdout",
          "text": [
            "Getting name...\n",
            "Ameet\n",
            "Setting name...\n",
            "Getting name...\n",
            "pavan\n"
          ]
        }
      ]
    },
    {
      "cell_type": "markdown",
      "source": [
        "14. Why is polymorphism important in OOP?\n",
        "  - Polymorphism is important in Object-Oriented Programming (OOP) because it allows objects of different classes to be treated as if they are instances of the same class, enabling more flexible, extensible, and maintainable code.\n",
        "\n",
        "    * Code Reusability\n",
        "      * You can write generic code that works with different types of objects.\n",
        "      * No need to duplicate methods for each subclass.\n",
        "\n",
        "    * Flexibility and Extensibility  \n",
        "      * New classes can be added with minimal or no changes to existing code.\n",
        "      * You can add new behavior without modifying the core logic.\n",
        "\n",
        "    * Simplifies Code  \n",
        "      * Avoids long if-else or switch statements.\n",
        "      * Promotes cleaner, more readable design through abstraction.\n",
        "\n",
        "    * Enables Runtime Behavior Changes\n",
        "       * With method overriding, the method that gets called is determined at runtime, allowing more dynamic and adaptable code.\n",
        "\n",
        "    * Supports Interface-Based Programming\n",
        "       * Encourages programming to interfaces rather than implementations.\n",
        "       * You can swap out different object types without changing the rest of the code.\n",
        "\n",
        "15. What is an abstract class in Python?\n",
        "  - An abstract class in Python is a class that cannot be instantiated on its own and is meant to be inherited by other classes. It can define abstract methods that must be implemented by its child (sub) classes.       \n",
        "   \n",
        "  - Purpose:\n",
        "    * Abstract classes are used to provide a common interface and enforce a structure across multiple subclasses."
      ],
      "metadata": {
        "id": "mRbjtaovocFZ"
      }
    },
    {
      "cell_type": "code",
      "source": [
        "from abc import ABC, abstractmethod\n",
        "\n",
        "class Animal(ABC):\n",
        "    @abstractmethod\n",
        "    def sound(self):\n",
        "        pass\n",
        "\n",
        "class Dog(Animal):\n",
        "    def sound(self):\n",
        "        return \"Bark\"\n",
        "\n",
        "class Cat(Animal):\n",
        "    def sound(self):\n",
        "        return \"Meow\"\n",
        "\n",
        "d = Dog()\n",
        "print(d.sound())\n",
        "\n"
      ],
      "metadata": {
        "colab": {
          "base_uri": "https://localhost:8080/"
        },
        "id": "IbYB3mzyn40F",
        "outputId": "41b27cab-e27e-4db6-bbc8-9e8758ba7a35"
      },
      "execution_count": null,
      "outputs": [
        {
          "output_type": "stream",
          "name": "stdout",
          "text": [
            "Bark\n"
          ]
        }
      ]
    },
    {
      "cell_type": "markdown",
      "source": [
        "16. What are the advantages of OOP?\n",
        "   - Object-Oriented Programming (OOP) offers a structured and modular approach to software design by organizing code around objects, which combine data and behavior.\n",
        "\n",
        "   - Key Advantages of OOP:\n",
        "\n",
        "      * Modularity\n",
        "         * Code is organized into classes and objects.\n",
        "         * Each class has a specific role, making large programs easier to manage.\n",
        "\n",
        "      * Reusability   \n",
        "         * Through inheritance, you can reuse existing code in new classes.\n",
        "         * Avoids duplication and speeds up development.\n",
        "\n",
        "      * Encapsulation\n",
        "         * Keeps data safe by hiding internal state and exposing only necessary methods.\n",
        "         * Promotes security and integrity of data.   \n",
        "\n",
        "      * Polymorphism\n",
        "         * Allows the same method name to behave differently depending on the object.\n",
        "         * Enables flexible and clean code design.   \n",
        "\n",
        "      * Inheritance   \n",
        "         * Allows new classes to inherit attributes and methods from existing ones.\n",
        "         * Promotes code reuse and a hierarchical structure.\n",
        "\n",
        "      * Maintainability\n",
        "         * Easier to update and debug parts of the code without affecting the whole program.\n",
        "         * Changes in one class usually don’t impact others if the design is clean.   \n",
        "\n",
        "      * Scalability\n",
        "         * OOP design makes it easier to scale the application by adding new classes or features without rewriting the core logic.\n",
        "\n",
        "      * Abstraction\n",
        "         * Hides complex implementation details and shows only what’s necessary to the user.\n",
        "         * Helps in reducing complexity.      \n",
        "\n",
        "17. What is the difference between a class variable and an instance variable?\n",
        "  - In Python (and other OOP languages), both class and instance variables store data, but they differ in scope, sharing, and how they’re accessed.         \n",
        "   \n",
        "      * Class Variable vs Instance Variable\n",
        "         * Feature - Belongs to , Shared across , Defined , Accessed with\n",
        "\n",
        "         * Class Variable - The class itself , All instances of the class , Inside the class, but outside any method , ClassName.var or\n",
        "\n",
        "         * Instance Variable - Each individual object (instance) , Unique to each instance , Inside a method (usually __init__) using self\n",
        "\n",
        "18. What is multiple inheritance in Python?\n",
        "  - Multiple inheritance in Python is a feature that allows a class to inherit attributes and methods from more than one parent class.         "
      ],
      "metadata": {
        "id": "0_TOgn4Zq71Z"
      }
    },
    {
      "cell_type": "code",
      "source": [
        "class Parent1:\n",
        "    def greet(self):\n",
        "        print(\"Hello from Parent1\")\n",
        "\n",
        "class Parent2:\n",
        "    def welcome(self):\n",
        "        print(\"Welcome from Parent2\")\n",
        "\n",
        "class Child(Parent1, Parent2):\n",
        "    pass\n",
        "\n",
        "obj = Child()\n",
        "obj.greet()\n",
        "obj.welcome()\n"
      ],
      "metadata": {
        "colab": {
          "base_uri": "https://localhost:8080/"
        },
        "id": "UUQNMJfnweFM",
        "outputId": "9e8609c6-ff5f-42df-94f0-79093886259d"
      },
      "execution_count": null,
      "outputs": [
        {
          "output_type": "stream",
          "name": "stdout",
          "text": [
            "Hello from Parent1\n",
            "Welcome from Parent2\n"
          ]
        }
      ]
    },
    {
      "cell_type": "markdown",
      "source": [
        "19. Explain the purpose of ‘’__str__’ and ‘__repr__’ ‘ methods in Python?\n",
        "  - In Python, __str__ and __repr__ are special methods used to define how an object should be represented as a string.\n",
        "\n",
        "     * __str__ → User-friendly string representation\n",
        "       * Called by the built-in str() function or when printing the object with print().\n",
        "       * Intended to return a readable, informal description of the object (for end users)."
      ],
      "metadata": {
        "id": "1x5-3yySwkGt"
      }
    },
    {
      "cell_type": "code",
      "source": [
        "class Person:\n",
        "    def __init__(self, name):\n",
        "        self.name = name\n",
        "\n",
        "    def __str__(self):\n",
        "        return f\"Person named {self.name}\"\n",
        "\n",
        "p = Person(\"Ameet\")\n",
        "print(p)  # Output: Person named Alice\n"
      ],
      "metadata": {
        "colab": {
          "base_uri": "https://localhost:8080/"
        },
        "id": "NGXCAq7uweh9",
        "outputId": "3d1d0373-44f1-413d-89b4-fc357226d9eb"
      },
      "execution_count": null,
      "outputs": [
        {
          "output_type": "stream",
          "name": "stdout",
          "text": [
            "Person named Ameet\n"
          ]
        }
      ]
    },
    {
      "cell_type": "markdown",
      "source": [
        "   *  __repr__ → Developer-friendly string representation  \n",
        "       * Called by the built-in repr() function or in the interactive interpreter.\n",
        "       * Intended to return a detailed, unambiguous string that can be used to recreate the object (if possible)."
      ],
      "metadata": {
        "id": "skSgdSfmxWlA"
      }
    },
    {
      "cell_type": "code",
      "source": [
        "class Person:\n",
        "    def __init__(self, name):\n",
        "        self.name = name\n",
        "\n",
        "    def __repr__(self):\n",
        "        return f\"Person('{self.name}')\"\n",
        "\n",
        "p = Person(\"Ameet\")\n",
        "print(repr(p))\n"
      ],
      "metadata": {
        "colab": {
          "base_uri": "https://localhost:8080/"
        },
        "id": "kM7002Mbxo1v",
        "outputId": "d088fe3d-a0e5-4a7e-fdcc-fd7753b7af77"
      },
      "execution_count": null,
      "outputs": [
        {
          "output_type": "stream",
          "name": "stdout",
          "text": [
            "Person('Ameet')\n"
          ]
        }
      ]
    },
    {
      "cell_type": "markdown",
      "source": [
        "20. What is the significance of the ‘super()’ function in Python?\n",
        "   - The super() function in Python is used to call methods from a parent or superclass. It's especially useful in inheritance when a child class wants to extend or modify the behavior of its parent class without completely overriding it.\n",
        "\n",
        "     * Key Purposes of super():\n",
        "        * Access parent class methods or constructors.\n",
        "        * Avoid directly referring to the parent class by name, which helps with maintainability.\n",
        "        * Support multiple inheritance by following the Method Resolution Order (MRO).\n",
        "\n",
        "     * Syntax\n",
        "        * super().method_name(arguments)\n",
        "\n",
        "21. What is the significance of the __del__ method in Python?\n",
        "  - The __del__ method in Python is a special method called a destructor. It is automatically invoked when an object is about to be destroyed, i.e., when it is garbage collected.\n",
        "\n",
        "     * Purpose of __del__:           \n",
        "        * Used to define cleanup actions (like closing files or releasing resources) before the object is removed from memory.\n",
        "        * Similar in concept to destructors in other languages like C++.\n",
        "\n",
        "     * Syntax\n",
        "        * def __del__(self):     # Cleanup code here\n",
        "\n",
        "22. What is the difference between @staticmethod and @classmethod in Python?\n",
        "   - In Python, @staticmethod and @classmethod are decorators used to define special types of methods inside a class. While both can be called on the class itself (without creating an instance), they behave differently.\n",
        "\n",
        "       * @staticmethod        \n",
        "          * Does not receive any implicit first argument (self or cls).\n",
        "          * Acts like a regular function, just logically grouped inside the class.\n",
        "          * Cannot access or modify class or instance data."
      ],
      "metadata": {
        "id": "fqcPg1msxyzC"
      }
    },
    {
      "cell_type": "code",
      "source": [
        "class MathUtils:\n",
        "    @staticmethod\n",
        "    def add(x, y):\n",
        "        return x + y\n",
        "\n",
        "print(MathUtils.add(5, 3))\n"
      ],
      "metadata": {
        "colab": {
          "base_uri": "https://localhost:8080/"
        },
        "id": "AgDl-PanxpPh",
        "outputId": "479bb253-7de1-483d-b677-304a55a021ad"
      },
      "execution_count": null,
      "outputs": [
        {
          "output_type": "stream",
          "name": "stdout",
          "text": [
            "8\n"
          ]
        }
      ]
    },
    {
      "cell_type": "markdown",
      "source": [
        "   * @classmethod\n",
        "       * Receives the class itself as the first argument (usually named cls).\n",
        "       * Can access or modify class state and call other class methods.\n",
        "       * Useful for alternative constructors or working with class-level data."
      ],
      "metadata": {
        "id": "CRIrF6RMzXA_"
      }
    },
    {
      "cell_type": "code",
      "source": [
        "class Person:\n",
        "    species = \"Human\"\n",
        "\n",
        "    def __init__(self, name):\n",
        "        self.name = name\n",
        "\n",
        "    @classmethod\n",
        "    def from_string(cls, name_str):\n",
        "        return cls(name_str)\n",
        "\n",
        "    @classmethod\n",
        "    def get_species(cls):\n",
        "        return cls.species\n",
        "\n",
        "p = Person.from_string(\"Ameet\")\n",
        "print(p.name)\n",
        "print(Person.get_species())\n"
      ],
      "metadata": {
        "colab": {
          "base_uri": "https://localhost:8080/"
        },
        "id": "TQXCjZQ_zUIJ",
        "outputId": "8efb7ea1-e946-429b-a2c9-15f7edc52146"
      },
      "execution_count": null,
      "outputs": [
        {
          "output_type": "stream",
          "name": "stdout",
          "text": [
            "Ameet\n",
            "Human\n"
          ]
        }
      ]
    },
    {
      "cell_type": "markdown",
      "source": [
        "23. How does polymorphism work in Python with inheritance?\n",
        "   - In Python, polymorphism means that objects of different classes can be treated through the same interface, especially when those classes are related by inheritance.\n",
        "\n",
        "   - When combined with inheritance, polymorphism allows subclasses to override methods of a parent class, and those overridden methods will be called even when the object is referenced through a parent class type.\n",
        "\n",
        "   - Key Concepts:\n",
        "      * Method overriding is the basis of polymorphism in inheritance.\n",
        "      * You can use the same method name, and Python will automatically call the appropriate version based on the object's actual class."
      ],
      "metadata": {
        "id": "9Mcq6FPzz0Np"
      }
    },
    {
      "cell_type": "code",
      "source": [
        "class Animal:\n",
        "    def speak(self):\n",
        "        print(\"The animal makes a sound.\")\n",
        "\n",
        "class Dog(Animal):\n",
        "    def speak(self):\n",
        "        print(\"The dog barks.\")\n",
        "\n",
        "class Cat(Animal):\n",
        "    def speak(self):\n",
        "        print(\"The cat meows.\")\n",
        "\n",
        "# Polymorphism in action\n",
        "animals = [Dog(), Cat(), Animal()]\n",
        "\n",
        "for animal in animals:\n",
        "    animal.speak()\n"
      ],
      "metadata": {
        "colab": {
          "base_uri": "https://localhost:8080/"
        },
        "id": "A7_AHFvAzkQF",
        "outputId": "648d12ef-a904-4f97-f5b5-04095e190148"
      },
      "execution_count": null,
      "outputs": [
        {
          "output_type": "stream",
          "name": "stdout",
          "text": [
            "The dog barks.\n",
            "The cat meows.\n",
            "The animal makes a sound.\n"
          ]
        }
      ]
    },
    {
      "cell_type": "markdown",
      "source": [
        "24. What is method chaining in Python OOP?\n",
        "   - Method chaining in Python refers to the practice of calling multiple methods on the same object in a single line, one after another. This is typically done by having each method return self, allowing the next method to be called on the same object.\n",
        "\n",
        "   - Each method returns the object itself (self), so you can chain more method calls."
      ],
      "metadata": {
        "id": "auKjQyHn0QhZ"
      }
    },
    {
      "cell_type": "code",
      "source": [
        "class Person:\n",
        "    def __init__(self, name=\"\"):\n",
        "        self.name = name\n",
        "        self.age = 0\n",
        "\n",
        "    def set_name(self, name):\n",
        "        self.name = name\n",
        "        return self\n",
        "\n",
        "    def set_age(self, age):\n",
        "        self.age = age\n",
        "        return self\n",
        "\n",
        "    def display(self):\n",
        "        print(f\"Name: {self.name}, Age: {self.age}\")\n",
        "        return self\n",
        "\n",
        "\n",
        "person = Person().set_name(\"Ameet\").set_age(21).display()\n"
      ],
      "metadata": {
        "colab": {
          "base_uri": "https://localhost:8080/"
        },
        "id": "Qs4TOsaH0OIT",
        "outputId": "58926351-1749-4bd3-c4d3-108aa921627c"
      },
      "execution_count": null,
      "outputs": [
        {
          "output_type": "stream",
          "name": "stdout",
          "text": [
            "Name: Ameet, Age: 21\n"
          ]
        }
      ]
    },
    {
      "cell_type": "markdown",
      "source": [
        "25. What is the purpose of the __call__ method in Python?\n",
        "   - The __call__ method in Python allows an instance of a class to be called like a function.\n",
        "\n",
        "       * Purpose of __call__:\n",
        "          * It makes objects callable, just like functions.\n",
        "          * You can define custom behavior that happens when the object is “called”.\n",
        "\n",
        "       * Syntax  \n",
        "          * class MyClass:\n",
        "          *  def __call__(self, *args, **kwargs):         # Code that runs when the object is called\n",
        "\n",
        "  "
      ],
      "metadata": {
        "id": "af40upCx00pQ"
      }
    },
    {
      "cell_type": "code",
      "source": [
        "class Greeter:\n",
        "    def __init__(self, greeting):\n",
        "        self.greeting = greeting\n",
        "\n",
        "    def __call__(self, name):\n",
        "        print(f\"{self.greeting}, {name}!\")\n",
        "\n",
        "greet = Greeter(\"Hello\")\n",
        "greet(\"Ameet\")\n"
      ],
      "metadata": {
        "colab": {
          "base_uri": "https://localhost:8080/"
        },
        "id": "-q_eVp5N0udl",
        "outputId": "69f1d964-3cd4-4688-ac2b-7eb2c8453a3f"
      },
      "execution_count": null,
      "outputs": [
        {
          "output_type": "stream",
          "name": "stdout",
          "text": [
            "Hello, Ameet!\n"
          ]
        }
      ]
    },
    {
      "cell_type": "markdown",
      "source": [
        "# Practical Questions"
      ],
      "metadata": {
        "id": "NDaJ_ylv1db1"
      }
    },
    {
      "cell_type": "markdown",
      "source": [
        "1. . Create a parent class Animal with a method speak() that prints a generic message. Create a child class Dog\n",
        "that overrides the speak() method to print \"Bark!\"."
      ],
      "metadata": {
        "id": "c-nWfphK1e_I"
      }
    },
    {
      "cell_type": "code",
      "source": [
        "# Parent class\n",
        "class Animal:\n",
        "    def speak(self):\n",
        "        print(\"The animal makes a sound.\")\n",
        "\n",
        "# Child class\n",
        "class Dog(Animal):\n",
        "    def speak(self):\n",
        "        print(\"Bark!\")\n",
        "\n",
        "# Example usage\n",
        "generic_animal = Animal()\n",
        "generic_animal.speak()  # Output: The animal makes a sound.\n",
        "\n",
        "dog = Dog()\n",
        "dog.speak()  # Output: Bark!\n"
      ],
      "metadata": {
        "id": "lPRqZmaR1Xxg",
        "colab": {
          "base_uri": "https://localhost:8080/"
        },
        "outputId": "8f4c65f2-a8b8-472a-80fa-d472b07115a7"
      },
      "execution_count": 33,
      "outputs": [
        {
          "output_type": "stream",
          "name": "stdout",
          "text": [
            "The animal makes a sound.\n",
            "Bark!\n"
          ]
        }
      ]
    },
    {
      "cell_type": "markdown",
      "source": [
        "2. Write a program to create an abstract class Shape with a method area(). Derive classes Circle and Rectangle\n",
        "from it and implement the area() method in both.\n",
        "\n",
        "\n"
      ],
      "metadata": {
        "id": "GEmVNiZo4mNu"
      }
    },
    {
      "cell_type": "code",
      "source": [
        "from abc import ABC, abstractmethod\n",
        "import math\n",
        "\n",
        "# Abstract base class\n",
        "class Shape(ABC):\n",
        "\n",
        "    @abstractmethod\n",
        "    def area(self):\n",
        "        pass\n",
        "\n",
        "# Circle class derived from Shape\n",
        "class Circle(Shape):\n",
        "    def __init__(self, radius):\n",
        "        self.radius = radius\n",
        "\n",
        "    def area(self):\n",
        "        return math.pi * self.radius ** 2\n",
        "\n",
        "# Rectangle class derived from Shape\n",
        "class Rectangle(Shape):\n",
        "    def __init__(self, width, height):\n",
        "        self.width = width\n",
        "        self.height = height\n",
        "\n",
        "    def area(self):\n",
        "        return self.width * self.height\n",
        "\n",
        "# Example usage\n",
        "circle = Circle(5)\n",
        "print(\"Area of circle:\", circle.area())  # Output: Area of circle: 78.53981633974483\n",
        "\n",
        "rectangle = Rectangle(4, 6)\n",
        "print(\"Area of rectangle:\", rectangle.area())  # Output: Area of rectangle: 24\n"
      ],
      "metadata": {
        "colab": {
          "base_uri": "https://localhost:8080/"
        },
        "id": "6q0sOojN4igm",
        "outputId": "cc113dce-9488-45be-b37e-465f22b9b236"
      },
      "execution_count": 36,
      "outputs": [
        {
          "output_type": "stream",
          "name": "stdout",
          "text": [
            "Area of circle: 78.53981633974483\n",
            "Area of rectangle: 24\n"
          ]
        }
      ]
    },
    {
      "cell_type": "markdown",
      "source": [
        "3.  Implement a multi-level inheritance scenario where a class Vehicle has an attribute type. Derive a class Car\n",
        "and further derive a class ElectricCar that adds a battery attribute."
      ],
      "metadata": {
        "id": "jlq1SiVe5FPX"
      }
    },
    {
      "cell_type": "code",
      "source": [
        "# Base class\n",
        "class Vehicle:\n",
        "    def __init__(self, vehicle_type):\n",
        "        self.type = vehicle_type\n",
        "\n",
        "    def show_type(self):\n",
        "        print(f\"Vehicle type: {self.type}\")\n",
        "\n",
        "# Derived class from Vehicle\n",
        "class Car(Vehicle):\n",
        "    def __init__(self, vehicle_type, brand):\n",
        "        super().__init__(vehicle_type)\n",
        "        self.brand = brand\n",
        "\n",
        "    def show_brand(self):\n",
        "        print(f\"Car brand: {self.brand}\")\n",
        "\n",
        "# Derived class from Car (multi-level inheritance)\n",
        "class ElectricCar(Car):\n",
        "    def __init__(self, vehicle_type, brand, battery_capacity):\n",
        "        super().__init__(vehicle_type, brand)\n",
        "        self.battery = battery_capacity\n",
        "\n",
        "    def show_battery(self):\n",
        "        print(f\"Battery capacity: {self.battery} kWh\")\n",
        "\n",
        "# Example usage\n",
        "my_electric_car = ElectricCar(\"Electric\", \"Tesla\", 85)\n",
        "my_electric_car.show_type()      # Vehicle type: Electric\n",
        "my_electric_car.show_brand()     # Car brand: Tesla\n",
        "my_electric_car.show_battery()   # Battery capacity: 85 kWh\n"
      ],
      "metadata": {
        "colab": {
          "base_uri": "https://localhost:8080/"
        },
        "id": "GuRA6tva4t09",
        "outputId": "24c66c69-ba56-4eaf-906f-8a6ba6d4c875"
      },
      "execution_count": 37,
      "outputs": [
        {
          "output_type": "stream",
          "name": "stdout",
          "text": [
            "Vehicle type: Electric\n",
            "Car brand: Tesla\n",
            "Battery capacity: 85 kWh\n"
          ]
        }
      ]
    },
    {
      "cell_type": "markdown",
      "source": [
        "4. Demonstrate polymorphism by creating a base class Bird with a method fly(). Create two derived classes\n",
        "Sparrow and Penguin that override the fly() method."
      ],
      "metadata": {
        "id": "6kQ5Bz9c5QVt"
      }
    },
    {
      "cell_type": "code",
      "source": [
        "# Base class\n",
        "class Bird:\n",
        "    def fly(self):\n",
        "        print(\"Bird is flying.\")\n",
        "\n",
        "# Derived class Sparrow\n",
        "class Sparrow(Bird):\n",
        "    def fly(self):\n",
        "        print(\"Sparrow is flying high!\")\n",
        "\n",
        "# Derived class Penguin\n",
        "class Penguin(Bird):\n",
        "    def fly(self):\n",
        "        print(\"Penguins can't fly, but they can swim!\")\n",
        "\n",
        "# Function to demonstrate polymorphism\n",
        "def let_bird_fly(bird):\n",
        "    bird.fly()\n",
        "\n",
        "# Example usage\n",
        "bird = Bird()\n",
        "sparrow = Sparrow()\n",
        "penguin = Penguin()\n",
        "\n",
        "let_bird_fly(bird)      # Output: Bird is flying.\n",
        "let_bird_fly(sparrow)   # Output: Sparrow is flying high!\n",
        "let_bird_fly(penguin)   # Output: Penguins can't fly, but they can swim!\n"
      ],
      "metadata": {
        "colab": {
          "base_uri": "https://localhost:8080/"
        },
        "id": "y2YhnaY05OPC",
        "outputId": "eb77c202-6b5d-4369-f9b7-28fffa7589c7"
      },
      "execution_count": 38,
      "outputs": [
        {
          "output_type": "stream",
          "name": "stdout",
          "text": [
            "Bird is flying.\n",
            "Sparrow is flying high!\n",
            "Penguins can't fly, but they can swim!\n"
          ]
        }
      ]
    },
    {
      "cell_type": "markdown",
      "source": [
        "5. Write a program to demonstrate encapsulation by creating a class BankAccount with private attributes\n",
        "balance and methods to deposit, withdraw, and check balance."
      ],
      "metadata": {
        "id": "yJc4xgb55Y2J"
      }
    },
    {
      "cell_type": "code",
      "source": [
        "class BankAccount:\n",
        "    def __init__(self, initial_balance=0):\n",
        "        self.__balance = initial_balance  # Private attribute\n",
        "\n",
        "    def deposit(self, amount):\n",
        "        if amount > 0:\n",
        "            self.__balance += amount\n",
        "            print(f\"Deposited: ${amount}\")\n",
        "        else:\n",
        "            print(\"Deposit amount must be positive.\")\n",
        "\n",
        "    def withdraw(self, amount):\n",
        "        if amount > self.__balance:\n",
        "            print(\"Insufficient balance!\")\n",
        "        elif amount <= 0:\n",
        "            print(\"Withdrawal amount must be positive.\")\n",
        "        else:\n",
        "            self.__balance -= amount\n",
        "            print(f\"Withdrew: ${amount}\")\n",
        "\n",
        "    def check_balance(self):\n",
        "        print(f\"Current balance: ${self.__balance}\")\n",
        "\n",
        "# Example usage\n",
        "account = BankAccount(100)\n",
        "account.check_balance()    # Current balance: $100\n",
        "account.deposit(50)        # Deposited: $50\n",
        "account.check_balance()    # Current balance: $150\n",
        "account.withdraw(70)       # Withdrew: $70\n",
        "account.check_balance()    # Current balance: $80\n",
        "\n",
        "\n"
      ],
      "metadata": {
        "colab": {
          "base_uri": "https://localhost:8080/"
        },
        "id": "NitxxMhH5Xeq",
        "outputId": "07120bc6-b3f2-40d1-b15e-cfb01d194345"
      },
      "execution_count": 41,
      "outputs": [
        {
          "output_type": "stream",
          "name": "stdout",
          "text": [
            "Current balance: $100\n",
            "Deposited: $50\n",
            "Current balance: $150\n",
            "Withdrew: $70\n",
            "Current balance: $80\n"
          ]
        }
      ]
    },
    {
      "cell_type": "markdown",
      "source": [
        "6. Demonstrate runtime polymorphism using a method play() in a base class Instrument. Derive classes Guitar\n",
        "and Piano that implement their own version of play()."
      ],
      "metadata": {
        "id": "1nfcHM0a5ZaW"
      }
    },
    {
      "cell_type": "code",
      "source": [
        "# Base class\n",
        "class Instrument:\n",
        "    def play(self):\n",
        "        print(\"Playing an instrument.\")\n",
        "\n",
        "# Derived class Guitar\n",
        "class Guitar(Instrument):\n",
        "    def play(self):\n",
        "        print(\"Playing the guitar with strumming.\")\n",
        "\n",
        "# Derived class Piano\n",
        "class Piano(Instrument):\n",
        "    def play(self):\n",
        "        print(\"Playing the piano with keys.\")\n",
        "\n",
        "# Function to demonstrate runtime polymorphism\n",
        "def perform(instrument):\n",
        "    instrument.play()\n",
        "\n",
        "# Example usage\n",
        "instrument = Instrument()\n",
        "guitar = Guitar()\n",
        "piano = Piano()\n",
        "\n",
        "perform(instrument)  # Output: Playing an instrument.\n",
        "perform(guitar)      # Output: Playing the guitar with strumming.\n",
        "perform(piano)       # Output: Playing the piano with keys.\n"
      ],
      "metadata": {
        "colab": {
          "base_uri": "https://localhost:8080/"
        },
        "id": "9y0BmrPy5uBz",
        "outputId": "b0c9f1b6-c2e3-4218-ab3e-0352129ce4dd"
      },
      "execution_count": 42,
      "outputs": [
        {
          "output_type": "stream",
          "name": "stdout",
          "text": [
            "Playing an instrument.\n",
            "Playing the guitar with strumming.\n",
            "Playing the piano with keys.\n"
          ]
        }
      ]
    },
    {
      "cell_type": "markdown",
      "source": [
        "7. Create a class MathOperations with a class method add_numbers() to add two numbers and a static\n",
        "method subtract_numbers() to subtract two numbers."
      ],
      "metadata": {
        "id": "Vo-STz6l5wsj"
      }
    },
    {
      "cell_type": "code",
      "source": [
        "class MathOperations:\n",
        "\n",
        "    @classmethod\n",
        "    def add_numbers(cls, a, b):\n",
        "        return a + b\n",
        "\n",
        "    @staticmethod\n",
        "    def subtract_numbers(a, b):\n",
        "        return a - b\n",
        "\n",
        "# Example usage\n",
        "print(MathOperations.add_numbers(10, 5))       # Output: 15\n",
        "print(MathOperations.subtract_numbers(10, 5))  # Output: 5\n"
      ],
      "metadata": {
        "colab": {
          "base_uri": "https://localhost:8080/"
        },
        "id": "QGDWImHN5ueF",
        "outputId": "adbb7fb3-f031-4340-c306-ba9a0565ea69"
      },
      "execution_count": 43,
      "outputs": [
        {
          "output_type": "stream",
          "name": "stdout",
          "text": [
            "15\n",
            "5\n"
          ]
        }
      ]
    },
    {
      "cell_type": "markdown",
      "source": [
        "8. Implement a class Person with a class method to count the total number of persons created."
      ],
      "metadata": {
        "id": "iHoeyAcx54Yv"
      }
    },
    {
      "cell_type": "code",
      "source": [
        "class Person:\n",
        "    count = 0  # Class variable to keep track of number of instances\n",
        "\n",
        "    def __init__(self, name):\n",
        "        self.name = name\n",
        "        Person.count += 1  # Increment count whenever a new Person is created\n",
        "\n",
        "    @classmethod\n",
        "    def total_persons(cls):\n",
        "        return cls.count\n",
        "\n",
        "# Example usage\n",
        "p1 = Person(\"Alice\")\n",
        "p2 = Person(\"Bob\")\n",
        "p3 = Person(\"Charlie\")\n",
        "\n",
        "print(\"Total persons created:\", Person.total_persons())  # Output: Total persons created: 3\n"
      ],
      "metadata": {
        "colab": {
          "base_uri": "https://localhost:8080/"
        },
        "id": "Toj1Dbci51fr",
        "outputId": "117b2aad-8b84-4c9b-fff4-1349b8d7bdba"
      },
      "execution_count": 44,
      "outputs": [
        {
          "output_type": "stream",
          "name": "stdout",
          "text": [
            "Total persons created: 3\n"
          ]
        }
      ]
    },
    {
      "cell_type": "markdown",
      "source": [
        "9. Write a class Fraction with attributes numerator and denominator. Override the str method to display the\n",
        "fraction as \"numerator/denominator\"."
      ],
      "metadata": {
        "id": "FAbSA0Rn5_T_"
      }
    },
    {
      "cell_type": "code",
      "source": [
        "class Fraction:\n",
        "    def __init__(self, numerator, denominator):\n",
        "        self.numerator = numerator\n",
        "        self.denominator = denominator\n",
        "\n",
        "    def __str__(self):\n",
        "        return f\"{self.numerator}/{self.denominator}\"\n",
        "\n",
        "# Example usage\n",
        "frac = Fraction(3, 4)\n",
        "print(frac)  # Output: 3/4\n"
      ],
      "metadata": {
        "colab": {
          "base_uri": "https://localhost:8080/"
        },
        "id": "KFp9t1Ek58hu",
        "outputId": "b80ae861-32e4-4375-a64d-2023d45f59b4"
      },
      "execution_count": 45,
      "outputs": [
        {
          "output_type": "stream",
          "name": "stdout",
          "text": [
            "3/4\n"
          ]
        }
      ]
    },
    {
      "cell_type": "markdown",
      "source": [
        "10. Demonstrate operator overloading by creating a class Vector and overriding the add method to add two\n",
        "vectors."
      ],
      "metadata": {
        "id": "N_4lSR-q6GWT"
      }
    },
    {
      "cell_type": "code",
      "source": [
        "class Vector:\n",
        "    def __init__(self, x, y):\n",
        "        self.x = x\n",
        "        self.y = y\n",
        "\n",
        "    def __add__(self, other):\n",
        "        if isinstance(other, Vector):\n",
        "            return Vector(self.x + other.x, self.y + other.y)\n",
        "        return NotImplemented\n",
        "\n",
        "    def __str__(self):\n",
        "        return f\"Vector({self.x}, {self.y})\"\n",
        "\n",
        "# Example usage\n",
        "v1 = Vector(2, 3)\n",
        "v2 = Vector(4, 5)\n",
        "v3 = v1 + v2  # Uses overloaded + operator\n",
        "\n",
        "print(v3)  # Output: Vector(6, 8)\n"
      ],
      "metadata": {
        "colab": {
          "base_uri": "https://localhost:8080/"
        },
        "id": "3LgzPFJS6EJa",
        "outputId": "38e86466-4aa0-4064-a36a-b7560f43ff7d"
      },
      "execution_count": 46,
      "outputs": [
        {
          "output_type": "stream",
          "name": "stdout",
          "text": [
            "Vector(6, 8)\n"
          ]
        }
      ]
    },
    {
      "cell_type": "markdown",
      "source": [
        "11. Create a class Person with attributes name and age. Add a method greet() that prints \"Hello, my name is\n",
        "{name} and I am {age} years old.\""
      ],
      "metadata": {
        "id": "a0Tx9f1_6MqW"
      }
    },
    {
      "cell_type": "code",
      "source": [
        "class Person:\n",
        "    def __init__(self, name, age):\n",
        "        self.name = name\n",
        "        self.age = age\n",
        "\n",
        "    def greet(self):\n",
        "        print(f\"Hello, my name is {self.name} and I am {self.age} years old.\")\n",
        "\n",
        "# Example usage\n",
        "person = Person(\"Ameet\", 21)\n",
        "person.greet()  # Output: Hello, my name is Alice and I am 30 years old.\n"
      ],
      "metadata": {
        "colab": {
          "base_uri": "https://localhost:8080/"
        },
        "id": "ncs6d9I06LmW",
        "outputId": "67d37b54-273f-4e18-8215-45e1be183328"
      },
      "execution_count": 48,
      "outputs": [
        {
          "output_type": "stream",
          "name": "stdout",
          "text": [
            "Hello, my name is Ameet and I am 21 years old.\n"
          ]
        }
      ]
    },
    {
      "cell_type": "markdown",
      "source": [
        "12. Implement a class Student with attributes name and grades. Create a method average_grade() to compute\n",
        "the average of the grades."
      ],
      "metadata": {
        "id": "jShErLf26Vhy"
      }
    },
    {
      "cell_type": "code",
      "source": [
        "class Student:\n",
        "    def __init__(self, name, grades):\n",
        "        self.name = name\n",
        "        self.grades = grades  # Expecting a list of numbers\n",
        "\n",
        "    def average_grade(self):\n",
        "        if not self.grades:\n",
        "            return 0  # Avoid division by zero if no grades\n",
        "        return sum(self.grades) / len(self.grades)\n",
        "\n",
        "# Example usage\n",
        "student = Student(\"Ameet\", [85, 92, 78, 90])\n",
        "print(f\"{student.name}'s average grade is {student.average_grade():.2f}\")\n",
        "# Output: Ameet average grade is 86.25\n"
      ],
      "metadata": {
        "colab": {
          "base_uri": "https://localhost:8080/"
        },
        "id": "sEdvrXNO6Qbp",
        "outputId": "c8316229-58a5-4b33-c504-8fb6c8e6eea6"
      },
      "execution_count": 50,
      "outputs": [
        {
          "output_type": "stream",
          "name": "stdout",
          "text": [
            "Ameet's average grade is 86.25\n"
          ]
        }
      ]
    },
    {
      "cell_type": "markdown",
      "source": [
        "13. Create a class Rectangle with methods set_dimensions() to set the dimensions and area() to calculate the\n",
        "area."
      ],
      "metadata": {
        "id": "-C2cnXoX6kDV"
      }
    },
    {
      "cell_type": "code",
      "source": [
        "class Rectangle:\n",
        "    def __init__(self):\n",
        "        self.width = 0\n",
        "        self.height = 0\n",
        "\n",
        "    def set_dimensions(self, width, height):\n",
        "        self.width = width\n",
        "        self.height = height\n",
        "\n",
        "    def area(self):\n",
        "        return self.width * self.height\n",
        "\n",
        "# Example usage\n",
        "rect = Rectangle()\n",
        "rect.set_dimensions(5, 7)\n",
        "print(\"Area of rectangle:\", rect.area())  # Output: Area of rectangle: 35\n"
      ],
      "metadata": {
        "colab": {
          "base_uri": "https://localhost:8080/"
        },
        "id": "Zr-4Zax46bTR",
        "outputId": "b20bd25b-6c0f-4e57-ccc5-f063336d3067"
      },
      "execution_count": 51,
      "outputs": [
        {
          "output_type": "stream",
          "name": "stdout",
          "text": [
            "Area of rectangle: 35\n"
          ]
        }
      ]
    },
    {
      "cell_type": "markdown",
      "source": [
        "14. Create a class Employee with a method calculate_salary() that computes the salary based on hours worked\n",
        "and hourly rate. Create a derived class Manager that adds a bonus to the salary"
      ],
      "metadata": {
        "id": "627orvpJ6v16"
      }
    },
    {
      "cell_type": "code",
      "source": [
        "class Employee:\n",
        "    def __init__(self, name, hours_worked, hourly_rate):\n",
        "        self.name = name\n",
        "        self.hours_worked = hours_worked\n",
        "        self.hourly_rate = hourly_rate\n",
        "\n",
        "    def calculate_salary(self):\n",
        "        return self.hours_worked * self.hourly_rate\n",
        "\n",
        "class Manager(Employee):\n",
        "    def __init__(self, name, hours_worked, hourly_rate, bonus):\n",
        "        super().__init__(name, hours_worked, hourly_rate)\n",
        "        self.bonus = bonus\n",
        "\n",
        "    def calculate_salary(self):\n",
        "        base_salary = super().calculate_salary()\n",
        "        return base_salary + self.bonus\n",
        "\n",
        "# Example usage\n",
        "employee = Employee(\"Ameet\", 40, 20)\n",
        "manager = Manager(\"Pavan\", 40, 30, 500)\n",
        "\n",
        "print(f\"{employee.name}'s salary: ${employee.calculate_salary()}\")  # Output: John's salary: $800\n",
        "print(f\"{manager.name}'s salary: ${manager.calculate_salary()}\")    # Output: Alice's salary: $1700\n"
      ],
      "metadata": {
        "colab": {
          "base_uri": "https://localhost:8080/"
        },
        "id": "T5vionUZ6rG1",
        "outputId": "acfaf18c-1a71-4de7-ab1f-67905ffe5811"
      },
      "execution_count": 53,
      "outputs": [
        {
          "output_type": "stream",
          "name": "stdout",
          "text": [
            "Ameet's salary: $800\n",
            "Pavan's salary: $1700\n"
          ]
        }
      ]
    },
    {
      "cell_type": "markdown",
      "source": [
        "15. Create a class Product with attributes name, price, and quantity. Implement a method total_price() that\n",
        "calculates the total price of the product"
      ],
      "metadata": {
        "id": "KPK-D06q6zI8"
      }
    },
    {
      "cell_type": "code",
      "source": [
        "class Product:\n",
        "    def __init__(self, name, price, quantity):\n",
        "        self.name = name\n",
        "        self.price = price\n",
        "        self.quantity = quantity\n",
        "\n",
        "    def total_price(self):\n",
        "        return self.price * self.quantity\n",
        "\n",
        "# Example usage\n",
        "product = Product(\"Laptop\", 1200, 3)\n",
        "print(f\"Total price for {product.quantity} {product.name}s: ${product.total_price()}\")\n",
        "# Output: Total price for 3 Laptops: $3600\n"
      ],
      "metadata": {
        "colab": {
          "base_uri": "https://localhost:8080/"
        },
        "id": "YHyARy366_Df",
        "outputId": "c933eeb0-dadf-40c2-96d6-8b9abc2a7677"
      },
      "execution_count": 54,
      "outputs": [
        {
          "output_type": "stream",
          "name": "stdout",
          "text": [
            "Total price for 3 Laptops: $3600\n"
          ]
        }
      ]
    },
    {
      "cell_type": "markdown",
      "source": [
        "16. Create a class Animal with an abstract method sound(). Create two derived classes Cow and Sheep that\n",
        "implement the sound() method."
      ],
      "metadata": {
        "id": "4sBTWQeu7Euj"
      }
    },
    {
      "cell_type": "code",
      "source": [
        "from abc import ABC, abstractmethod\n",
        "\n",
        "class Animal(ABC):\n",
        "    @abstractmethod\n",
        "    def sound(self):\n",
        "        pass\n",
        "\n",
        "class Cow(Animal):\n",
        "    def sound(self):\n",
        "        print(\"Moo\")\n",
        "\n",
        "class Sheep(Animal):\n",
        "    def sound(self):\n",
        "        print(\"Baa\")\n",
        "\n",
        "# Example usage\n",
        "cow = Cow()\n",
        "sheep = Sheep()\n",
        "\n",
        "cow.sound()    # Output: Moo\n",
        "sheep.sound()  # Output: Baa\n"
      ],
      "metadata": {
        "colab": {
          "base_uri": "https://localhost:8080/"
        },
        "id": "TxPKu0Cn7CYQ",
        "outputId": "c216f2a1-0af6-496a-94d9-78786cdac5dd"
      },
      "execution_count": 55,
      "outputs": [
        {
          "output_type": "stream",
          "name": "stdout",
          "text": [
            "Moo\n",
            "Baa\n"
          ]
        }
      ]
    },
    {
      "cell_type": "markdown",
      "source": [
        "17. Create a class Book with attributes title, author, and year_published. Add a method get_book_info() that\n",
        "returns a formatted string with the book's details."
      ],
      "metadata": {
        "id": "tMDExFNC7Lsr"
      }
    },
    {
      "cell_type": "code",
      "source": [
        "class Book:\n",
        "    def __init__(self, title, author, year_published):\n",
        "        self.title = title\n",
        "        self.author = author\n",
        "        self.year_published = year_published\n",
        "\n",
        "    def get_book_info(self):\n",
        "        return f\"'{self.title}' by {self.author}, published in {self.year_published}\"\n",
        "\n",
        "# Example usage\n",
        "book = Book(\"To Kill a Mockingbird\", \"Harper Lee\", 1960)\n",
        "print(book.get_book_info())\n",
        "# Output: 'To Kill a Mockingbird' by Harper Lee, published in 1960\n"
      ],
      "metadata": {
        "colab": {
          "base_uri": "https://localhost:8080/"
        },
        "id": "qMety9Py7J9c",
        "outputId": "aa5bb791-4b6e-4d0b-92f5-c61644e7e762"
      },
      "execution_count": 56,
      "outputs": [
        {
          "output_type": "stream",
          "name": "stdout",
          "text": [
            "'To Kill a Mockingbird' by Harper Lee, published in 1960\n"
          ]
        }
      ]
    },
    {
      "cell_type": "markdown",
      "source": [
        "18. Create a class House with attributes address and price. Create a derived class Mansion that adds an\n",
        "attribute number_of_rooms."
      ],
      "metadata": {
        "id": "If3rJvNo7TIf"
      }
    },
    {
      "cell_type": "code",
      "source": [
        "class House:\n",
        "    def __init__(self, address, price):\n",
        "        self.address = address\n",
        "        self.price = price\n",
        "\n",
        "    def display_info(self):\n",
        "        print(f\"Address: {self.address}\")\n",
        "        print(f\"Price: ${self.price}\")\n",
        "\n",
        "class Mansion(House):\n",
        "    def __init__(self, address, price, number_of_rooms):\n",
        "        super().__init__(address, price)\n",
        "        self.number_of_rooms = number_of_rooms\n",
        "\n",
        "    def display_info(self):\n",
        "        super().display_info()\n",
        "        print(f\"Number of rooms: {self.number_of_rooms}\")\n",
        "\n",
        "# Example usage\n",
        "house = House(\"123 Maple Street\", 250000)\n",
        "mansion = Mansion(\"456 Oak Avenue\", 1250000, 12)\n",
        "\n",
        "house.display_info()\n",
        "# Output:\n",
        "# Address: 123 Maple Street\n",
        "# Price: $250000\n",
        "\n",
        "print()\n",
        "\n",
        "mansion.display_info()\n",
        "# Output:\n",
        "# Address: 456 Oak Avenue\n",
        "# Price: $1250000\n",
        "# Number of rooms: 12\n"
      ],
      "metadata": {
        "colab": {
          "base_uri": "https://localhost:8080/"
        },
        "id": "T4eALoPL7QVn",
        "outputId": "34858636-46b1-4e24-9b0c-338f796e888c"
      },
      "execution_count": 57,
      "outputs": [
        {
          "output_type": "stream",
          "name": "stdout",
          "text": [
            "Address: 123 Maple Street\n",
            "Price: $250000\n",
            "\n",
            "Address: 456 Oak Avenue\n",
            "Price: $1250000\n",
            "Number of rooms: 12\n"
          ]
        }
      ]
    },
    {
      "cell_type": "code",
      "source": [],
      "metadata": {
        "id": "_l8gF5CG7Y5D"
      },
      "execution_count": null,
      "outputs": []
    }
  ]
}